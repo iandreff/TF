{
 "cells": [
  {
   "cell_type": "markdown",
   "metadata": {
    "colab_type": "text",
    "id": "Lg2hLK7hlWdb"
   },
   "source": [
    "# Classifying Fashion-MNIST\n",
    "\n",
    "Now it's your turn to build and train a neural network. You'll be using the [Fashion-MNIST dataset](https://github.com/zalandoresearch/fashion-mnist), a drop-in replacement for the MNIST dataset. MNIST is actually quite trivial with neural networks where you can easily achieve better than 97% accuracy. Fashion-MNIST is a set of 28x28 greyscale images of clothes. It's more complex than MNIST, so it's a better representation of the actual performance of your network, and a better representation of datasets you'll use in the real world.\n",
    "\n",
    "<img src='assets/fashion-mnist-sprite.png' width=500px>\n",
    "\n",
    "In this notebook, you'll build your own neural network. For the most part, you could just copy and paste the code from Part 3, but you wouldn't be learning. It's important for you to write the code yourself and get it to work. Feel free to consult the previous notebooks though as you work through this.\n",
    "\n",
    "First off, let's import our resources and download the Fashion-MNIST dataset from `tensorflow_datasets`. "
   ]
  },
  {
   "cell_type": "markdown",
   "metadata": {
    "colab_type": "text",
    "id": "EMflYTIOtOPf"
   },
   "source": [
    "## Import Resources"
   ]
  },
  {
   "cell_type": "code",
   "execution_count": 1,
   "metadata": {},
   "outputs": [],
   "source": [
    "import warnings\n",
    "warnings.filterwarnings('ignore')"
   ]
  },
  {
   "cell_type": "code",
   "execution_count": 2,
   "metadata": {
    "colab": {},
    "colab_type": "code",
    "id": "U0n2QWj1p2fG"
   },
   "outputs": [],
   "source": [
    "%matplotlib inline\n",
    "%config InlineBackend.figure_format = 'retina'\n",
    "\n",
    "import numpy as np\n",
    "import matplotlib.pyplot as plt\n",
    "\n",
    "import tensorflow as tf\n",
    "import tensorflow_datasets as tfds\n",
    "tfds.disable_progress_bar()"
   ]
  },
  {
   "cell_type": "code",
   "execution_count": 3,
   "metadata": {},
   "outputs": [],
   "source": [
    "import logging\n",
    "logger = tf.get_logger()\n",
    "logger.setLevel(logging.ERROR)"
   ]
  },
  {
   "cell_type": "code",
   "execution_count": 4,
   "metadata": {
    "colab": {
     "base_uri": "https://localhost:8080/",
     "height": 85
    },
    "colab_type": "code",
    "id": "FwP1_Qw-cCsY",
    "outputId": "5cc63000-690c-4063-d0c4-2f242819ccac"
   },
   "outputs": [
    {
     "name": "stdout",
     "output_type": "stream",
     "text": [
      "Using:\n",
      "\t• TensorFlow version: 2.4.0\n",
      "\t• tf.keras version: 2.4.0\n",
      "\t• GPU device not found. Running on CPU\n"
     ]
    }
   ],
   "source": [
    "print('Using:')\n",
    "print('\\t\\u2022 TensorFlow version:', tf.__version__)\n",
    "print('\\t\\u2022 tf.keras version:', tf.keras.__version__)\n",
    "print('\\t\\u2022 Running on GPU' if tf.test.is_gpu_available() else '\\t\\u2022 GPU device not found. Running on CPU')"
   ]
  },
  {
   "cell_type": "markdown",
   "metadata": {
    "colab_type": "text",
    "id": "Vr2SOjl8txrZ"
   },
   "source": [
    "## Load the Dataset\n",
    "\n",
    "We are now going to load the Fashion-MNIST dataset using `tensorflow_datasets` as we've done before. In this case, however, we are going to omit the `split` argument.  This means that `tensorflow_datasets` will use the default value for `split` which is `split=None`. When `split=None`, `tensorflow_datasets` returns a **dictionary** with all the splits available for the dataset you are loading. However, if the split is given explicitly, such as `split='train'`, then `tensorflow_datasets` returns a `tf.data.Dataset` object.\n",
    "\n",
    "In our case, we are going to load the `fashion_mnist` dataset. If we look at the [documentation](https://www.tensorflow.org/datasets/catalog/fashion_mnist#statistics) we will see that this particular dataset has 2 splits, namely a `train` and a `test` slipt. We also see that the `train` split has 60,000 examples, and that the `test` split has 10,000 examples. \n",
    "\n",
    "Now, let's load the `fashion_mnist` dataset and inspect the returned values."
   ]
  },
  {
   "cell_type": "code",
   "execution_count": 5,
   "metadata": {
    "colab": {
     "base_uri": "https://localhost:8080/",
     "height": 54
    },
    "colab_type": "code",
    "id": "1kn4Op7dXCnk",
    "outputId": "cd83ee11-b25e-4df2-dbf7-2026fd2049da"
   },
   "outputs": [],
   "source": [
    "dataset, dataset_info = tfds.load('fashion_mnist', as_supervised = True, with_info = True)"
   ]
  },
  {
   "cell_type": "code",
   "execution_count": 6,
   "metadata": {
    "colab": {
     "base_uri": "https://localhost:8080/",
     "height": 68
    },
    "colab_type": "code",
    "id": "2_vT6HUUXg05",
    "outputId": "fcdf4d7e-d14b-491b-b6c1-235823d67875"
   },
   "outputs": [
    {
     "name": "stdout",
     "output_type": "stream",
     "text": [
      "dataset has type: <class 'dict'>\n",
      "\n",
      "The keys of dataset are: ['train', 'test']\n"
     ]
    }
   ],
   "source": [
    "# Check that dataset is a dictionary\n",
    "print('dataset has type:', type(dataset))\n",
    "\n",
    "# Print the keys of the dataset dictionary\n",
    "print('\\nThe keys of dataset are:', list(dataset.keys()))"
   ]
  },
  {
   "cell_type": "markdown",
   "metadata": {
    "colab_type": "text",
    "id": "6S4f2J9jbpak"
   },
   "source": [
    "In the cell below, we are going to save the training data and the test data into different variables."
   ]
  },
  {
   "cell_type": "code",
   "execution_count": 7,
   "metadata": {
    "colab": {},
    "colab_type": "code",
    "id": "kxo7PHJys18t"
   },
   "outputs": [],
   "source": [
    "training_set, test_set = dataset['train'], dataset['test']"
   ]
  },
  {
   "cell_type": "markdown",
   "metadata": {
    "colab_type": "text",
    "id": "zzZciG_KcHbI"
   },
   "source": [
    "Now, let's take a look at the `dataset_info`"
   ]
  },
  {
   "cell_type": "code",
   "execution_count": 8,
   "metadata": {
    "colab": {
     "base_uri": "https://localhost:8080/",
     "height": 598
    },
    "colab_type": "code",
    "id": "7jFE3vbebU-A",
    "outputId": "faaf389e-4d0b-4d51-f565-34aba4ae5cfd"
   },
   "outputs": [
    {
     "data": {
      "text/plain": [
       "tfds.core.DatasetInfo(\n",
       "    name='fashion_mnist',\n",
       "    full_name='fashion_mnist/3.0.1',\n",
       "    description=\"\"\"\n",
       "    Fashion-MNIST is a dataset of Zalando's article images consisting of a training set of 60,000 examples and a test set of 10,000 examples. Each example is a 28x28 grayscale image, associated with a label from 10 classes.\n",
       "    \"\"\",\n",
       "    homepage='https://github.com/zalandoresearch/fashion-mnist',\n",
       "    data_path='C:\\\\Users\\\\iandr\\\\tensorflow_datasets\\\\fashion_mnist\\\\3.0.1',\n",
       "    download_size=29.45 MiB,\n",
       "    dataset_size=36.42 MiB,\n",
       "    features=FeaturesDict({\n",
       "        'image': Image(shape=(28, 28, 1), dtype=tf.uint8),\n",
       "        'label': ClassLabel(shape=(), dtype=tf.int64, num_classes=10),\n",
       "    }),\n",
       "    supervised_keys=('image', 'label'),\n",
       "    splits={\n",
       "        'test': <SplitInfo num_examples=10000, num_shards=1>,\n",
       "        'train': <SplitInfo num_examples=60000, num_shards=1>,\n",
       "    },\n",
       "    citation=\"\"\"@article{DBLP:journals/corr/abs-1708-07747,\n",
       "      author    = {Han Xiao and\n",
       "                   Kashif Rasul and\n",
       "                   Roland Vollgraf},\n",
       "      title     = {Fashion-MNIST: a Novel Image Dataset for Benchmarking Machine Learning\n",
       "                   Algorithms},\n",
       "      journal   = {CoRR},\n",
       "      volume    = {abs/1708.07747},\n",
       "      year      = {2017},\n",
       "      url       = {http://arxiv.org/abs/1708.07747},\n",
       "      archivePrefix = {arXiv},\n",
       "      eprint    = {1708.07747},\n",
       "      timestamp = {Mon, 13 Aug 2018 16:47:27 +0200},\n",
       "      biburl    = {https://dblp.org/rec/bib/journals/corr/abs-1708-07747},\n",
       "      bibsource = {dblp computer science bibliography, https://dblp.org}\n",
       "    }\"\"\",\n",
       ")"
      ]
     },
     "execution_count": 8,
     "metadata": {},
     "output_type": "execute_result"
    }
   ],
   "source": [
    "# Display the dataset_info\n",
    "dataset_info"
   ]
  },
  {
   "cell_type": "markdown",
   "metadata": {
    "colab_type": "text",
    "id": "0_If36cti685"
   },
   "source": [
    "We can access the information in `dataset_info` very easily. As we can see, the `features` and `splits` info are contained in dictionaries. We can access the information we want by accessing the particular key and value in these dictionaries. We start by looking at the values of particular keys in these dictionaries:"
   ]
  },
  {
   "cell_type": "code",
   "execution_count": 9,
   "metadata": {
    "colab": {
     "base_uri": "https://localhost:8080/",
     "height": 34
    },
    "colab_type": "code",
    "id": "6KtD7j5HgTkn",
    "outputId": "926d32e3-644b-45ff-c86e-119663fcabc6"
   },
   "outputs": [
    {
     "data": {
      "text/plain": [
       "Image(shape=(28, 28, 1), dtype=tf.uint8)"
      ]
     },
     "execution_count": 9,
     "metadata": {},
     "output_type": "execute_result"
    }
   ],
   "source": [
    "dataset_info.features['image']"
   ]
  },
  {
   "cell_type": "code",
   "execution_count": 10,
   "metadata": {
    "colab": {
     "base_uri": "https://localhost:8080/",
     "height": 34
    },
    "colab_type": "code",
    "id": "l_QXhcTOiQ1a",
    "outputId": "53da5e37-9e6e-45ee-c395-81166c3e6e5c"
   },
   "outputs": [
    {
     "data": {
      "text/plain": [
       "ClassLabel(shape=(), dtype=tf.int64, num_classes=10)"
      ]
     },
     "execution_count": 10,
     "metadata": {},
     "output_type": "execute_result"
    }
   ],
   "source": [
    "dataset_info.features['label']"
   ]
  },
  {
   "cell_type": "code",
   "execution_count": 11,
   "metadata": {
    "colab": {
     "base_uri": "https://localhost:8080/",
     "height": 34
    },
    "colab_type": "code",
    "id": "gGn6yzTxgKwj",
    "outputId": "442c79f6-a5c6-4d4c-8b84-7f2d93778d81"
   },
   "outputs": [
    {
     "data": {
      "text/plain": [
       "<SplitInfo num_examples=60000, num_shards=1>"
      ]
     },
     "execution_count": 11,
     "metadata": {},
     "output_type": "execute_result"
    }
   ],
   "source": [
    "dataset_info.splits['train']"
   ]
  },
  {
   "cell_type": "markdown",
   "metadata": {
    "colab_type": "text",
    "id": "MFwhpPOijumG"
   },
   "source": [
    "We can now use dot notation to access the information we want. Below are some examples. "
   ]
  },
  {
   "cell_type": "code",
   "execution_count": 12,
   "metadata": {
    "colab": {
     "base_uri": "https://localhost:8080/",
     "height": 102
    },
    "colab_type": "code",
    "id": "m9_OYPHsbbcl",
    "outputId": "9b7e79ce-1932-443c-85b9-1dca8b55eade"
   },
   "outputs": [
    {
     "name": "stdout",
     "output_type": "stream",
     "text": [
      "There are 10 classes in our dataset\n",
      "The images in our dataset have shape: (28, 28, 1)\n",
      "\n",
      "There are 10,000 images in the test set\n",
      "There are 60,000 images in the training set\n"
     ]
    }
   ],
   "source": [
    "shape_images = dataset_info.features['image'].shape\n",
    "num_classes = dataset_info.features['label'].num_classes\n",
    "\n",
    "num_training_examples  = dataset_info.splits['train'].num_examples\n",
    "num_test_examples = dataset_info.splits['test'].num_examples\n",
    "\n",
    "print('There are {:,} classes in our dataset'.format(num_classes))\n",
    "print('The images in our dataset have shape:', shape_images)\n",
    "\n",
    "print('\\nThere are {:,} images in the test set'.format(num_test_examples))\n",
    "print('There are {:,} images in the training set'.format(num_training_examples))"
   ]
  },
  {
   "cell_type": "markdown",
   "metadata": {
    "colab_type": "text",
    "id": "nfMgIb3PvWXo"
   },
   "source": [
    "## Explore the Dataset\n",
    "\n",
    "The images in this dataset are 28 $\\times$ 28 arrays, with pixel values in the range `[0, 255]`. The *labels* are an array of integers, in the range `[0, 9]`. These correspond to the *class* of clothing the image represents:\n",
    "\n",
    "<table>\n",
    "  <tr>\n",
    "    <th>Label</th>\n",
    "    <th>Class</th> \n",
    "  </tr>\n",
    "  <tr>\n",
    "    <td>0</td>\n",
    "    <td>T-shirt/top</td> \n",
    "  </tr>\n",
    "  <tr>\n",
    "    <td>1</td>\n",
    "    <td>Trouser</td> \n",
    "  </tr>\n",
    "    <tr>\n",
    "    <td>2</td>\n",
    "    <td>Pullover</td> \n",
    "  </tr>\n",
    "    <tr>\n",
    "    <td>3</td>\n",
    "    <td>Dress</td> \n",
    "  </tr>\n",
    "    <tr>\n",
    "    <td>4</td>\n",
    "    <td>Coat</td> \n",
    "  </tr>\n",
    "    <tr>\n",
    "    <td>5</td>\n",
    "    <td>Sandal</td> \n",
    "  </tr>\n",
    "    <tr>\n",
    "    <td>6</td>\n",
    "    <td>Shirt</td> \n",
    "  </tr>\n",
    "    <tr>\n",
    "    <td>7</td>\n",
    "    <td>Sneaker</td> \n",
    "  </tr>\n",
    "    <tr>\n",
    "    <td>8</td>\n",
    "    <td>Bag</td> \n",
    "  </tr>\n",
    "    <tr>\n",
    "    <td>9</td>\n",
    "    <td>Ankle boot</td> \n",
    "  </tr>\n",
    "</table>\n",
    "\n",
    "Each image is mapped to a single label. Since the *class names* are not included with the dataset, we create them here to use later when plotting the images:"
   ]
  },
  {
   "cell_type": "code",
   "execution_count": 13,
   "metadata": {
    "colab": {},
    "colab_type": "code",
    "id": "odzN3aJjusED"
   },
   "outputs": [],
   "source": [
    "class_names = ['T-shirt/top', 'Trouser', 'Pullover', 'Dress', 'Coat', \n",
    "               'Sandal',      'Shirt',   'Sneaker',  'Bag',   'Ankle boot']"
   ]
  },
  {
   "cell_type": "code",
   "execution_count": 14,
   "metadata": {
    "colab": {
     "base_uri": "https://localhost:8080/",
     "height": 68
    },
    "colab_type": "code",
    "id": "RoY1HeJJyces",
    "outputId": "c6d817e3-4150-4f8f-8b28-298b0936e794"
   },
   "outputs": [
    {
     "name": "stdout",
     "output_type": "stream",
     "text": [
      "The images in the training set have:\n",
      "• dtype: <dtype: 'uint8'> \n",
      "• shape: (28, 28, 1)\n"
     ]
    }
   ],
   "source": [
    "for image, label in training_set.take(1):\n",
    "    print('The images in the training set have:\\n\\u2022 dtype:', image.dtype, '\\n\\u2022 shape:', image.shape)"
   ]
  },
  {
   "cell_type": "code",
   "execution_count": 15,
   "metadata": {
    "colab": {
     "base_uri": "https://localhost:8080/",
     "height": 301
    },
    "colab_type": "code",
    "id": "CInprnnJ1_gk",
    "outputId": "aa2945e1-9f33-4d2e-8191-a47dd7dbb29f"
   },
   "outputs": [
    {
     "data": {
      "image/png": "[encoded data removed]",
      "text/plain": [
       "<Figure size 432x288 with 2 Axes>"
      ]
     },
     "metadata": {
      "image/png": {
       "height": 248,
       "width": 305
      },
      "needs_background": "light"
     },
     "output_type": "display_data"
    },
    {
     "name": "stdout",
     "output_type": "stream",
     "text": [
      "The label of this image is: 2\n",
      "The class name of this image is: Pullover\n"
     ]
    }
   ],
   "source": [
    "for image, label in training_set.take(1):\n",
    "    image = image.numpy().squeeze()\n",
    "    label = label.numpy()\n",
    "\n",
    "plt.imshow(image, cmap= plt.cm.binary)\n",
    "plt.colorbar()\n",
    "plt.show()\n",
    "\n",
    "print('The label of this image is:', label)\n",
    "print('The class name of this image is:', class_names[label])"
   ]
  },
  {
   "cell_type": "markdown",
   "metadata": {
    "colab_type": "text",
    "id": "Hb-lmuTM35C9"
   },
   "source": [
    "## Create Pipeline"
   ]
  },
  {
   "cell_type": "code",
   "execution_count": 16,
   "metadata": {
    "colab": {},
    "colab_type": "code",
    "id": "3gq-_mXl3ZFG"
   },
   "outputs": [],
   "source": [
    "def normalize(image, label):\n",
    "    image = tf.cast(image, tf.float32)\n",
    "    image /= 255\n",
    "    return image, label\n",
    "\n",
    "batch_size = 64\n",
    "\n",
    "training_batches = training_set.cache().shuffle(num_training_examples//4).batch(batch_size).map(normalize).prefetch(1)\n",
    "testing_batches = test_set.cache().batch(batch_size).map(normalize).prefetch(1)"
   ]
  },
  {
   "cell_type": "markdown",
   "metadata": {
    "colab_type": "text",
    "id": "LviX4-ii8js7"
   },
   "source": [
    "## Build the Model\n",
    "\n",
    "> **Exercise:** Here you should define your own neural network. Feel free to create a model with as many layers and neurons as you like. You should keep in mind that as with MNIST, each image is 28 $\\times$ 28 which is a total of 784 pixels, and there are 10 classes. Your model should include at least one hidden layer. We suggest you use ReLU activation functions for the hidden layers and a softmax activation function for the output layer."
   ]
  },
  {
   "cell_type": "code",
   "execution_count": 24,
   "metadata": {
    "colab": {},
    "colab_type": "code",
    "id": "OYzFZ3jQ8azd"
   },
   "outputs": [],
   "source": [
    "## Solution\n",
    "my_model = tf.keras.Sequential([\n",
    "        tf.keras.layers.Flatten(input_shape = (28, 28, 1)),\n",
    "        tf.keras.layers.Dense(256, activation = 'relu'),\n",
    "        tf.keras.layers.Dense(128, activation = 'relu'),\n",
    "        tf.keras.layers.Dense(10, activation = 'softmax')\n",
    "])"
   ]
  },
  {
   "cell_type": "markdown",
   "metadata": {
    "colab_type": "text",
    "id": "CYhwsFzA-Aah"
   },
   "source": [
    "## Train the Model\n",
    "\n",
    "> **Exercise:** Compile the model you created above using an `adam` optimizer, a `sparse_categorical_crossentropy` loss function, and the `accuracy` metric. Then train the model for 5 epochs. You should be able to get the training loss below 0.4."
   ]
  },
  {
   "cell_type": "code",
   "execution_count": 25,
   "metadata": {
    "colab": {
     "base_uri": "https://localhost:8080/",
     "height": 187
    },
    "colab_type": "code",
    "id": "Cyy9SqTU91IS",
    "outputId": "e8823c12-e7c0-4397-8126-2cb29e8be66a"
   },
   "outputs": [
    {
     "name": "stdout",
     "output_type": "stream",
     "text": [
      "Epoch 1/5\n",
      "938/938 [==============================] - ETA: 8:51 - loss: 2.4318 - accuracy: 0.12 - ETA: 6s - loss: 2.0632 - accuracy: 0.3221 - ETA: 5s - loss: 1.8322 - accuracy: 0.40 - ETA: 5s - loss: 1.6635 - accuracy: 0.45 - ETA: 5s - loss: 1.5408 - accuracy: 0.49 - ETA: 5s - loss: 1.4355 - accuracy: 0.53 - ETA: 5s - loss: 1.3535 - accuracy: 0.55 - ETA: 5s - loss: 1.2806 - accuracy: 0.58 - ETA: 5s - loss: 1.2329 - accuracy: 0.59 - ETA: 5s - loss: 1.2013 - accuracy: 0.60 - ETA: 5s - loss: 1.1643 - accuracy: 0.61 - ETA: 5s - loss: 1.1401 - accuracy: 0.62 - ETA: 5s - loss: 1.1184 - accuracy: 0.63 - ETA: 5s - loss: 1.0895 - accuracy: 0.63 - ETA: 5s - loss: 1.0667 - accuracy: 0.64 - ETA: 5s - loss: 1.0437 - accuracy: 0.65 - ETA: 5s - loss: 1.0252 - accuracy: 0.65 - ETA: 5s - loss: 1.0062 - accuracy: 0.66 - ETA: 5s - loss: 0.9886 - accuracy: 0.66 - ETA: 5s - loss: 0.9725 - accuracy: 0.67 - ETA: 5s - loss: 0.9593 - accuracy: 0.67 - ETA: 4s - loss: 0.9455 - accuracy: 0.68 - ETA: 4s - loss: 0.9327 - accuracy: 0.68 - ETA: 4s - loss: 0.9210 - accuracy: 0.69 - ETA: 4s - loss: 0.9101 - accuracy: 0.69 - ETA: 4s - loss: 0.8998 - accuracy: 0.69 - ETA: 4s - loss: 0.8911 - accuracy: 0.69 - ETA: 4s - loss: 0.8819 - accuracy: 0.70 - ETA: 4s - loss: 0.8731 - accuracy: 0.70 - ETA: 4s - loss: 0.8639 - accuracy: 0.70 - ETA: 4s - loss: 0.8561 - accuracy: 0.71 - ETA: 4s - loss: 0.8486 - accuracy: 0.71 - ETA: 4s - loss: 0.8415 - accuracy: 0.71 - ETA: 4s - loss: 0.8346 - accuracy: 0.71 - ETA: 4s - loss: 0.8280 - accuracy: 0.71 - ETA: 3s - loss: 0.8211 - accuracy: 0.72 - ETA: 3s - loss: 0.8158 - accuracy: 0.72 - ETA: 3s - loss: 0.8100 - accuracy: 0.72 - ETA: 3s - loss: 0.8044 - accuracy: 0.72 - ETA: 3s - loss: 0.7990 - accuracy: 0.72 - ETA: 3s - loss: 0.7944 - accuracy: 0.72 - ETA: 3s - loss: 0.7893 - accuracy: 0.73 - ETA: 3s - loss: 0.7844 - accuracy: 0.73 - ETA: 3s - loss: 0.7802 - accuracy: 0.73 - ETA: 3s - loss: 0.7755 - accuracy: 0.73 - ETA: 3s - loss: 0.7710 - accuracy: 0.73 - ETA: 3s - loss: 0.7671 - accuracy: 0.73 - ETA: 3s - loss: 0.7629 - accuracy: 0.73 - ETA: 3s - loss: 0.7593 - accuracy: 0.74 - ETA: 3s - loss: 0.7553 - accuracy: 0.74 - ETA: 3s - loss: 0.7514 - accuracy: 0.74 - ETA: 3s - loss: 0.7472 - accuracy: 0.74 - ETA: 3s - loss: 0.7439 - accuracy: 0.74 - ETA: 2s - loss: 0.7403 - accuracy: 0.74 - ETA: 2s - loss: 0.7373 - accuracy: 0.74 - ETA: 2s - loss: 0.7343 - accuracy: 0.74 - ETA: 2s - loss: 0.7310 - accuracy: 0.74 - ETA: 2s - loss: 0.7278 - accuracy: 0.75 - ETA: 2s - loss: 0.7250 - accuracy: 0.75 - ETA: 2s - loss: 0.7219 - accuracy: 0.75 - ETA: 2s - loss: 0.7189 - accuracy: 0.75 - ETA: 2s - loss: 0.7160 - accuracy: 0.75 - ETA: 2s - loss: 0.7131 - accuracy: 0.75 - ETA: 2s - loss: 0.7103 - accuracy: 0.75 - ETA: 2s - loss: 0.7075 - accuracy: 0.75 - ETA: 2s - loss: 0.7048 - accuracy: 0.75 - ETA: 2s - loss: 0.7022 - accuracy: 0.75 - ETA: 2s - loss: 0.6999 - accuracy: 0.75 - ETA: 2s - loss: 0.6973 - accuracy: 0.76 - ETA: 2s - loss: 0.6948 - accuracy: 0.76 - ETA: 2s - loss: 0.6924 - accuracy: 0.76 - ETA: 1s - loss: 0.6900 - accuracy: 0.76 - ETA: 1s - loss: 0.6879 - accuracy: 0.76 - ETA: 1s - loss: 0.6856 - accuracy: 0.76 - ETA: 1s - loss: 0.6836 - accuracy: 0.76 - ETA: 1s - loss: 0.6816 - accuracy: 0.76 - ETA: 1s - loss: 0.6794 - accuracy: 0.76 - ETA: 1s - loss: 0.6772 - accuracy: 0.76 - ETA: 1s - loss: 0.6756 - accuracy: 0.76 - ETA: 1s - loss: 0.6738 - accuracy: 0.76 - ETA: 1s - loss: 0.6717 - accuracy: 0.76 - ETA: 1s - loss: 0.6697 - accuracy: 0.76 - ETA: 1s - loss: 0.6678 - accuracy: 0.77 - ETA: 1s - loss: 0.6660 - accuracy: 0.77 - ETA: 1s - loss: 0.6641 - accuracy: 0.77 - ETA: 1s - loss: 0.6624 - accuracy: 0.77 - ETA: 1s - loss: 0.6606 - accuracy: 0.77 - ETA: 1s - loss: 0.6588 - accuracy: 0.77 - ETA: 1s - loss: 0.6572 - accuracy: 0.77 - ETA: 1s - loss: 0.6554 - accuracy: 0.77 - ETA: 1s - loss: 0.6540 - accuracy: 0.77 - ETA: 0s - loss: 0.6523 - accuracy: 0.77 - ETA: 0s - loss: 0.6506 - accuracy: 0.77 - ETA: 0s - loss: 0.6489 - accuracy: 0.77 - ETA: 0s - loss: 0.6475 - accuracy: 0.77 - ETA: 0s - loss: 0.6460 - accuracy: 0.77 - ETA: 0s - loss: 0.6446 - accuracy: 0.77 - ETA: 0s - loss: 0.6431 - accuracy: 0.77 - ETA: 0s - loss: 0.6417 - accuracy: 0.77 - ETA: 0s - loss: 0.6404 - accuracy: 0.77 - ETA: 0s - loss: 0.6388 - accuracy: 0.77 - ETA: 0s - loss: 0.6377 - accuracy: 0.77 - ETA: 0s - loss: 0.6362 - accuracy: 0.78 - ETA: 0s - loss: 0.6348 - accuracy: 0.78 - ETA: 0s - loss: 0.6334 - accuracy: 0.78 - ETA: 0s - loss: 0.6320 - accuracy: 0.78 - ETA: 0s - loss: 0.6307 - accuracy: 0.78 - ETA: 0s - loss: 0.6293 - accuracy: 0.78 - ETA: 0s - loss: 0.6281 - accuracy: 0.78 - ETA: 0s - loss: 0.6269 - accuracy: 0.78 - 6s 6ms/step - loss: 0.6261 - accuracy: 0.7832\n",
      "Epoch 2/5\n"
     ]
    },
    {
     "name": "stdout",
     "output_type": "stream",
     "text": [
      "938/938 [==============================] - ETA: 34s - loss: 0.3415 - accuracy: 0.875 - ETA: 6s - loss: 0.3667 - accuracy: 0.870 - ETA: 5s - loss: 0.3844 - accuracy: 0.86 - ETA: 5s - loss: 0.3822 - accuracy: 0.86 - ETA: 5s - loss: 0.3839 - accuracy: 0.86 - ETA: 5s - loss: 0.3827 - accuracy: 0.86 - ETA: 5s - loss: 0.3829 - accuracy: 0.86 - ETA: 5s - loss: 0.3832 - accuracy: 0.86 - ETA: 5s - loss: 0.3830 - accuracy: 0.86 - ETA: 5s - loss: 0.3826 - accuracy: 0.86 - ETA: 5s - loss: 0.3824 - accuracy: 0.86 - ETA: 5s - loss: 0.3824 - accuracy: 0.86 - ETA: 5s - loss: 0.3827 - accuracy: 0.86 - ETA: 5s - loss: 0.3829 - accuracy: 0.86 - ETA: 5s - loss: 0.3828 - accuracy: 0.86 - ETA: 5s - loss: 0.3827 - accuracy: 0.86 - ETA: 4s - loss: 0.3825 - accuracy: 0.86 - ETA: 4s - loss: 0.3821 - accuracy: 0.86 - ETA: 4s - loss: 0.3819 - accuracy: 0.86 - ETA: 4s - loss: 0.3817 - accuracy: 0.86 - ETA: 4s - loss: 0.3815 - accuracy: 0.86 - ETA: 4s - loss: 0.3813 - accuracy: 0.86 - ETA: 4s - loss: 0.3812 - accuracy: 0.86 - ETA: 4s - loss: 0.3811 - accuracy: 0.86 - ETA: 4s - loss: 0.3811 - accuracy: 0.86 - ETA: 4s - loss: 0.3811 - accuracy: 0.86 - ETA: 4s - loss: 0.3810 - accuracy: 0.86 - ETA: 4s - loss: 0.3808 - accuracy: 0.86 - ETA: 4s - loss: 0.3806 - accuracy: 0.86 - ETA: 4s - loss: 0.3805 - accuracy: 0.86 - ETA: 4s - loss: 0.3804 - accuracy: 0.86 - ETA: 4s - loss: 0.3803 - accuracy: 0.86 - ETA: 4s - loss: 0.3802 - accuracy: 0.86 - ETA: 4s - loss: 0.3800 - accuracy: 0.86 - ETA: 4s - loss: 0.3798 - accuracy: 0.86 - ETA: 4s - loss: 0.3796 - accuracy: 0.86 - ETA: 3s - loss: 0.3794 - accuracy: 0.86 - ETA: 3s - loss: 0.3793 - accuracy: 0.86 - ETA: 3s - loss: 0.3792 - accuracy: 0.86 - ETA: 3s - loss: 0.3791 - accuracy: 0.86 - ETA: 3s - loss: 0.3791 - accuracy: 0.86 - ETA: 3s - loss: 0.3790 - accuracy: 0.86 - ETA: 3s - loss: 0.3789 - accuracy: 0.86 - ETA: 3s - loss: 0.3789 - accuracy: 0.86 - ETA: 3s - loss: 0.3788 - accuracy: 0.86 - ETA: 3s - loss: 0.3788 - accuracy: 0.86 - ETA: 3s - loss: 0.3788 - accuracy: 0.86 - ETA: 3s - loss: 0.3787 - accuracy: 0.86 - ETA: 3s - loss: 0.3787 - accuracy: 0.86 - ETA: 3s - loss: 0.3786 - accuracy: 0.86 - ETA: 3s - loss: 0.3786 - accuracy: 0.86 - ETA: 3s - loss: 0.3785 - accuracy: 0.86 - ETA: 3s - loss: 0.3785 - accuracy: 0.86 - ETA: 3s - loss: 0.3784 - accuracy: 0.86 - ETA: 3s - loss: 0.3784 - accuracy: 0.86 - ETA: 3s - loss: 0.3783 - accuracy: 0.86 - ETA: 3s - loss: 0.3783 - accuracy: 0.86 - ETA: 2s - loss: 0.3782 - accuracy: 0.86 - ETA: 2s - loss: 0.3782 - accuracy: 0.86 - ETA: 2s - loss: 0.3782 - accuracy: 0.86 - ETA: 2s - loss: 0.3781 - accuracy: 0.86 - ETA: 2s - loss: 0.3780 - accuracy: 0.86 - ETA: 2s - loss: 0.3780 - accuracy: 0.86 - ETA: 2s - loss: 0.3779 - accuracy: 0.86 - ETA: 2s - loss: 0.3779 - accuracy: 0.86 - ETA: 2s - loss: 0.3778 - accuracy: 0.86 - ETA: 2s - loss: 0.3777 - accuracy: 0.86 - ETA: 2s - loss: 0.3776 - accuracy: 0.86 - ETA: 2s - loss: 0.3775 - accuracy: 0.86 - ETA: 2s - loss: 0.3774 - accuracy: 0.86 - ETA: 2s - loss: 0.3773 - accuracy: 0.86 - ETA: 2s - loss: 0.3773 - accuracy: 0.86 - ETA: 2s - loss: 0.3772 - accuracy: 0.86 - ETA: 2s - loss: 0.3771 - accuracy: 0.86 - ETA: 2s - loss: 0.3770 - accuracy: 0.86 - ETA: 1s - loss: 0.3769 - accuracy: 0.86 - ETA: 1s - loss: 0.3769 - accuracy: 0.86 - ETA: 1s - loss: 0.3768 - accuracy: 0.86 - ETA: 1s - loss: 0.3767 - accuracy: 0.86 - ETA: 1s - loss: 0.3766 - accuracy: 0.86 - ETA: 1s - loss: 0.3766 - accuracy: 0.86 - ETA: 1s - loss: 0.3765 - accuracy: 0.86 - ETA: 1s - loss: 0.3764 - accuracy: 0.86 - ETA: 1s - loss: 0.3763 - accuracy: 0.86 - ETA: 1s - loss: 0.3762 - accuracy: 0.86 - ETA: 1s - loss: 0.3762 - accuracy: 0.86 - ETA: 1s - loss: 0.3761 - accuracy: 0.86 - ETA: 1s - loss: 0.3760 - accuracy: 0.86 - ETA: 1s - loss: 0.3759 - accuracy: 0.86 - ETA: 1s - loss: 0.3758 - accuracy: 0.86 - ETA: 1s - loss: 0.3757 - accuracy: 0.86 - ETA: 1s - loss: 0.3756 - accuracy: 0.86 - ETA: 1s - loss: 0.3755 - accuracy: 0.86 - ETA: 1s - loss: 0.3754 - accuracy: 0.86 - ETA: 0s - loss: 0.3754 - accuracy: 0.86 - ETA: 0s - loss: 0.3753 - accuracy: 0.86 - ETA: 0s - loss: 0.3752 - accuracy: 0.86 - ETA: 0s - loss: 0.3751 - accuracy: 0.86 - ETA: 0s - loss: 0.3750 - accuracy: 0.86 - ETA: 0s - loss: 0.3749 - accuracy: 0.86 - ETA: 0s - loss: 0.3748 - accuracy: 0.86 - ETA: 0s - loss: 0.3747 - accuracy: 0.86 - ETA: 0s - loss: 0.3746 - accuracy: 0.86 - ETA: 0s - loss: 0.3746 - accuracy: 0.86 - ETA: 0s - loss: 0.3745 - accuracy: 0.86 - ETA: 0s - loss: 0.3743 - accuracy: 0.86 - ETA: 0s - loss: 0.3742 - accuracy: 0.86 - ETA: 0s - loss: 0.3741 - accuracy: 0.86 - ETA: 0s - loss: 0.3740 - accuracy: 0.86 - ETA: 0s - loss: 0.3740 - accuracy: 0.86 - ETA: 0s - loss: 0.3739 - accuracy: 0.86 - ETA: 0s - loss: 0.3738 - accuracy: 0.86 - ETA: 0s - loss: 0.3737 - accuracy: 0.86 - ETA: 0s - loss: 0.3737 - accuracy: 0.86 - ETA: 0s - loss: 0.3736 - accuracy: 0.86 - 6s 6ms/step - loss: 0.3736 - accuracy: 0.8644\n",
      "Epoch 3/5\n"
     ]
    },
    {
     "name": "stdout",
     "output_type": "stream",
     "text": [
      "938/938 [==============================] - ETA: 34s - loss: 0.2398 - accuracy: 0.968 - ETA: 5s - loss: 0.3094 - accuracy: 0.898 - ETA: 6s - loss: 0.3173 - accuracy: 0.89 - ETA: 6s - loss: 0.3224 - accuracy: 0.89 - ETA: 6s - loss: 0.3288 - accuracy: 0.88 - ETA: 6s - loss: 0.3334 - accuracy: 0.88 - ETA: 5s - loss: 0.3360 - accuracy: 0.88 - ETA: 5s - loss: 0.3380 - accuracy: 0.88 - ETA: 5s - loss: 0.3388 - accuracy: 0.88 - ETA: 5s - loss: 0.3389 - accuracy: 0.88 - ETA: 5s - loss: 0.3388 - accuracy: 0.88 - ETA: 5s - loss: 0.3384 - accuracy: 0.88 - ETA: 5s - loss: 0.3380 - accuracy: 0.88 - ETA: 5s - loss: 0.3378 - accuracy: 0.88 - ETA: 5s - loss: 0.3379 - accuracy: 0.88 - ETA: 5s - loss: 0.3379 - accuracy: 0.88 - ETA: 5s - loss: 0.3378 - accuracy: 0.87 - ETA: 5s - loss: 0.3376 - accuracy: 0.87 - ETA: 5s - loss: 0.3372 - accuracy: 0.87 - ETA: 5s - loss: 0.3368 - accuracy: 0.87 - ETA: 4s - loss: 0.3364 - accuracy: 0.87 - ETA: 4s - loss: 0.3361 - accuracy: 0.87 - ETA: 4s - loss: 0.3359 - accuracy: 0.87 - ETA: 4s - loss: 0.3356 - accuracy: 0.87 - ETA: 4s - loss: 0.3352 - accuracy: 0.87 - ETA: 4s - loss: 0.3348 - accuracy: 0.87 - ETA: 4s - loss: 0.3346 - accuracy: 0.87 - ETA: 4s - loss: 0.3344 - accuracy: 0.87 - ETA: 4s - loss: 0.3342 - accuracy: 0.87 - ETA: 4s - loss: 0.3340 - accuracy: 0.87 - ETA: 4s - loss: 0.3339 - accuracy: 0.87 - ETA: 4s - loss: 0.3338 - accuracy: 0.87 - ETA: 4s - loss: 0.3336 - accuracy: 0.87 - ETA: 4s - loss: 0.3335 - accuracy: 0.87 - ETA: 4s - loss: 0.3333 - accuracy: 0.87 - ETA: 4s - loss: 0.3333 - accuracy: 0.87 - ETA: 4s - loss: 0.3332 - accuracy: 0.87 - ETA: 4s - loss: 0.3331 - accuracy: 0.87 - ETA: 4s - loss: 0.3330 - accuracy: 0.87 - ETA: 4s - loss: 0.3329 - accuracy: 0.87 - ETA: 3s - loss: 0.3328 - accuracy: 0.87 - ETA: 3s - loss: 0.3326 - accuracy: 0.87 - ETA: 3s - loss: 0.3325 - accuracy: 0.87 - ETA: 3s - loss: 0.3324 - accuracy: 0.87 - ETA: 3s - loss: 0.3323 - accuracy: 0.87 - ETA: 3s - loss: 0.3322 - accuracy: 0.87 - ETA: 3s - loss: 0.3321 - accuracy: 0.87 - ETA: 3s - loss: 0.3320 - accuracy: 0.87 - ETA: 3s - loss: 0.3319 - accuracy: 0.87 - ETA: 3s - loss: 0.3319 - accuracy: 0.87 - ETA: 3s - loss: 0.3318 - accuracy: 0.87 - ETA: 3s - loss: 0.3318 - accuracy: 0.87 - ETA: 3s - loss: 0.3317 - accuracy: 0.87 - ETA: 3s - loss: 0.3317 - accuracy: 0.87 - ETA: 3s - loss: 0.3317 - accuracy: 0.87 - ETA: 3s - loss: 0.3317 - accuracy: 0.87 - ETA: 3s - loss: 0.3317 - accuracy: 0.87 - ETA: 3s - loss: 0.3316 - accuracy: 0.87 - ETA: 3s - loss: 0.3316 - accuracy: 0.87 - ETA: 2s - loss: 0.3316 - accuracy: 0.87 - ETA: 2s - loss: 0.3315 - accuracy: 0.87 - ETA: 2s - loss: 0.3315 - accuracy: 0.87 - ETA: 2s - loss: 0.3315 - accuracy: 0.87 - ETA: 2s - loss: 0.3314 - accuracy: 0.87 - ETA: 2s - loss: 0.3314 - accuracy: 0.87 - ETA: 2s - loss: 0.3314 - accuracy: 0.87 - ETA: 2s - loss: 0.3313 - accuracy: 0.87 - ETA: 2s - loss: 0.3313 - accuracy: 0.87 - ETA: 2s - loss: 0.3313 - accuracy: 0.87 - ETA: 2s - loss: 0.3312 - accuracy: 0.87 - ETA: 2s - loss: 0.3312 - accuracy: 0.87 - ETA: 2s - loss: 0.3311 - accuracy: 0.87 - ETA: 2s - loss: 0.3311 - accuracy: 0.87 - ETA: 2s - loss: 0.3310 - accuracy: 0.87 - ETA: 2s - loss: 0.3310 - accuracy: 0.87 - ETA: 2s - loss: 0.3309 - accuracy: 0.87 - ETA: 1s - loss: 0.3309 - accuracy: 0.87 - ETA: 1s - loss: 0.3308 - accuracy: 0.87 - ETA: 1s - loss: 0.3308 - accuracy: 0.87 - ETA: 1s - loss: 0.3307 - accuracy: 0.87 - ETA: 1s - loss: 0.3307 - accuracy: 0.87 - ETA: 1s - loss: 0.3307 - accuracy: 0.87 - ETA: 1s - loss: 0.3306 - accuracy: 0.87 - ETA: 1s - loss: 0.3306 - accuracy: 0.87 - ETA: 1s - loss: 0.3305 - accuracy: 0.87 - ETA: 1s - loss: 0.3305 - accuracy: 0.87 - ETA: 1s - loss: 0.3304 - accuracy: 0.87 - ETA: 1s - loss: 0.3304 - accuracy: 0.87 - ETA: 1s - loss: 0.3303 - accuracy: 0.87 - ETA: 1s - loss: 0.3303 - accuracy: 0.87 - ETA: 1s - loss: 0.3303 - accuracy: 0.87 - ETA: 1s - loss: 0.3302 - accuracy: 0.87 - ETA: 1s - loss: 0.3302 - accuracy: 0.87 - ETA: 1s - loss: 0.3301 - accuracy: 0.87 - ETA: 1s - loss: 0.3300 - accuracy: 0.87 - ETA: 0s - loss: 0.3300 - accuracy: 0.87 - ETA: 0s - loss: 0.3299 - accuracy: 0.87 - ETA: 0s - loss: 0.3298 - accuracy: 0.87 - ETA: 0s - loss: 0.3298 - accuracy: 0.87 - ETA: 0s - loss: 0.3297 - accuracy: 0.87 - ETA: 0s - loss: 0.3296 - accuracy: 0.87 - ETA: 0s - loss: 0.3296 - accuracy: 0.87 - ETA: 0s - loss: 0.3295 - accuracy: 0.87 - ETA: 0s - loss: 0.3294 - accuracy: 0.87 - ETA: 0s - loss: 0.3294 - accuracy: 0.87 - ETA: 0s - loss: 0.3293 - accuracy: 0.87 - ETA: 0s - loss: 0.3293 - accuracy: 0.87 - ETA: 0s - loss: 0.3292 - accuracy: 0.87 - ETA: 0s - loss: 0.3292 - accuracy: 0.87 - ETA: 0s - loss: 0.3291 - accuracy: 0.87 - ETA: 0s - loss: 0.3291 - accuracy: 0.87 - ETA: 0s - loss: 0.3290 - accuracy: 0.87 - ETA: 0s - loss: 0.3290 - accuracy: 0.87 - ETA: 0s - loss: 0.3289 - accuracy: 0.87 - ETA: 0s - loss: 0.3289 - accuracy: 0.87 - 6s 6ms/step - loss: 0.3288 - accuracy: 0.8796\n",
      "Epoch 4/5\n"
     ]
    },
    {
     "name": "stdout",
     "output_type": "stream",
     "text": [
      "938/938 [==============================] - ETA: 29s - loss: 0.3254 - accuracy: 0.890 - ETA: 5s - loss: 0.3204 - accuracy: 0.895 - ETA: 5s - loss: 0.3165 - accuracy: 0.89 - ETA: 5s - loss: 0.3166 - accuracy: 0.89 - ETA: 5s - loss: 0.3162 - accuracy: 0.89 - ETA: 5s - loss: 0.3125 - accuracy: 0.89 - ETA: 5s - loss: 0.3084 - accuracy: 0.89 - ETA: 5s - loss: 0.3057 - accuracy: 0.89 - ETA: 5s - loss: 0.3046 - accuracy: 0.89 - ETA: 5s - loss: 0.3044 - accuracy: 0.89 - ETA: 5s - loss: 0.3044 - accuracy: 0.89 - ETA: 5s - loss: 0.3046 - accuracy: 0.89 - ETA: 5s - loss: 0.3048 - accuracy: 0.89 - ETA: 5s - loss: 0.3049 - accuracy: 0.89 - ETA: 5s - loss: 0.3049 - accuracy: 0.89 - ETA: 5s - loss: 0.3048 - accuracy: 0.89 - ETA: 4s - loss: 0.3048 - accuracy: 0.89 - ETA: 4s - loss: 0.3050 - accuracy: 0.89 - ETA: 4s - loss: 0.3052 - accuracy: 0.89 - ETA: 4s - loss: 0.3055 - accuracy: 0.89 - ETA: 4s - loss: 0.3057 - accuracy: 0.89 - ETA: 4s - loss: 0.3059 - accuracy: 0.89 - ETA: 4s - loss: 0.3060 - accuracy: 0.89 - ETA: 4s - loss: 0.3061 - accuracy: 0.89 - ETA: 4s - loss: 0.3062 - accuracy: 0.89 - ETA: 4s - loss: 0.3062 - accuracy: 0.89 - ETA: 4s - loss: 0.3063 - accuracy: 0.89 - ETA: 4s - loss: 0.3064 - accuracy: 0.89 - ETA: 4s - loss: 0.3066 - accuracy: 0.89 - ETA: 4s - loss: 0.3067 - accuracy: 0.89 - ETA: 4s - loss: 0.3068 - accuracy: 0.89 - ETA: 4s - loss: 0.3068 - accuracy: 0.89 - ETA: 4s - loss: 0.3069 - accuracy: 0.89 - ETA: 4s - loss: 0.3069 - accuracy: 0.89 - ETA: 4s - loss: 0.3070 - accuracy: 0.89 - ETA: 4s - loss: 0.3070 - accuracy: 0.89 - ETA: 4s - loss: 0.3071 - accuracy: 0.89 - ETA: 4s - loss: 0.3071 - accuracy: 0.89 - ETA: 4s - loss: 0.3072 - accuracy: 0.89 - ETA: 4s - loss: 0.3073 - accuracy: 0.89 - ETA: 4s - loss: 0.3073 - accuracy: 0.89 - ETA: 3s - loss: 0.3074 - accuracy: 0.89 - ETA: 3s - loss: 0.3074 - accuracy: 0.89 - ETA: 3s - loss: 0.3075 - accuracy: 0.89 - ETA: 3s - loss: 0.3075 - accuracy: 0.89 - ETA: 3s - loss: 0.3075 - accuracy: 0.88 - ETA: 3s - loss: 0.3075 - accuracy: 0.88 - ETA: 3s - loss: 0.3076 - accuracy: 0.88 - ETA: 3s - loss: 0.3076 - accuracy: 0.88 - ETA: 3s - loss: 0.3076 - accuracy: 0.88 - ETA: 3s - loss: 0.3076 - accuracy: 0.88 - ETA: 3s - loss: 0.3076 - accuracy: 0.88 - ETA: 3s - loss: 0.3076 - accuracy: 0.88 - ETA: 3s - loss: 0.3076 - accuracy: 0.88 - ETA: 3s - loss: 0.3076 - accuracy: 0.88 - ETA: 3s - loss: 0.3076 - accuracy: 0.88 - ETA: 3s - loss: 0.3076 - accuracy: 0.88 - ETA: 3s - loss: 0.3076 - accuracy: 0.88 - ETA: 3s - loss: 0.3076 - accuracy: 0.88 - ETA: 3s - loss: 0.3076 - accuracy: 0.88 - ETA: 3s - loss: 0.3075 - accuracy: 0.88 - ETA: 3s - loss: 0.3075 - accuracy: 0.88 - ETA: 3s - loss: 0.3075 - accuracy: 0.88 - ETA: 2s - loss: 0.3074 - accuracy: 0.88 - ETA: 2s - loss: 0.3074 - accuracy: 0.88 - ETA: 2s - loss: 0.3074 - accuracy: 0.88 - ETA: 2s - loss: 0.3074 - accuracy: 0.88 - ETA: 2s - loss: 0.3073 - accuracy: 0.88 - ETA: 2s - loss: 0.3073 - accuracy: 0.88 - ETA: 2s - loss: 0.3073 - accuracy: 0.88 - ETA: 2s - loss: 0.3073 - accuracy: 0.88 - ETA: 2s - loss: 0.3073 - accuracy: 0.88 - ETA: 2s - loss: 0.3072 - accuracy: 0.88 - ETA: 2s - loss: 0.3072 - accuracy: 0.88 - ETA: 2s - loss: 0.3072 - accuracy: 0.88 - ETA: 2s - loss: 0.3072 - accuracy: 0.88 - ETA: 2s - loss: 0.3071 - accuracy: 0.88 - ETA: 2s - loss: 0.3071 - accuracy: 0.88 - ETA: 2s - loss: 0.3071 - accuracy: 0.88 - ETA: 2s - loss: 0.3070 - accuracy: 0.88 - ETA: 2s - loss: 0.3070 - accuracy: 0.88 - ETA: 2s - loss: 0.3070 - accuracy: 0.88 - ETA: 2s - loss: 0.3069 - accuracy: 0.88 - ETA: 2s - loss: 0.3069 - accuracy: 0.88 - ETA: 2s - loss: 0.3069 - accuracy: 0.88 - ETA: 1s - loss: 0.3068 - accuracy: 0.88 - ETA: 1s - loss: 0.3068 - accuracy: 0.88 - ETA: 1s - loss: 0.3068 - accuracy: 0.88 - ETA: 1s - loss: 0.3068 - accuracy: 0.88 - ETA: 1s - loss: 0.3067 - accuracy: 0.88 - ETA: 1s - loss: 0.3067 - accuracy: 0.88 - ETA: 1s - loss: 0.3067 - accuracy: 0.88 - ETA: 1s - loss: 0.3066 - accuracy: 0.88 - ETA: 1s - loss: 0.3066 - accuracy: 0.88 - ETA: 1s - loss: 0.3066 - accuracy: 0.88 - ETA: 1s - loss: 0.3065 - accuracy: 0.88 - ETA: 1s - loss: 0.3065 - accuracy: 0.88 - ETA: 1s - loss: 0.3064 - accuracy: 0.88 - ETA: 1s - loss: 0.3064 - accuracy: 0.88 - ETA: 1s - loss: 0.3064 - accuracy: 0.88 - ETA: 1s - loss: 0.3063 - accuracy: 0.88 - ETA: 1s - loss: 0.3063 - accuracy: 0.88 - ETA: 1s - loss: 0.3063 - accuracy: 0.88 - ETA: 1s - loss: 0.3062 - accuracy: 0.88 - ETA: 1s - loss: 0.3062 - accuracy: 0.88 - ETA: 1s - loss: 0.3061 - accuracy: 0.88 - ETA: 1s - loss: 0.3061 - accuracy: 0.88 - ETA: 0s - loss: 0.3060 - accuracy: 0.88 - ETA: 0s - loss: 0.3060 - accuracy: 0.88 - ETA: 0s - loss: 0.3059 - accuracy: 0.88 - ETA: 0s - loss: 0.3059 - accuracy: 0.88 - ETA: 0s - loss: 0.3059 - accuracy: 0.88 - ETA: 0s - loss: 0.3058 - accuracy: 0.88 - ETA: 0s - loss: 0.3058 - accuracy: 0.88 - ETA: 0s - loss: 0.3058 - accuracy: 0.88 - ETA: 0s - loss: 0.3057 - accuracy: 0.88 - ETA: 0s - loss: 0.3057 - accuracy: 0.88 - ETA: 0s - loss: 0.3056 - accuracy: 0.88 - ETA: 0s - loss: 0.3056 - accuracy: 0.88 - ETA: 0s - loss: 0.3055 - accuracy: 0.88 - ETA: 0s - loss: 0.3055 - accuracy: 0.88 - ETA: 0s - loss: 0.3055 - accuracy: 0.88 - ETA: 0s - loss: 0.3054 - accuracy: 0.88 - ETA: 0s - loss: 0.3054 - accuracy: 0.88 - ETA: 0s - loss: 0.3054 - accuracy: 0.88 - ETA: 0s - loss: 0.3053 - accuracy: 0.88 - 7s 7ms/step - loss: 0.3053 - accuracy: 0.8888\n",
      "Epoch 5/5\n"
     ]
    },
    {
     "name": "stdout",
     "output_type": "stream",
     "text": [
      "938/938 [==============================] - ETA: 33s - loss: 0.2091 - accuracy: 0.890 - ETA: 5s - loss: 0.2921 - accuracy: 0.887 - ETA: 6s - loss: 0.3020 - accuracy: 0.88 - ETA: 6s - loss: 0.3045 - accuracy: 0.88 - ETA: 6s - loss: 0.3047 - accuracy: 0.88 - ETA: 6s - loss: 0.3030 - accuracy: 0.88 - ETA: 6s - loss: 0.3012 - accuracy: 0.88 - ETA: 6s - loss: 0.3004 - accuracy: 0.88 - ETA: 6s - loss: 0.2994 - accuracy: 0.88 - ETA: 6s - loss: 0.2983 - accuracy: 0.89 - ETA: 6s - loss: 0.2971 - accuracy: 0.89 - ETA: 6s - loss: 0.2959 - accuracy: 0.89 - ETA: 6s - loss: 0.2950 - accuracy: 0.89 - ETA: 5s - loss: 0.2942 - accuracy: 0.89 - ETA: 5s - loss: 0.2936 - accuracy: 0.89 - ETA: 5s - loss: 0.2931 - accuracy: 0.89 - ETA: 5s - loss: 0.2925 - accuracy: 0.89 - ETA: 5s - loss: 0.2921 - accuracy: 0.89 - ETA: 5s - loss: 0.2918 - accuracy: 0.89 - ETA: 5s - loss: 0.2914 - accuracy: 0.89 - ETA: 5s - loss: 0.2911 - accuracy: 0.89 - ETA: 5s - loss: 0.2908 - accuracy: 0.89 - ETA: 5s - loss: 0.2907 - accuracy: 0.89 - ETA: 5s - loss: 0.2906 - accuracy: 0.89 - ETA: 5s - loss: 0.2905 - accuracy: 0.89 - ETA: 5s - loss: 0.2904 - accuracy: 0.89 - ETA: 5s - loss: 0.2903 - accuracy: 0.89 - ETA: 5s - loss: 0.2902 - accuracy: 0.89 - ETA: 5s - loss: 0.2901 - accuracy: 0.89 - ETA: 5s - loss: 0.2901 - accuracy: 0.89 - ETA: 5s - loss: 0.2900 - accuracy: 0.89 - ETA: 5s - loss: 0.2900 - accuracy: 0.89 - ETA: 5s - loss: 0.2901 - accuracy: 0.89 - ETA: 4s - loss: 0.2901 - accuracy: 0.89 - ETA: 4s - loss: 0.2901 - accuracy: 0.89 - ETA: 4s - loss: 0.2902 - accuracy: 0.89 - ETA: 4s - loss: 0.2902 - accuracy: 0.89 - ETA: 4s - loss: 0.2903 - accuracy: 0.89 - ETA: 4s - loss: 0.2903 - accuracy: 0.89 - ETA: 4s - loss: 0.2903 - accuracy: 0.89 - ETA: 4s - loss: 0.2903 - accuracy: 0.89 - ETA: 4s - loss: 0.2903 - accuracy: 0.89 - ETA: 4s - loss: 0.2903 - accuracy: 0.89 - ETA: 4s - loss: 0.2904 - accuracy: 0.89 - ETA: 4s - loss: 0.2904 - accuracy: 0.89 - ETA: 4s - loss: 0.2904 - accuracy: 0.89 - ETA: 4s - loss: 0.2904 - accuracy: 0.89 - ETA: 4s - loss: 0.2904 - accuracy: 0.89 - ETA: 4s - loss: 0.2904 - accuracy: 0.89 - ETA: 4s - loss: 0.2904 - accuracy: 0.89 - ETA: 4s - loss: 0.2904 - accuracy: 0.89 - ETA: 4s - loss: 0.2904 - accuracy: 0.89 - ETA: 3s - loss: 0.2904 - accuracy: 0.89 - ETA: 3s - loss: 0.2903 - accuracy: 0.89 - ETA: 3s - loss: 0.2903 - accuracy: 0.89 - ETA: 3s - loss: 0.2903 - accuracy: 0.89 - ETA: 3s - loss: 0.2903 - accuracy: 0.89 - ETA: 3s - loss: 0.2903 - accuracy: 0.89 - ETA: 3s - loss: 0.2903 - accuracy: 0.89 - ETA: 3s - loss: 0.2903 - accuracy: 0.89 - ETA: 3s - loss: 0.2903 - accuracy: 0.89 - ETA: 3s - loss: 0.2903 - accuracy: 0.89 - ETA: 3s - loss: 0.2903 - accuracy: 0.89 - ETA: 3s - loss: 0.2903 - accuracy: 0.89 - ETA: 3s - loss: 0.2902 - accuracy: 0.89 - ETA: 3s - loss: 0.2902 - accuracy: 0.89 - ETA: 3s - loss: 0.2902 - accuracy: 0.89 - ETA: 3s - loss: 0.2902 - accuracy: 0.89 - ETA: 3s - loss: 0.2902 - accuracy: 0.89 - ETA: 3s - loss: 0.2901 - accuracy: 0.89 - ETA: 2s - loss: 0.2901 - accuracy: 0.89 - ETA: 2s - loss: 0.2901 - accuracy: 0.89 - ETA: 2s - loss: 0.2901 - accuracy: 0.89 - ETA: 2s - loss: 0.2900 - accuracy: 0.89 - ETA: 2s - loss: 0.2900 - accuracy: 0.89 - ETA: 2s - loss: 0.2900 - accuracy: 0.89 - ETA: 2s - loss: 0.2900 - accuracy: 0.89 - ETA: 2s - loss: 0.2899 - accuracy: 0.89 - ETA: 2s - loss: 0.2899 - accuracy: 0.89 - ETA: 2s - loss: 0.2898 - accuracy: 0.89 - ETA: 2s - loss: 0.2898 - accuracy: 0.89 - ETA: 2s - loss: 0.2897 - accuracy: 0.89 - ETA: 2s - loss: 0.2897 - accuracy: 0.89 - ETA: 2s - loss: 0.2896 - accuracy: 0.89 - ETA: 2s - loss: 0.2896 - accuracy: 0.89 - ETA: 2s - loss: 0.2895 - accuracy: 0.89 - ETA: 1s - loss: 0.2895 - accuracy: 0.89 - ETA: 1s - loss: 0.2894 - accuracy: 0.89 - ETA: 1s - loss: 0.2894 - accuracy: 0.89 - ETA: 1s - loss: 0.2893 - accuracy: 0.89 - ETA: 1s - loss: 0.2893 - accuracy: 0.89 - ETA: 1s - loss: 0.2893 - accuracy: 0.89 - ETA: 1s - loss: 0.2892 - accuracy: 0.89 - ETA: 1s - loss: 0.2892 - accuracy: 0.89 - ETA: 1s - loss: 0.2892 - accuracy: 0.89 - ETA: 1s - loss: 0.2891 - accuracy: 0.89 - ETA: 1s - loss: 0.2891 - accuracy: 0.89 - ETA: 1s - loss: 0.2891 - accuracy: 0.89 - ETA: 1s - loss: 0.2891 - accuracy: 0.89 - ETA: 1s - loss: 0.2890 - accuracy: 0.89 - ETA: 1s - loss: 0.2890 - accuracy: 0.89 - ETA: 1s - loss: 0.2889 - accuracy: 0.89 - ETA: 1s - loss: 0.2889 - accuracy: 0.89 - ETA: 1s - loss: 0.2888 - accuracy: 0.89 - ETA: 1s - loss: 0.2888 - accuracy: 0.89 - ETA: 1s - loss: 0.2887 - accuracy: 0.89 - ETA: 1s - loss: 0.2887 - accuracy: 0.89 - ETA: 0s - loss: 0.2886 - accuracy: 0.89 - ETA: 0s - loss: 0.2886 - accuracy: 0.89 - ETA: 0s - loss: 0.2885 - accuracy: 0.89 - ETA: 0s - loss: 0.2885 - accuracy: 0.89 - ETA: 0s - loss: 0.2884 - accuracy: 0.89 - ETA: 0s - loss: 0.2884 - accuracy: 0.89 - ETA: 0s - loss: 0.2883 - accuracy: 0.89 - ETA: 0s - loss: 0.2883 - accuracy: 0.89 - ETA: 0s - loss: 0.2883 - accuracy: 0.89 - ETA: 0s - loss: 0.2882 - accuracy: 0.89 - ETA: 0s - loss: 0.2882 - accuracy: 0.89 - ETA: 0s - loss: 0.2882 - accuracy: 0.89 - ETA: 0s - loss: 0.2881 - accuracy: 0.89 - ETA: 0s - loss: 0.2881 - accuracy: 0.89 - ETA: 0s - loss: 0.2881 - accuracy: 0.89 - ETA: 0s - loss: 0.2880 - accuracy: 0.89 - ETA: 0s - loss: 0.2880 - accuracy: 0.89 - ETA: 0s - loss: 0.2879 - accuracy: 0.89 - ETA: 0s - loss: 0.2879 - accuracy: 0.89 - 7s 7ms/step - loss: 0.2879 - accuracy: 0.8935\n"
     ]
    }
   ],
   "source": [
    "## Solution\n",
    "my_model.compile(optimizer='adam',\n",
    "                 loss='sparse_categorical_crossentropy',\n",
    "                 metrics=['accuracy'])\n",
    "\n",
    "EPOCHS = 5\n",
    "\n",
    "history = my_model.fit(training_batches, epochs = EPOCHS)"
   ]
  },
  {
   "cell_type": "markdown",
   "metadata": {
    "colab_type": "text",
    "id": "REJbwplUBoRT"
   },
   "source": [
    "## Evaluate Loss and Accuracy on the Test Set\n",
    "\n",
    "Now let's see how the model performs on the test set. This time, we will use all the examples in our test set to assess the loss and accuracy of our model. Remember, the images in the test are images the model has never seen before."
   ]
  },
  {
   "cell_type": "code",
   "execution_count": 28,
   "metadata": {
    "colab": {
     "base_uri": "https://localhost:8080/",
     "height": 85
    },
    "colab_type": "code",
    "id": "q76aDGGl_xp4",
    "outputId": "d1ee69fc-874c-4985-cbd3-5bae323f64fb"
   },
   "outputs": [
    {
     "name": "stdout",
     "output_type": "stream",
     "text": [
      "157/157 [==============================] - ETA: 10s - loss: 0.1822 - accuracy: 0.921 - ETA: 0s - loss: 0.3049 - accuracy: 0.882 - ETA: 0s - loss: 0.3129 - accuracy: 0.88 - ETA: 0s - loss: 0.3184 - accuracy: 0.88 - ETA: 0s - loss: 0.3120 - accuracy: 0.88 - ETA: 0s - loss: 0.3216 - accuracy: 0.88 - ETA: 0s - loss: 0.3199 - accuracy: 0.88 - ETA: 0s - loss: 0.3213 - accuracy: 0.88 - ETA: 0s - loss: 0.3249 - accuracy: 0.88 - ETA: 0s - loss: 0.3234 - accuracy: 0.88 - ETA: 0s - loss: 0.3187 - accuracy: 0.88 - 1s 4ms/step - loss: 0.3235 - accuracy: 0.8837\n",
      "0.32346656918525696\n"
     ]
    }
   ],
   "source": [
    "loss, accuracy = my_model.evaluate(testing_batches)\n",
    "\n",
    "print('\\nLoss on the TEST Set: {:,.3f}'.format(loss))\n",
    "print('Accuracy on the TEST Set: {:.3%}'.format(accuracy))\n"
   ]
  },
  {
   "cell_type": "markdown",
   "metadata": {
    "colab_type": "text",
    "id": "PnpZWDQp2Zaq"
   },
   "source": [
    "## Check Predictions"
   ]
  },
  {
   "cell_type": "code",
   "execution_count": 27,
   "metadata": {
    "colab": {
     "base_uri": "https://localhost:8080/",
     "height": 225
    },
    "colab_type": "code",
    "id": "kqUzc4pYAe7Z",
    "outputId": "faa09287-401f-478d-85c1-6eb59eb748cd"
   },
   "outputs": [
    {
     "data": {
      "image/png": "[encoded data removed]",
      "text/plain": [
       "<Figure size 432x648 with 2 Axes>"
      ]
     },
     "metadata": {
      "image/png": {
       "height": 218,
       "width": 424
      },
      "needs_background": "light"
     },
     "output_type": "display_data"
    }
   ],
   "source": [
    "for image_batch, label_batch in testing_batches.take(1):\n",
    "    ps = my_model.predict(image_batch)\n",
    "    first_image = image_batch.numpy().squeeze()[0]\n",
    "    first_label = label_batch.numpy()[0]\n",
    "\n",
    "fig, (ax1, ax2) = plt.subplots(figsize=(6,9), ncols=2)\n",
    "ax1.imshow(first_image, cmap = plt.cm.binary)\n",
    "ax1.axis('off')\n",
    "ax1.set_title(class_names[first_label])\n",
    "ax2.barh(np.arange(10), ps[0])\n",
    "ax2.set_aspect(0.1)\n",
    "ax2.set_yticks(np.arange(10))\n",
    "ax2.set_yticklabels(class_names, size='small');\n",
    "ax2.set_title('Class Probability')\n",
    "ax2.set_xlim(0, 1.1)\n",
    "plt.tight_layout()"
   ]
  },
  {
   "cell_type": "code",
   "execution_count": null,
   "metadata": {
    "colab": {},
    "colab_type": "code",
    "id": "gs6wGo79So1E"
   },
   "outputs": [],
   "source": []
  }
 ],
 "metadata": {
  "accelerator": "GPU",
  "colab": {
   "collapsed_sections": [],
   "name": "Part 4 - Fashion-MNIST (Solution).ipynb",
   "provenance": []
  },
  "kernelspec": {
   "display_name": "Python 3",
   "language": "python",
   "name": "python3"
  },
  "language_info": {
   "codemirror_mode": {
    "name": "ipython",
    "version": 3
   },
   "file_extension": ".py",
   "mimetype": "text/x-python",
   "name": "python",
   "nbconvert_exporter": "python",
   "pygments_lexer": "ipython3",
   "version": "3.8.3"
  }
 },
 "nbformat": 4,
 "nbformat_minor": 1
}
