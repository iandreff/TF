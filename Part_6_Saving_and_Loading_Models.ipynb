{
 "cells": [
  {
   "cell_type": "markdown",
   "metadata": {
    "colab_type": "text",
    "id": "k7sePAkWpLJV"
   },
   "source": [
    "# Saving and Loading Models\n",
    "\n",
    "In this notebook, we'll see how to save and load models with TensorFlow. This is important because you'll often want to load previously trained models to use in making predictions or to continue training on new data."
   ]
  },
  {
   "cell_type": "markdown",
   "metadata": {
    "colab_type": "text",
    "id": "tD856SqhH4JK"
   },
   "source": [
    "## Import Resources"
   ]
  },
  {
   "cell_type": "code",
   "execution_count": 1,
   "metadata": {},
   "outputs": [],
   "source": [
    "import warnings\n",
    "warnings.filterwarnings('ignore')"
   ]
  },
  {
   "cell_type": "code",
   "execution_count": 2,
   "metadata": {
    "colab": {},
    "colab_type": "code",
    "id": "Hsu5egUUqPg9"
   },
   "outputs": [],
   "source": [
    "%matplotlib inline\n",
    "%config InlineBackend.figure_format = 'retina'\n",
    "\n",
    "import time\n",
    "import numpy as np\n",
    "import matplotlib.pyplot as plt\n",
    "\n",
    "import tensorflow as tf\n",
    "import tensorflow_datasets as tfds\n",
    "tfds.disable_progress_bar()"
   ]
  },
  {
   "cell_type": "code",
   "execution_count": 3,
   "metadata": {},
   "outputs": [],
   "source": [
    "import logging\n",
    "logger = tf.get_logger()\n",
    "logger.setLevel(logging.ERROR)"
   ]
  },
  {
   "cell_type": "code",
   "execution_count": 4,
   "metadata": {
    "colab": {
     "base_uri": "https://localhost:8080/",
     "height": 85
    },
    "colab_type": "code",
    "id": "BqsrWYDKp4Fd",
    "outputId": "5fe90392-c56f-423f-bc89-b9fc985feecf"
   },
   "outputs": [
    {
     "name": "stdout",
     "output_type": "stream",
     "text": [
      "Using:\n",
      "\t• TensorFlow version: 2.4.0\n",
      "\t• tf.keras version: 2.4.0\n",
      "\t• GPU device not found. Running on CPU\n"
     ]
    }
   ],
   "source": [
    "print('Using:')\n",
    "print('\\t\\u2022 TensorFlow version:', tf.__version__)\n",
    "print('\\t\\u2022 tf.keras version:', tf.keras.__version__)\n",
    "print('\\t\\u2022 Running on GPU' if tf.test.is_gpu_available() else '\\t\\u2022 GPU device not found. Running on CPU')"
   ]
  },
  {
   "cell_type": "markdown",
   "metadata": {
    "colab_type": "text",
    "id": "dAe81nXoICzC"
   },
   "source": [
    "## Load the Dataset"
   ]
  },
  {
   "cell_type": "code",
   "execution_count": 6,
   "metadata": {
    "colab": {
     "base_uri": "https://localhost:8080/",
     "height": 207
    },
    "colab_type": "code",
    "id": "bxcg_ZbuLnM3",
    "outputId": "33841a52-53e6-4e8a-ecbd-b448bf3c46f5"
   },
   "outputs": [
    {
     "name": "stdout",
     "output_type": "stream",
     "text": [
      "14000\n"
     ]
    }
   ],
   "source": [
    "dataset, dataset_info = tfds.load('fashion_mnist', split='train+test', as_supervised=True, with_info=True)\n",
    "\n",
    "total_examples = dataset_info.splits['train'].num_examples + dataset_info.splits['test'].num_examples\n",
    "\n",
    "train_size = int(0.6*total_examples)\n",
    "val_test_size = int(0.2*total_examples)\n",
    "\n",
    "#training_set, validation_set, test_set = dataset\n",
    "training_set = dataset.take(train_size)\n",
    "first_test_set = dataset.skip(train_size)\n",
    "validation_set = first_test_set.skip(val_test_size)\n",
    "test_set =first_test_set.take(val_test_size)\n",
    "\n",
    "\n",
    "\n",
    "\n",
    "print(len(test_set))"
   ]
  },
  {
   "cell_type": "markdown",
   "metadata": {
    "colab_type": "text",
    "id": "z1WhOLC7Ii3D"
   },
   "source": [
    "## Explore the Dataset"
   ]
  },
  {
   "cell_type": "code",
   "execution_count": 7,
   "metadata": {
    "colab": {
     "base_uri": "https://localhost:8080/",
     "height": 68
    },
    "colab_type": "code",
    "id": "9i2586KjI4QM",
    "outputId": "24ccc17a-c3f6-44ba-edc3-ae267e628fc2"
   },
   "outputs": [
    {
     "name": "stdout",
     "output_type": "stream",
     "text": [
      "There are 42,000 images in the training set\n",
      "There are 14,000 images in the validation set\n",
      "There are 14,000 images in the test set\n"
     ]
    }
   ],
   "source": [
    "total_examples = dataset_info.splits['train'].num_examples + dataset_info.splits['test'].num_examples\n",
    "\n",
    "num_training_examples = len(training_set)\n",
    "num_validation_examples = len(validation_set)\n",
    "num_test_examples = len(test_set)\n",
    "\n",
    "print('There are {:,} images in the training set'.format(num_training_examples))\n",
    "print('There are {:,} images in the validation set'.format(num_validation_examples))\n",
    "print('There are {:,} images in the test set'.format(num_test_examples))"
   ]
  },
  {
   "cell_type": "code",
   "execution_count": 8,
   "metadata": {
    "colab": {},
    "colab_type": "code",
    "id": "RLMJCpppq43U"
   },
   "outputs": [],
   "source": [
    "class_names = ['T-shirt/top', 'Trouser', 'Pullover', 'Dress', 'Coat', \n",
    "               'Sandal',      'Shirt',   'Sneaker',  'Bag',   'Ankle boot']"
   ]
  },
  {
   "cell_type": "code",
   "execution_count": 9,
   "metadata": {
    "colab": {
     "base_uri": "https://localhost:8080/",
     "height": 280
    },
    "colab_type": "code",
    "id": "PeU9nb_xqW98",
    "outputId": "7e35ce36-2589-4b3e-b2bf-313eaa2414f0"
   },
   "outputs": [
    {
     "data": {
      "image/png": "[encoded data removed]",
      "text/plain": [
       "<Figure size 432x288 with 2 Axes>"
      ]
     },
     "metadata": {
      "image/png": {
       "height": 263,
       "width": 305
      },
      "needs_background": "light"
     },
     "output_type": "display_data"
    }
   ],
   "source": [
    "for image, label in training_set.take(1):\n",
    "    image = image.numpy().squeeze()\n",
    "    label = label.numpy()\n",
    "\n",
    "plt.imshow(image, cmap=plt.cm.binary)\n",
    "plt.title(class_names[label])\n",
    "plt.colorbar()\n",
    "plt.show()"
   ]
  },
  {
   "cell_type": "markdown",
   "metadata": {
    "colab_type": "text",
    "id": "k5rUDqxBIt5N"
   },
   "source": [
    "## Create Pipeline"
   ]
  },
  {
   "cell_type": "code",
   "execution_count": 10,
   "metadata": {
    "colab": {},
    "colab_type": "code",
    "id": "Ec3uphcyci3c"
   },
   "outputs": [],
   "source": [
    "def normalize(image, label):\n",
    "    image = tf.cast(image, tf.float32)\n",
    "    image /= 255\n",
    "    return image, label\n",
    "\n",
    "batch_size = 64\n",
    "\n",
    "training_batches = training_set.cache().shuffle(num_training_examples//4).batch(batch_size).map(normalize).prefetch(1)\n",
    "validation_batches = validation_set.cache().batch(batch_size).map(normalize).prefetch(1)\n",
    "testing_batches = test_set.cache().batch(batch_size).map(normalize).prefetch(1)"
   ]
  },
  {
   "cell_type": "markdown",
   "metadata": {
    "colab_type": "text",
    "id": "ySQuJ-iPqNoR"
   },
   "source": [
    "## Build and Train the Model\n",
    "\n",
    "Here we'll build and compile our model as usual."
   ]
  },
  {
   "cell_type": "code",
   "execution_count": 12,
   "metadata": {
    "colab": {
     "base_uri": "https://localhost:8080/",
     "height": 425
    },
    "colab_type": "code",
    "id": "47Vnu0KJMqwc",
    "outputId": "f1abd9d1-db9e-4bfd-99c7-d4376adb8745"
   },
   "outputs": [
    {
     "name": "stdout",
     "output_type": "stream",
     "text": [
      "Model: \"sequential_1\"\n",
      "_________________________________________________________________\n",
      "Layer (type)                 Output Shape              Param #   \n",
      "=================================================================\n",
      "flatten_1 (Flatten)          (None, 784)               0         \n",
      "_________________________________________________________________\n",
      "dense_4 (Dense)              (None, 512)               401920    \n",
      "_________________________________________________________________\n",
      "dropout_3 (Dropout)          (None, 512)               0         \n",
      "_________________________________________________________________\n",
      "dense_5 (Dense)              (None, 256)               131328    \n",
      "_________________________________________________________________\n",
      "dropout_4 (Dropout)          (None, 256)               0         \n",
      "_________________________________________________________________\n",
      "dense_6 (Dense)              (None, 128)               32896     \n",
      "_________________________________________________________________\n",
      "dropout_5 (Dropout)          (None, 128)               0         \n",
      "_________________________________________________________________\n",
      "dense_7 (Dense)              (None, 10)                1290      \n",
      "=================================================================\n",
      "Total params: 567,434\n",
      "Trainable params: 567,434\n",
      "Non-trainable params: 0\n",
      "_________________________________________________________________\n"
     ]
    }
   ],
   "source": [
    "layer_neurons = [512, 256, 128]\n",
    "\n",
    "dropout_rate = 0.5\n",
    "\n",
    "model = tf.keras.Sequential()\n",
    "\n",
    "model.add(tf.keras.layers.Flatten(input_shape=(28,28,1)))\n",
    "\n",
    "for neurons in layer_neurons:\n",
    "    model.add(tf.keras.layers.Dense(neurons, activation = 'relu'))\n",
    "    model.add(tf.keras.layers.Dropout(dropout_rate))\n",
    "\n",
    "model.add(tf.keras.layers.Dense(10, activation = 'softmax'))\n",
    "\n",
    "model.summary()"
   ]
  },
  {
   "cell_type": "code",
   "execution_count": 13,
   "metadata": {
    "colab": {
     "base_uri": "https://localhost:8080/",
     "height": 153
    },
    "colab_type": "code",
    "id": "1qLJ-cAwnmFD",
    "outputId": "32be0a8a-5cfb-473f-872c-e09da279eae5"
   },
   "outputs": [
    {
     "name": "stdout",
     "output_type": "stream",
     "text": [
      "Epoch 1/4\n"
     ]
    },
    {
     "name": "stdout",
     "output_type": "stream",
     "text": [
      "530/657 [=======================>......] - ETA: 18:12 - loss: 2.7600 - accuracy: 0.125 - ETA: 11s - loss: 2.6031 - accuracy: 0.1243  - ETA: 12s - loss: 2.5144 - accuracy: 0.137 - ETA: 11s - loss: 2.4409 - accuracy: 0.152 - ETA: 11s - loss: 2.4007 - accuracy: 0.162 - ETA: 11s - loss: 2.3701 - accuracy: 0.169 - ETA: 11s - loss: 2.3391 - accuracy: 0.178 - ETA: 11s - loss: 2.3110 - accuracy: 0.186 - ETA: 11s - loss: 2.2855 - accuracy: 0.193 - ETA: 11s - loss: 2.2624 - accuracy: 0.200 - ETA: 11s - loss: 2.2405 - accuracy: 0.207 - ETA: 11s - loss: 2.2187 - accuracy: 0.215 - ETA: 11s - loss: 2.1971 - accuracy: 0.222 - ETA: 11s - loss: 2.1763 - accuracy: 0.228 - ETA: 11s - loss: 2.1563 - accuracy: 0.235 - ETA: 11s - loss: 2.1370 - accuracy: 0.241 - ETA: 11s - loss: 2.1185 - accuracy: 0.247 - ETA: 11s - loss: 2.1007 - accuracy: 0.253 - ETA: 11s - loss: 2.0836 - accuracy: 0.258 - ETA: 11s - loss: 2.0669 - accuracy: 0.264 - ETA: 11s - loss: 2.0508 - accuracy: 0.269 - ETA: 11s - loss: 2.0351 - accuracy: 0.274 - ETA: 11s - loss: 2.0249 - accuracy: 0.277 - ETA: 11s - loss: 2.0099 - accuracy: 0.282 - ETA: 11s - loss: 2.0001 - accuracy: 0.285 - ETA: 11s - loss: 1.9904 - accuracy: 0.289 - ETA: 11s - loss: 1.9761 - accuracy: 0.293 - ETA: 11s - loss: 1.9622 - accuracy: 0.298 - ETA: 11s - loss: 1.9486 - accuracy: 0.303 - ETA: 11s - loss: 1.9355 - accuracy: 0.307 - ETA: 11s - loss: 1.9270 - accuracy: 0.310 - ETA: 11s - loss: 1.9145 - accuracy: 0.314 - ETA: 11s - loss: 1.9023 - accuracy: 0.319 - ETA: 11s - loss: 1.8903 - accuracy: 0.323 - ETA: 11s - loss: 1.8787 - accuracy: 0.327 - ETA: 11s - loss: 1.8712 - accuracy: 0.329 - ETA: 11s - loss: 1.8601 - accuracy: 0.333 - ETA: 11s - loss: 1.8492 - accuracy: 0.337 - ETA: 11s - loss: 1.8421 - accuracy: 0.339 - ETA: 11s - loss: 1.8318 - accuracy: 0.343 - ETA: 10s - loss: 1.8218 - accuracy: 0.346 - ETA: 10s - loss: 1.8119 - accuracy: 0.350 - ETA: 10s - loss: 1.8023 - accuracy: 0.353 - ETA: 10s - loss: 1.7960 - accuracy: 0.356 - ETA: 10s - loss: 1.7867 - accuracy: 0.359 - ETA: 10s - loss: 1.7776 - accuracy: 0.362 - ETA: 10s - loss: 1.7688 - accuracy: 0.365 - ETA: 10s - loss: 1.7600 - accuracy: 0.368 - ETA: 10s - loss: 1.7514 - accuracy: 0.371 - ETA: 10s - loss: 1.7430 - accuracy: 0.374 - ETA: 10s - loss: 1.7375 - accuracy: 0.376 - ETA: 10s - loss: 1.7294 - accuracy: 0.379 - ETA: 10s - loss: 1.7214 - accuracy: 0.382 - ETA: 10s - loss: 1.7136 - accuracy: 0.384 - ETA: 10s - loss: 1.7059 - accuracy: 0.387 - ETA: 10s - loss: 1.6984 - accuracy: 0.390 - ETA: 9s - loss: 1.6909 - accuracy: 0.392 - ETA: 9s - loss: 1.6836 - accuracy: 0.39 - ETA: 9s - loss: 1.6764 - accuracy: 0.39 - ETA: 9s - loss: 1.6693 - accuracy: 0.40 - ETA: 9s - loss: 1.6623 - accuracy: 0.40 - ETA: 9s - loss: 1.6554 - accuracy: 0.40 - ETA: 9s - loss: 1.6486 - accuracy: 0.40 - ETA: 9s - loss: 1.6419 - accuracy: 0.40 - ETA: 9s - loss: 1.6354 - accuracy: 0.41 - ETA: 9s - loss: 1.6289 - accuracy: 0.41 - ETA: 9s - loss: 1.6226 - accuracy: 0.41 - ETA: 9s - loss: 1.6164 - accuracy: 0.41 - ETA: 9s - loss: 1.6123 - accuracy: 0.42 - ETA: 9s - loss: 1.6062 - accuracy: 0.42 - ETA: 9s - loss: 1.6002 - accuracy: 0.42 - ETA: 9s - loss: 1.5944 - accuracy: 0.42 - ETA: 8s - loss: 1.5886 - accuracy: 0.42 - ETA: 8s - loss: 1.5830 - accuracy: 0.43 - ETA: 8s - loss: 1.5774 - accuracy: 0.43 - ETA: 8s - loss: 1.5719 - accuracy: 0.43 - ETA: 8s - loss: 1.5683 - accuracy: 0.43 - ETA: 8s - loss: 1.5630 - accuracy: 0.43 - ETA: 8s - loss: 1.5595 - accuracy: 0.43 - ETA: 8s - loss: 1.5542 - accuracy: 0.44 - ETA: 8s - loss: 1.5491 - accuracy: 0.44 - ETA: 8s - loss: 1.5440 - accuracy: 0.44 - ETA: 8s - loss: 1.5390 - accuracy: 0.44 - ETA: 8s - loss: 1.5340 - accuracy: 0.44 - ETA: 8s - loss: 1.5291 - accuracy: 0.44 - ETA: 8s - loss: 1.5243 - accuracy: 0.45 - ETA: 8s - loss: 1.5196 - accuracy: 0.45 - ETA: 8s - loss: 1.5149 - accuracy: 0.45 - ETA: 8s - loss: 1.5103 - accuracy: 0.45 - ETA: 8s - loss: 1.5072 - accuracy: 0.45 - ETA: 8s - loss: 1.5027 - accuracy: 0.45 - ETA: 7s - loss: 1.4983 - accuracy: 0.46 - ETA: 7s - loss: 1.4953 - accuracy: 0.46 - ETA: 7s - loss: 1.4910 - accuracy: 0.46 - ETA: 7s - loss: 1.4867 - accuracy: 0.46 - ETA: 7s - loss: 1.4838 - accuracy: 0.46 - ETA: 7s - loss: 1.4796 - accuracy: 0.46 - ETA: 7s - loss: 1.4755 - accuracy: 0.46 - ETA: 7s - loss: 1.4713 - accuracy: 0.46 - ETA: 7s - loss: 1.4673 - accuracy: 0.47 - ETA: 7s - loss: 1.4633 - accuracy: 0.47 - ETA: 7s - loss: 1.4594 - accuracy: 0.47 - ETA: 7s - loss: 1.4554 - accuracy: 0.47 - ETA: 7s - loss: 1.4516 - accuracy: 0.47 - ETA: 7s - loss: 1.4478 - accuracy: 0.47 - ETA: 7s - loss: 1.4440 - accuracy: 0.47 - ETA: 7s - loss: 1.4403 - accuracy: 0.48 - ETA: 7s - loss: 1.4366 - accuracy: 0.48 - ETA: 7s - loss: 1.4329 - accuracy: 0.48 - ETA: 7s - loss: 1.4305 - accuracy: 0.48 - ETA: 6s - loss: 1.4269 - accuracy: 0.48 - ETA: 6s - loss: 1.4245 - accuracy: 0.48 - ETA: 6s - loss: 1.4210 - accuracy: 0.48 - ETA: 6s - loss: 1.4175 - accuracy: 0.48 - ETA: 6s - loss: 1.4140 - accuracy: 0.49 - ETA: 6s - loss: 1.4117 - accuracy: 0.49 - ETA: 6s - loss: 1.4083 - accuracy: 0.49 - ETA: 6s - loss: 1.4050 - accuracy: 0.49 - ETA: 6s - loss: 1.4017 - accuracy: 0.49 - ETA: 6s - loss: 1.3984 - accuracy: 0.49 - ETA: 6s - loss: 1.3951 - accuracy: 0.49 - ETA: 6s - loss: 1.3919 - accuracy: 0.49 - ETA: 6s - loss: 1.3887 - accuracy: 0.49 - ETA: 6s - loss: 1.3855 - accuracy: 0.50 - ETA: 6s - loss: 1.3824 - accuracy: 0.50 - ETA: 6s - loss: 1.3793 - accuracy: 0.50 - ETA: 6s - loss: 1.3762 - accuracy: 0.50 - ETA: 5s - loss: 1.3732 - accuracy: 0.50 - ETA: 5s - loss: 1.3711 - accuracy: 0.50 - ETA: 5s - loss: 1.3681 - accuracy: 0.50 - ETA: 5s - loss: 1.3652 - accuracy: 0.50 - ETA: 5s - loss: 1.3622 - accuracy: 0.50 - ETA: 5s - loss: 1.3593 - accuracy: 0.50 - ETA: 5s - loss: 1.3564 - accuracy: 0.51 - ETA: 5s - loss: 1.3545 - accuracy: 0.51 - ETA: 5s - loss: 1.3516 - accuracy: 0.51 - ETA: 5s - loss: 1.3488 - accuracy: 0.51 - ETA: 5s - loss: 1.3460 - accuracy: 0.51 - ETA: 5s - loss: 1.3432 - accuracy: 0.51 - ETA: 5s - loss: 1.3405 - accuracy: 0.51 - ETA: 5s - loss: 1.3386 - accuracy: 0.51 - ETA: 5s - loss: 1.3359 - accuracy: 0.51 - ETA: 5s - loss: 1.3332 - accuracy: 0.51 - ETA: 5s - loss: 1.3305 - accuracy: 0.51 - ETA: 5s - loss: 1.3288 - accuracy: 0.52 - ETA: 4s - loss: 1.3261 - accuracy: 0.52 - ETA: 4s - loss: 1.3235 - accuracy: 0.52 - ETA: 4s - loss: 1.3218 - accuracy: 0.52 - ETA: 4s - loss: 1.3193 - accuracy: 0.52 - ETA: 4s - loss: 1.3167 - accuracy: 0.52 - ETA: 4s - loss: 1.3150 - accuracy: 0.52 - ETA: 4s - loss: 1.3125 - accuracy: 0.52 - ETA: 4s - loss: 1.3101 - accuracy: 0.52 - ETA: 4s - loss: 1.3076 - accuracy: 0.52 - ETA: 4s - loss: 1.3052 - accuracy: 0.52 - ETA: 4s - loss: 1.3027 - accuracy: 0.52 - ETA: 4s - loss: 1.3003 - accuracy: 0.53 - ETA: 4s - loss: 1.2980 - accuracy: 0.53 - ETA: 4s - loss: 1.2956 - accuracy: 0.53 - ETA: 4s - loss: 1.2933 - accuracy: 0.53 - ETA: 4s - loss: 1.2917 - accuracy: 0.53 - ETA: 4s - loss: 1.2894 - accuracy: 0.53 - ETA: 3s - loss: 1.2871 - accuracy: 0.53 - ETA: 3s - loss: 1.2856 - accuracy: 0.53 - ETA: 3s - loss: 1.2841 - accuracy: 0.53 - ETA: 3s - loss: 1.2818 - accuracy: 0.53 - ETA: 3s - loss: 1.2804 - accuracy: 0.53 - ETA: 3s - loss: 1.2789 - accuracy: 0.53 - ETA: 3s - loss: 1.2767 - accuracy: 0.53 - ETA: 3s - loss: 1.2759 - accuracy: 0.53 - ETA: 3s - loss: 1.2745 - accuracy: 0.54 - ETA: 3s - loss: 1.2730 - accuracy: 0.54 - ETA: 3s - loss: 1.2709 - accuracy: 0.54 - ETA: 3s - loss: 1.2687 - accuracy: 0.54 - ETA: 3s - loss: 1.2673 - accuracy: 0.54 - ETA: 3s - loss: 1.2659 - accuracy: 0.54 - ETA: 3s - loss: 1.2638 - accuracy: 0.54 - ETA: 3s - loss: 1.2624 - accuracy: 0.54 - ETA: 3s - loss: 1.2610 - accuracy: 0.54 - ETA: 3s - loss: 1.2590 - accuracy: 0.54 - ETA: 3s - loss: 1.2576 - accuracy: 0.54 - ETA: 3s - loss: 1.2562 - accuracy: 0.54 - ETA: 3s - loss: 1.2549 - accuracy: 0.54 - ETA: 3s - loss: 1.2536 - accuracy: 0.54 - ETA: 3s - loss: 1.2522 - accuracy: 0.54 - ETA: 2s - loss: 1.2502 - accuracy: 0.54 - ETA: 2s - loss: 1.2489 - accuracy: 0.54 - ETA: 2s - loss: 1.2470 - accuracy: 0.54 - ETA: 2s - loss: 1.2463 - accuracy: 0.55 - ETA: 2s - loss: 1.2444 - accuracy: 0.55 - ETA: 2s - loss: 1.2431 - accuracy: 0.55 - ETA: 2s - loss: 1.2412 - accuracy: 0.5519\b\b\b\b\b\b\b\b\b\b\b\b\b\b\b\b\b\b\b\b\b\b\b\b\b\b\b\b\b\b\b\b\b\b\b\b\b\b\b\b\b\b\b\b\b\b\b\b\b\b\b\b\b\b\b\b\b\b\b\b\b\b\b\b\b\b\b\b\b\b\b\b\b\b\b\b\b\b\b\b\b\b\b\b"
     ]
    },
    {
     "name": "stdout",
     "output_type": "stream",
     "text": [
      "657/657 [==============================] - ETA: 2s - loss: 1.2393 - accuracy: 0.55 - ETA: 2s - loss: 1.2381 - accuracy: 0.55 - ETA: 2s - loss: 1.2368 - accuracy: 0.55 - ETA: 2s - loss: 1.2350 - accuracy: 0.55 - ETA: 2s - loss: 1.2331 - accuracy: 0.55 - ETA: 2s - loss: 1.2313 - accuracy: 0.55 - ETA: 2s - loss: 1.2294 - accuracy: 0.55 - ETA: 2s - loss: 1.2276 - accuracy: 0.55 - ETA: 2s - loss: 1.2264 - accuracy: 0.55 - ETA: 2s - loss: 1.2247 - accuracy: 0.55 - ETA: 2s - loss: 1.2235 - accuracy: 0.55 - ETA: 2s - loss: 1.2217 - accuracy: 0.55 - ETA: 1s - loss: 1.2205 - accuracy: 0.55 - ETA: 1s - loss: 1.2194 - accuracy: 0.55 - ETA: 1s - loss: 1.2176 - accuracy: 0.56 - ETA: 1s - loss: 1.2165 - accuracy: 0.56 - ETA: 1s - loss: 1.2148 - accuracy: 0.56 - ETA: 1s - loss: 1.2131 - accuracy: 0.56 - ETA: 1s - loss: 1.2114 - accuracy: 0.56 - ETA: 1s - loss: 1.2097 - accuracy: 0.56 - ETA: 1s - loss: 1.2080 - accuracy: 0.56 - ETA: 1s - loss: 1.2063 - accuracy: 0.56 - ETA: 1s - loss: 1.2052 - accuracy: 0.56 - ETA: 1s - loss: 1.2041 - accuracy: 0.56 - ETA: 1s - loss: 1.2030 - accuracy: 0.56 - ETA: 1s - loss: 1.2019 - accuracy: 0.56 - ETA: 1s - loss: 1.2003 - accuracy: 0.56 - ETA: 1s - loss: 1.1987 - accuracy: 0.56 - ETA: 1s - loss: 1.1971 - accuracy: 0.56 - ETA: 1s - loss: 1.1955 - accuracy: 0.56 - ETA: 0s - loss: 1.1939 - accuracy: 0.56 - ETA: 0s - loss: 1.1929 - accuracy: 0.56 - ETA: 0s - loss: 1.1918 - accuracy: 0.56 - ETA: 0s - loss: 1.1902 - accuracy: 0.57 - ETA: 0s - loss: 1.1892 - accuracy: 0.57 - ETA: 0s - loss: 1.1882 - accuracy: 0.57 - ETA: 0s - loss: 1.1871 - accuracy: 0.57 - ETA: 0s - loss: 1.1861 - accuracy: 0.57 - ETA: 0s - loss: 1.1851 - accuracy: 0.57 - ETA: 0s - loss: 1.1841 - accuracy: 0.57 - ETA: 0s - loss: 1.1831 - accuracy: 0.57 - ETA: 0s - loss: 1.1815 - accuracy: 0.57 - ETA: 0s - loss: 1.1800 - accuracy: 0.57 - ETA: 0s - loss: 1.1785 - accuracy: 0.57 - ETA: 0s - loss: 1.1775 - accuracy: 0.57 - ETA: 0s - loss: 1.1761 - accuracy: 0.57 - ETA: 0s - loss: 1.1751 - accuracy: 0.57 - ETA: 0s - loss: 1.1736 - accuracy: 0.57 - ETA: 0s - loss: 1.1721 - accuracy: 0.57 - 21s 30ms/step - loss: 1.1707 - accuracy: 0.5776 - val_loss: 0.4827 - val_accuracy: 0.8294\n",
      "Epoch 2/4\n"
     ]
    },
    {
     "name": "stdout",
     "output_type": "stream",
     "text": [
      "541/657 [=======================>......] - ETA: 25s - loss: 0.4366 - accuracy: 0.812 - ETA: 11s - loss: 0.6011 - accuracy: 0.784 - ETA: 11s - loss: 0.6395 - accuracy: 0.772 - ETA: 12s - loss: 0.6428 - accuracy: 0.770 - ETA: 12s - loss: 0.6448 - accuracy: 0.768 - ETA: 12s - loss: 0.6469 - accuracy: 0.767 - ETA: 12s - loss: 0.6469 - accuracy: 0.766 - ETA: 12s - loss: 0.6456 - accuracy: 0.765 - ETA: 12s - loss: 0.6451 - accuracy: 0.765 - ETA: 12s - loss: 0.6445 - accuracy: 0.765 - ETA: 12s - loss: 0.6440 - accuracy: 0.765 - ETA: 12s - loss: 0.6435 - accuracy: 0.765 - ETA: 12s - loss: 0.6430 - accuracy: 0.766 - ETA: 12s - loss: 0.6426 - accuracy: 0.766 - ETA: 12s - loss: 0.6415 - accuracy: 0.766 - ETA: 12s - loss: 0.6402 - accuracy: 0.766 - ETA: 12s - loss: 0.6386 - accuracy: 0.767 - ETA: 12s - loss: 0.6372 - accuracy: 0.767 - ETA: 12s - loss: 0.6357 - accuracy: 0.768 - ETA: 12s - loss: 0.6345 - accuracy: 0.768 - ETA: 12s - loss: 0.6338 - accuracy: 0.768 - ETA: 12s - loss: 0.6334 - accuracy: 0.769 - ETA: 11s - loss: 0.6328 - accuracy: 0.769 - ETA: 11s - loss: 0.6324 - accuracy: 0.769 - ETA: 11s - loss: 0.6322 - accuracy: 0.769 - ETA: 11s - loss: 0.6322 - accuracy: 0.769 - ETA: 11s - loss: 0.6323 - accuracy: 0.769 - ETA: 11s - loss: 0.6325 - accuracy: 0.769 - ETA: 11s - loss: 0.6326 - accuracy: 0.769 - ETA: 11s - loss: 0.6327 - accuracy: 0.769 - ETA: 11s - loss: 0.6328 - accuracy: 0.769 - ETA: 11s - loss: 0.6329 - accuracy: 0.769 - ETA: 11s - loss: 0.6329 - accuracy: 0.769 - ETA: 10s - loss: 0.6328 - accuracy: 0.769 - ETA: 10s - loss: 0.6326 - accuracy: 0.769 - ETA: 10s - loss: 0.6325 - accuracy: 0.769 - ETA: 10s - loss: 0.6324 - accuracy: 0.769 - ETA: 10s - loss: 0.6323 - accuracy: 0.769 - ETA: 10s - loss: 0.6321 - accuracy: 0.769 - ETA: 10s - loss: 0.6319 - accuracy: 0.770 - ETA: 10s - loss: 0.6317 - accuracy: 0.770 - ETA: 10s - loss: 0.6315 - accuracy: 0.770 - ETA: 10s - loss: 0.6312 - accuracy: 0.770 - ETA: 10s - loss: 0.6310 - accuracy: 0.770 - ETA: 10s - loss: 0.6309 - accuracy: 0.770 - ETA: 10s - loss: 0.6307 - accuracy: 0.770 - ETA: 10s - loss: 0.6305 - accuracy: 0.771 - ETA: 10s - loss: 0.6302 - accuracy: 0.771 - ETA: 10s - loss: 0.6299 - accuracy: 0.771 - ETA: 10s - loss: 0.6297 - accuracy: 0.771 - ETA: 10s - loss: 0.6294 - accuracy: 0.771 - ETA: 9s - loss: 0.6291 - accuracy: 0.771 - ETA: 9s - loss: 0.6288 - accuracy: 0.77 - ETA: 9s - loss: 0.6285 - accuracy: 0.77 - ETA: 9s - loss: 0.6282 - accuracy: 0.77 - ETA: 9s - loss: 0.6280 - accuracy: 0.77 - ETA: 9s - loss: 0.6277 - accuracy: 0.77 - ETA: 9s - loss: 0.6275 - accuracy: 0.77 - ETA: 9s - loss: 0.6272 - accuracy: 0.77 - ETA: 9s - loss: 0.6269 - accuracy: 0.77 - ETA: 9s - loss: 0.6266 - accuracy: 0.77 - ETA: 9s - loss: 0.6264 - accuracy: 0.77 - ETA: 9s - loss: 0.6261 - accuracy: 0.77 - ETA: 9s - loss: 0.6258 - accuracy: 0.77 - ETA: 9s - loss: 0.6255 - accuracy: 0.77 - ETA: 9s - loss: 0.6253 - accuracy: 0.77 - ETA: 8s - loss: 0.6250 - accuracy: 0.77 - ETA: 8s - loss: 0.6248 - accuracy: 0.77 - ETA: 8s - loss: 0.6246 - accuracy: 0.77 - ETA: 8s - loss: 0.6243 - accuracy: 0.77 - ETA: 8s - loss: 0.6241 - accuracy: 0.77 - ETA: 8s - loss: 0.6240 - accuracy: 0.77 - ETA: 8s - loss: 0.6238 - accuracy: 0.77 - ETA: 8s - loss: 0.6236 - accuracy: 0.77 - ETA: 8s - loss: 0.6234 - accuracy: 0.77 - ETA: 8s - loss: 0.6233 - accuracy: 0.77 - ETA: 8s - loss: 0.6231 - accuracy: 0.77 - ETA: 8s - loss: 0.6230 - accuracy: 0.77 - ETA: 8s - loss: 0.6228 - accuracy: 0.77 - ETA: 8s - loss: 0.6226 - accuracy: 0.77 - ETA: 8s - loss: 0.6224 - accuracy: 0.77 - ETA: 8s - loss: 0.6223 - accuracy: 0.77 - ETA: 8s - loss: 0.6222 - accuracy: 0.77 - ETA: 8s - loss: 0.6220 - accuracy: 0.77 - ETA: 8s - loss: 0.6219 - accuracy: 0.77 - ETA: 8s - loss: 0.6218 - accuracy: 0.77 - ETA: 7s - loss: 0.6216 - accuracy: 0.77 - ETA: 7s - loss: 0.6215 - accuracy: 0.77 - ETA: 7s - loss: 0.6214 - accuracy: 0.77 - ETA: 7s - loss: 0.6212 - accuracy: 0.77 - ETA: 7s - loss: 0.6211 - accuracy: 0.77 - ETA: 7s - loss: 0.6210 - accuracy: 0.77 - ETA: 7s - loss: 0.6209 - accuracy: 0.77 - ETA: 7s - loss: 0.6207 - accuracy: 0.77 - ETA: 7s - loss: 0.6206 - accuracy: 0.77 - ETA: 7s - loss: 0.6204 - accuracy: 0.77 - ETA: 7s - loss: 0.6203 - accuracy: 0.77 - ETA: 7s - loss: 0.6201 - accuracy: 0.77 - ETA: 7s - loss: 0.6200 - accuracy: 0.77 - ETA: 7s - loss: 0.6199 - accuracy: 0.77 - ETA: 7s - loss: 0.6198 - accuracy: 0.77 - ETA: 7s - loss: 0.6197 - accuracy: 0.77 - ETA: 7s - loss: 0.6196 - accuracy: 0.77 - ETA: 7s - loss: 0.6194 - accuracy: 0.77 - ETA: 7s - loss: 0.6193 - accuracy: 0.77 - ETA: 7s - loss: 0.6192 - accuracy: 0.77 - ETA: 6s - loss: 0.6190 - accuracy: 0.77 - ETA: 6s - loss: 0.6189 - accuracy: 0.77 - ETA: 6s - loss: 0.6188 - accuracy: 0.77 - ETA: 6s - loss: 0.6186 - accuracy: 0.77 - ETA: 6s - loss: 0.6185 - accuracy: 0.77 - ETA: 6s - loss: 0.6183 - accuracy: 0.77 - ETA: 6s - loss: 0.6182 - accuracy: 0.77 - ETA: 6s - loss: 0.6181 - accuracy: 0.77 - ETA: 6s - loss: 0.6179 - accuracy: 0.77 - ETA: 6s - loss: 0.6178 - accuracy: 0.77 - ETA: 6s - loss: 0.6176 - accuracy: 0.77 - ETA: 6s - loss: 0.6175 - accuracy: 0.77 - ETA: 6s - loss: 0.6173 - accuracy: 0.77 - ETA: 6s - loss: 0.6172 - accuracy: 0.77 - ETA: 6s - loss: 0.6170 - accuracy: 0.77 - ETA: 6s - loss: 0.6169 - accuracy: 0.77 - ETA: 6s - loss: 0.6168 - accuracy: 0.77 - ETA: 5s - loss: 0.6167 - accuracy: 0.77 - ETA: 5s - loss: 0.6166 - accuracy: 0.77 - ETA: 5s - loss: 0.6165 - accuracy: 0.77 - ETA: 5s - loss: 0.6163 - accuracy: 0.77 - ETA: 5s - loss: 0.6162 - accuracy: 0.77 - ETA: 5s - loss: 0.6161 - accuracy: 0.77 - ETA: 5s - loss: 0.6160 - accuracy: 0.77 - ETA: 5s - loss: 0.6158 - accuracy: 0.78 - ETA: 5s - loss: 0.6157 - accuracy: 0.78 - ETA: 5s - loss: 0.6155 - accuracy: 0.78 - ETA: 5s - loss: 0.6154 - accuracy: 0.78 - ETA: 5s - loss: 0.6153 - accuracy: 0.78 - ETA: 5s - loss: 0.6151 - accuracy: 0.78 - ETA: 5s - loss: 0.6150 - accuracy: 0.78 - ETA: 5s - loss: 0.6149 - accuracy: 0.78 - ETA: 5s - loss: 0.6147 - accuracy: 0.78 - ETA: 5s - loss: 0.6146 - accuracy: 0.78 - ETA: 5s - loss: 0.6145 - accuracy: 0.78 - ETA: 5s - loss: 0.6143 - accuracy: 0.78 - ETA: 4s - loss: 0.6142 - accuracy: 0.78 - ETA: 4s - loss: 0.6140 - accuracy: 0.78 - ETA: 4s - loss: 0.6139 - accuracy: 0.78 - ETA: 4s - loss: 0.6137 - accuracy: 0.78 - ETA: 4s - loss: 0.6136 - accuracy: 0.78 - ETA: 4s - loss: 0.6134 - accuracy: 0.78 - ETA: 4s - loss: 0.6133 - accuracy: 0.78 - ETA: 4s - loss: 0.6131 - accuracy: 0.78 - ETA: 4s - loss: 0.6130 - accuracy: 0.78 - ETA: 4s - loss: 0.6128 - accuracy: 0.78 - ETA: 4s - loss: 0.6127 - accuracy: 0.78 - ETA: 4s - loss: 0.6125 - accuracy: 0.78 - ETA: 4s - loss: 0.6124 - accuracy: 0.78 - ETA: 4s - loss: 0.6122 - accuracy: 0.78 - ETA: 4s - loss: 0.6121 - accuracy: 0.78 - ETA: 4s - loss: 0.6120 - accuracy: 0.78 - ETA: 3s - loss: 0.6118 - accuracy: 0.78 - ETA: 3s - loss: 0.6117 - accuracy: 0.78 - ETA: 3s - loss: 0.6116 - accuracy: 0.78 - ETA: 3s - loss: 0.6115 - accuracy: 0.78 - ETA: 3s - loss: 0.6114 - accuracy: 0.78 - ETA: 3s - loss: 0.6113 - accuracy: 0.78 - ETA: 3s - loss: 0.6111 - accuracy: 0.78 - ETA: 3s - loss: 0.6110 - accuracy: 0.78 - ETA: 3s - loss: 0.6109 - accuracy: 0.78 - ETA: 3s - loss: 0.6107 - accuracy: 0.78 - ETA: 3s - loss: 0.6105 - accuracy: 0.78 - ETA: 3s - loss: 0.6104 - accuracy: 0.78 - ETA: 3s - loss: 0.6103 - accuracy: 0.78 - ETA: 3s - loss: 0.6102 - accuracy: 0.78 - ETA: 3s - loss: 0.6101 - accuracy: 0.78 - ETA: 3s - loss: 0.6100 - accuracy: 0.78 - ETA: 3s - loss: 0.6099 - accuracy: 0.78 - ETA: 3s - loss: 0.6098 - accuracy: 0.78 - ETA: 3s - loss: 0.6097 - accuracy: 0.78 - ETA: 3s - loss: 0.6096 - accuracy: 0.78 - ETA: 3s - loss: 0.6095 - accuracy: 0.78 - ETA: 3s - loss: 0.6094 - accuracy: 0.78 - ETA: 2s - loss: 0.6093 - accuracy: 0.78 - ETA: 2s - loss: 0.6091 - accuracy: 0.78 - ETA: 2s - loss: 0.6090 - accuracy: 0.78 - ETA: 2s - loss: 0.6088 - accuracy: 0.78 - ETA: 2s - loss: 0.6088 - accuracy: 0.78 - ETA: 2s - loss: 0.6087 - accuracy: 0.78 - ETA: 2s - loss: 0.6086 - accuracy: 0.78 - ETA: 2s - loss: 0.6084 - accuracy: 0.78 - ETA: 2s - loss: 0.6083 - accuracy: 0.78 - ETA: 2s - loss: 0.6082 - accuracy: 0.78 - ETA: 2s - loss: 0.6080 - accuracy: 0.78 - ETA: 2s - loss: 0.6079 - accuracy: 0.7838"
     ]
    },
    {
     "name": "stdout",
     "output_type": "stream",
     "text": [
      "657/657 [==============================] - ETA: 2s - loss: 0.6078 - accuracy: 0.78 - ETA: 2s - loss: 0.6077 - accuracy: 0.78 - ETA: 2s - loss: 0.6076 - accuracy: 0.78 - ETA: 2s - loss: 0.6075 - accuracy: 0.78 - ETA: 2s - loss: 0.6074 - accuracy: 0.78 - ETA: 2s - loss: 0.6072 - accuracy: 0.78 - ETA: 2s - loss: 0.6071 - accuracy: 0.78 - ETA: 2s - loss: 0.6071 - accuracy: 0.78 - ETA: 1s - loss: 0.6069 - accuracy: 0.78 - ETA: 1s - loss: 0.6069 - accuracy: 0.78 - ETA: 1s - loss: 0.6068 - accuracy: 0.78 - ETA: 1s - loss: 0.6066 - accuracy: 0.78 - ETA: 1s - loss: 0.6066 - accuracy: 0.78 - ETA: 1s - loss: 0.6064 - accuracy: 0.78 - ETA: 1s - loss: 0.6064 - accuracy: 0.78 - ETA: 1s - loss: 0.6063 - accuracy: 0.78 - ETA: 1s - loss: 0.6062 - accuracy: 0.78 - ETA: 1s - loss: 0.6061 - accuracy: 0.78 - ETA: 1s - loss: 0.6060 - accuracy: 0.78 - ETA: 1s - loss: 0.6060 - accuracy: 0.78 - ETA: 1s - loss: 0.6059 - accuracy: 0.78 - ETA: 1s - loss: 0.6058 - accuracy: 0.78 - ETA: 1s - loss: 0.6056 - accuracy: 0.78 - ETA: 1s - loss: 0.6055 - accuracy: 0.78 - ETA: 1s - loss: 0.6054 - accuracy: 0.78 - ETA: 1s - loss: 0.6053 - accuracy: 0.78 - ETA: 1s - loss: 0.6051 - accuracy: 0.78 - ETA: 1s - loss: 0.6051 - accuracy: 0.78 - ETA: 0s - loss: 0.6049 - accuracy: 0.78 - ETA: 0s - loss: 0.6048 - accuracy: 0.78 - ETA: 0s - loss: 0.6047 - accuracy: 0.78 - ETA: 0s - loss: 0.6046 - accuracy: 0.78 - ETA: 0s - loss: 0.6045 - accuracy: 0.78 - ETA: 0s - loss: 0.6044 - accuracy: 0.78 - ETA: 0s - loss: 0.6043 - accuracy: 0.78 - ETA: 0s - loss: 0.6042 - accuracy: 0.78 - ETA: 0s - loss: 0.6042 - accuracy: 0.78 - ETA: 0s - loss: 0.6041 - accuracy: 0.78 - ETA: 0s - loss: 0.6040 - accuracy: 0.78 - ETA: 0s - loss: 0.6039 - accuracy: 0.78 - ETA: 0s - loss: 0.6038 - accuracy: 0.78 - ETA: 0s - loss: 0.6037 - accuracy: 0.78 - ETA: 0s - loss: 0.6036 - accuracy: 0.78 - ETA: 0s - loss: 0.6035 - accuracy: 0.78 - ETA: 0s - loss: 0.6034 - accuracy: 0.78 - ETA: 0s - loss: 0.6033 - accuracy: 0.78 - 16s 24ms/step - loss: 0.6031 - accuracy: 0.7860 - val_loss: 0.4129 - val_accuracy: 0.8525\n",
      "Epoch 3/4\n"
     ]
    },
    {
     "name": "stdout",
     "output_type": "stream",
     "text": [
      "450/657 [===================>..........] - ETA: 25s - loss: 0.5779 - accuracy: 0.734 - ETA: 17s - loss: 0.5467 - accuracy: 0.781 - ETA: 15s - loss: 0.5313 - accuracy: 0.796 - ETA: 14s - loss: 0.5433 - accuracy: 0.795 - ETA: 13s - loss: 0.5570 - accuracy: 0.791 - ETA: 14s - loss: 0.5606 - accuracy: 0.791 - ETA: 14s - loss: 0.5639 - accuracy: 0.790 - ETA: 13s - loss: 0.5629 - accuracy: 0.790 - ETA: 13s - loss: 0.5628 - accuracy: 0.791 - ETA: 13s - loss: 0.5625 - accuracy: 0.791 - ETA: 12s - loss: 0.5616 - accuracy: 0.791 - ETA: 12s - loss: 0.5605 - accuracy: 0.792 - ETA: 12s - loss: 0.5594 - accuracy: 0.792 - ETA: 12s - loss: 0.5579 - accuracy: 0.793 - ETA: 12s - loss: 0.5566 - accuracy: 0.793 - ETA: 12s - loss: 0.5558 - accuracy: 0.794 - ETA: 12s - loss: 0.5556 - accuracy: 0.794 - ETA: 12s - loss: 0.5552 - accuracy: 0.795 - ETA: 12s - loss: 0.5546 - accuracy: 0.795 - ETA: 12s - loss: 0.5545 - accuracy: 0.795 - ETA: 12s - loss: 0.5545 - accuracy: 0.795 - ETA: 12s - loss: 0.5545 - accuracy: 0.796 - ETA: 12s - loss: 0.5548 - accuracy: 0.796 - ETA: 12s - loss: 0.5549 - accuracy: 0.796 - ETA: 12s - loss: 0.5551 - accuracy: 0.796 - ETA: 12s - loss: 0.5552 - accuracy: 0.796 - ETA: 12s - loss: 0.5552 - accuracy: 0.797 - ETA: 12s - loss: 0.5553 - accuracy: 0.797 - ETA: 12s - loss: 0.5555 - accuracy: 0.797 - ETA: 12s - loss: 0.5555 - accuracy: 0.798 - ETA: 12s - loss: 0.5555 - accuracy: 0.798 - ETA: 12s - loss: 0.5556 - accuracy: 0.798 - ETA: 12s - loss: 0.5557 - accuracy: 0.798 - ETA: 12s - loss: 0.5558 - accuracy: 0.798 - ETA: 12s - loss: 0.5557 - accuracy: 0.799 - ETA: 12s - loss: 0.5556 - accuracy: 0.799 - ETA: 12s - loss: 0.5556 - accuracy: 0.799 - ETA: 12s - loss: 0.5555 - accuracy: 0.799 - ETA: 12s - loss: 0.5554 - accuracy: 0.799 - ETA: 12s - loss: 0.5553 - accuracy: 0.800 - ETA: 12s - loss: 0.5553 - accuracy: 0.800 - ETA: 12s - loss: 0.5553 - accuracy: 0.800 - ETA: 12s - loss: 0.5553 - accuracy: 0.800 - ETA: 11s - loss: 0.5553 - accuracy: 0.800 - ETA: 11s - loss: 0.5552 - accuracy: 0.800 - ETA: 11s - loss: 0.5552 - accuracy: 0.800 - ETA: 11s - loss: 0.5551 - accuracy: 0.800 - ETA: 11s - loss: 0.5550 - accuracy: 0.800 - ETA: 11s - loss: 0.5549 - accuracy: 0.801 - ETA: 11s - loss: 0.5548 - accuracy: 0.801 - ETA: 11s - loss: 0.5547 - accuracy: 0.801 - ETA: 11s - loss: 0.5545 - accuracy: 0.801 - ETA: 11s - loss: 0.5544 - accuracy: 0.801 - ETA: 11s - loss: 0.5543 - accuracy: 0.801 - ETA: 11s - loss: 0.5541 - accuracy: 0.801 - ETA: 11s - loss: 0.5540 - accuracy: 0.801 - ETA: 11s - loss: 0.5538 - accuracy: 0.801 - ETA: 11s - loss: 0.5536 - accuracy: 0.802 - ETA: 12s - loss: 0.5535 - accuracy: 0.802 - ETA: 11s - loss: 0.5534 - accuracy: 0.802 - ETA: 11s - loss: 0.5532 - accuracy: 0.802 - ETA: 11s - loss: 0.5531 - accuracy: 0.802 - ETA: 11s - loss: 0.5530 - accuracy: 0.802 - ETA: 11s - loss: 0.5529 - accuracy: 0.802 - ETA: 11s - loss: 0.5528 - accuracy: 0.802 - ETA: 11s - loss: 0.5527 - accuracy: 0.802 - ETA: 11s - loss: 0.5526 - accuracy: 0.802 - ETA: 11s - loss: 0.5524 - accuracy: 0.803 - ETA: 11s - loss: 0.5523 - accuracy: 0.803 - ETA: 11s - loss: 0.5522 - accuracy: 0.803 - ETA: 11s - loss: 0.5521 - accuracy: 0.803 - ETA: 11s - loss: 0.5521 - accuracy: 0.803 - ETA: 11s - loss: 0.5520 - accuracy: 0.803 - ETA: 11s - loss: 0.5519 - accuracy: 0.803 - ETA: 11s - loss: 0.5518 - accuracy: 0.803 - ETA: 10s - loss: 0.5517 - accuracy: 0.803 - ETA: 10s - loss: 0.5517 - accuracy: 0.803 - ETA: 10s - loss: 0.5516 - accuracy: 0.803 - ETA: 10s - loss: 0.5516 - accuracy: 0.803 - ETA: 10s - loss: 0.5515 - accuracy: 0.803 - ETA: 10s - loss: 0.5514 - accuracy: 0.804 - ETA: 10s - loss: 0.5513 - accuracy: 0.804 - ETA: 10s - loss: 0.5513 - accuracy: 0.804 - ETA: 10s - loss: 0.5512 - accuracy: 0.804 - ETA: 10s - loss: 0.5512 - accuracy: 0.804 - ETA: 10s - loss: 0.5512 - accuracy: 0.804 - ETA: 10s - loss: 0.5511 - accuracy: 0.804 - ETA: 10s - loss: 0.5511 - accuracy: 0.804 - ETA: 10s - loss: 0.5510 - accuracy: 0.804 - ETA: 10s - loss: 0.5509 - accuracy: 0.804 - ETA: 10s - loss: 0.5508 - accuracy: 0.804 - ETA: 10s - loss: 0.5507 - accuracy: 0.804 - ETA: 10s - loss: 0.5506 - accuracy: 0.804 - ETA: 10s - loss: 0.5505 - accuracy: 0.804 - ETA: 10s - loss: 0.5504 - accuracy: 0.804 - ETA: 10s - loss: 0.5502 - accuracy: 0.804 - ETA: 9s - loss: 0.5502 - accuracy: 0.804 - ETA: 9s - loss: 0.5501 - accuracy: 0.80 - ETA: 9s - loss: 0.5500 - accuracy: 0.80 - ETA: 9s - loss: 0.5499 - accuracy: 0.80 - ETA: 9s - loss: 0.5498 - accuracy: 0.80 - ETA: 9s - loss: 0.5497 - accuracy: 0.80 - ETA: 9s - loss: 0.5497 - accuracy: 0.80 - ETA: 9s - loss: 0.5496 - accuracy: 0.80 - ETA: 9s - loss: 0.5495 - accuracy: 0.80 - ETA: 9s - loss: 0.5494 - accuracy: 0.80 - ETA: 9s - loss: 0.5493 - accuracy: 0.80 - ETA: 9s - loss: 0.5492 - accuracy: 0.80 - ETA: 9s - loss: 0.5491 - accuracy: 0.80 - ETA: 9s - loss: 0.5490 - accuracy: 0.80 - ETA: 9s - loss: 0.5489 - accuracy: 0.80 - ETA: 9s - loss: 0.5488 - accuracy: 0.80 - ETA: 9s - loss: 0.5487 - accuracy: 0.80 - ETA: 8s - loss: 0.5486 - accuracy: 0.80 - ETA: 8s - loss: 0.5485 - accuracy: 0.80 - ETA: 8s - loss: 0.5484 - accuracy: 0.80 - ETA: 8s - loss: 0.5483 - accuracy: 0.80 - ETA: 8s - loss: 0.5482 - accuracy: 0.80 - ETA: 8s - loss: 0.5481 - accuracy: 0.80 - ETA: 8s - loss: 0.5480 - accuracy: 0.80 - ETA: 8s - loss: 0.5480 - accuracy: 0.80 - ETA: 8s - loss: 0.5479 - accuracy: 0.80 - ETA: 8s - loss: 0.5477 - accuracy: 0.80 - ETA: 8s - loss: 0.5477 - accuracy: 0.80 - ETA: 8s - loss: 0.5476 - accuracy: 0.80 - ETA: 8s - loss: 0.5475 - accuracy: 0.80 - ETA: 8s - loss: 0.5474 - accuracy: 0.80 - ETA: 8s - loss: 0.5473 - accuracy: 0.80 - ETA: 8s - loss: 0.5472 - accuracy: 0.80 - ETA: 8s - loss: 0.5471 - accuracy: 0.80 - ETA: 8s - loss: 0.5470 - accuracy: 0.80 - ETA: 8s - loss: 0.5468 - accuracy: 0.80 - ETA: 8s - loss: 0.5467 - accuracy: 0.80 - ETA: 8s - loss: 0.5466 - accuracy: 0.80 - ETA: 7s - loss: 0.5466 - accuracy: 0.80 - ETA: 7s - loss: 0.5464 - accuracy: 0.80 - ETA: 7s - loss: 0.5463 - accuracy: 0.80 - ETA: 7s - loss: 0.5462 - accuracy: 0.80 - ETA: 7s - loss: 0.5461 - accuracy: 0.80 - ETA: 7s - loss: 0.5460 - accuracy: 0.80 - ETA: 7s - loss: 0.5459 - accuracy: 0.80 - ETA: 7s - loss: 0.5458 - accuracy: 0.80 - ETA: 7s - loss: 0.5457 - accuracy: 0.80 - ETA: 7s - loss: 0.5456 - accuracy: 0.80 - ETA: 7s - loss: 0.5454 - accuracy: 0.80 - ETA: 7s - loss: 0.5453 - accuracy: 0.80 - ETA: 7s - loss: 0.5452 - accuracy: 0.80 - ETA: 7s - loss: 0.5451 - accuracy: 0.80 - ETA: 7s - loss: 0.5451 - accuracy: 0.80 - ETA: 7s - loss: 0.5450 - accuracy: 0.80 - ETA: 7s - loss: 0.5449 - accuracy: 0.80 - ETA: 7s - loss: 0.5448 - accuracy: 0.80 - ETA: 6s - loss: 0.5447 - accuracy: 0.80 - ETA: 6s - loss: 0.5446 - accuracy: 0.80 - ETA: 6s - loss: 0.5445 - accuracy: 0.80 - ETA: 6s - loss: 0.5444 - accuracy: 0.80 - ETA: 6s - loss: 0.5443 - accuracy: 0.80 - ETA: 6s - loss: 0.5442 - accuracy: 0.80 - ETA: 6s - loss: 0.5441 - accuracy: 0.80 - ETA: 6s - loss: 0.5441 - accuracy: 0.80 - ETA: 6s - loss: 0.5440 - accuracy: 0.80 - ETA: 6s - loss: 0.5439 - accuracy: 0.80 - ETA: 6s - loss: 0.5439 - accuracy: 0.80 - ETA: 6s - loss: 0.5438 - accuracy: 0.80 - ETA: 6s - loss: 0.5437 - accuracy: 0.80 - ETA: 6s - loss: 0.5436 - accuracy: 0.80 - ETA: 6s - loss: 0.5435 - accuracy: 0.80 - ETA: 6s - loss: 0.5435 - accuracy: 0.80 - ETA: 6s - loss: 0.5434 - accuracy: 0.80 - ETA: 6s - loss: 0.5433 - accuracy: 0.80 - ETA: 6s - loss: 0.5432 - accuracy: 0.80 - ETA: 6s - loss: 0.5432 - accuracy: 0.80 - ETA: 5s - loss: 0.5431 - accuracy: 0.80 - ETA: 5s - loss: 0.5431 - accuracy: 0.80 - ETA: 5s - loss: 0.5430 - accuracy: 0.80 - ETA: 5s - loss: 0.5430 - accuracy: 0.80 - ETA: 5s - loss: 0.5429 - accuracy: 0.80 - ETA: 5s - loss: 0.5428 - accuracy: 0.80 - ETA: 5s - loss: 0.5428 - accuracy: 0.80 - ETA: 5s - loss: 0.5427 - accuracy: 0.80 - ETA: 5s - loss: 0.5426 - accuracy: 0.80 - ETA: 5s - loss: 0.5426 - accuracy: 0.80 - ETA: 5s - loss: 0.5425 - accuracy: 0.80 - ETA: 5s - loss: 0.5425 - accuracy: 0.80 - ETA: 5s - loss: 0.5424 - accuracy: 0.80 - ETA: 5s - loss: 0.5424 - accuracy: 0.80 - ETA: 5s - loss: 0.5423 - accuracy: 0.80 - ETA: 5s - loss: 0.5422 - accuracy: 0.80 - ETA: 5s - loss: 0.5422 - accuracy: 0.80 - ETA: 5s - loss: 0.5421 - accuracy: 0.8083"
     ]
    },
    {
     "name": "stdout",
     "output_type": "stream",
     "text": [
      "657/657 [==============================] - ETA: 5s - loss: 0.5421 - accuracy: 0.80 - ETA: 5s - loss: 0.5420 - accuracy: 0.80 - ETA: 5s - loss: 0.5420 - accuracy: 0.80 - ETA: 5s - loss: 0.5419 - accuracy: 0.80 - ETA: 5s - loss: 0.5419 - accuracy: 0.80 - ETA: 4s - loss: 0.5418 - accuracy: 0.80 - ETA: 4s - loss: 0.5418 - accuracy: 0.80 - ETA: 4s - loss: 0.5417 - accuracy: 0.80 - ETA: 4s - loss: 0.5417 - accuracy: 0.80 - ETA: 4s - loss: 0.5416 - accuracy: 0.80 - ETA: 4s - loss: 0.5415 - accuracy: 0.80 - ETA: 4s - loss: 0.5415 - accuracy: 0.80 - ETA: 4s - loss: 0.5414 - accuracy: 0.80 - ETA: 4s - loss: 0.5414 - accuracy: 0.80 - ETA: 4s - loss: 0.5413 - accuracy: 0.80 - ETA: 4s - loss: 0.5412 - accuracy: 0.80 - ETA: 4s - loss: 0.5412 - accuracy: 0.80 - ETA: 4s - loss: 0.5411 - accuracy: 0.80 - ETA: 4s - loss: 0.5411 - accuracy: 0.80 - ETA: 4s - loss: 0.5410 - accuracy: 0.80 - ETA: 4s - loss: 0.5409 - accuracy: 0.80 - ETA: 4s - loss: 0.5409 - accuracy: 0.80 - ETA: 4s - loss: 0.5408 - accuracy: 0.80 - ETA: 4s - loss: 0.5408 - accuracy: 0.80 - ETA: 4s - loss: 0.5407 - accuracy: 0.80 - ETA: 4s - loss: 0.5407 - accuracy: 0.80 - ETA: 3s - loss: 0.5406 - accuracy: 0.80 - ETA: 3s - loss: 0.5405 - accuracy: 0.80 - ETA: 3s - loss: 0.5405 - accuracy: 0.80 - ETA: 3s - loss: 0.5404 - accuracy: 0.80 - ETA: 3s - loss: 0.5404 - accuracy: 0.80 - ETA: 3s - loss: 0.5403 - accuracy: 0.80 - ETA: 3s - loss: 0.5403 - accuracy: 0.80 - ETA: 3s - loss: 0.5403 - accuracy: 0.80 - ETA: 3s - loss: 0.5402 - accuracy: 0.80 - ETA: 3s - loss: 0.5402 - accuracy: 0.80 - ETA: 3s - loss: 0.5401 - accuracy: 0.80 - ETA: 3s - loss: 0.5401 - accuracy: 0.80 - ETA: 3s - loss: 0.5400 - accuracy: 0.80 - ETA: 3s - loss: 0.5400 - accuracy: 0.80 - ETA: 3s - loss: 0.5399 - accuracy: 0.80 - ETA: 3s - loss: 0.5399 - accuracy: 0.80 - ETA: 3s - loss: 0.5399 - accuracy: 0.80 - ETA: 3s - loss: 0.5398 - accuracy: 0.80 - ETA: 3s - loss: 0.5398 - accuracy: 0.80 - ETA: 3s - loss: 0.5397 - accuracy: 0.80 - ETA: 2s - loss: 0.5397 - accuracy: 0.80 - ETA: 2s - loss: 0.5397 - accuracy: 0.80 - ETA: 2s - loss: 0.5396 - accuracy: 0.80 - ETA: 2s - loss: 0.5396 - accuracy: 0.80 - ETA: 2s - loss: 0.5395 - accuracy: 0.80 - ETA: 2s - loss: 0.5395 - accuracy: 0.80 - ETA: 2s - loss: 0.5395 - accuracy: 0.80 - ETA: 2s - loss: 0.5394 - accuracy: 0.80 - ETA: 2s - loss: 0.5394 - accuracy: 0.80 - ETA: 2s - loss: 0.5393 - accuracy: 0.80 - ETA: 2s - loss: 0.5393 - accuracy: 0.80 - ETA: 2s - loss: 0.5393 - accuracy: 0.80 - ETA: 2s - loss: 0.5392 - accuracy: 0.80 - ETA: 2s - loss: 0.5392 - accuracy: 0.80 - ETA: 2s - loss: 0.5391 - accuracy: 0.80 - ETA: 2s - loss: 0.5391 - accuracy: 0.80 - ETA: 2s - loss: 0.5391 - accuracy: 0.80 - ETA: 2s - loss: 0.5390 - accuracy: 0.80 - ETA: 2s - loss: 0.5390 - accuracy: 0.80 - ETA: 1s - loss: 0.5389 - accuracy: 0.80 - ETA: 1s - loss: 0.5389 - accuracy: 0.80 - ETA: 1s - loss: 0.5389 - accuracy: 0.80 - ETA: 1s - loss: 0.5388 - accuracy: 0.80 - ETA: 1s - loss: 0.5388 - accuracy: 0.80 - ETA: 1s - loss: 0.5388 - accuracy: 0.80 - ETA: 1s - loss: 0.5387 - accuracy: 0.80 - ETA: 1s - loss: 0.5387 - accuracy: 0.80 - ETA: 1s - loss: 0.5386 - accuracy: 0.80 - ETA: 1s - loss: 0.5386 - accuracy: 0.80 - ETA: 1s - loss: 0.5386 - accuracy: 0.80 - ETA: 1s - loss: 0.5385 - accuracy: 0.80 - ETA: 1s - loss: 0.5385 - accuracy: 0.80 - ETA: 1s - loss: 0.5385 - accuracy: 0.80 - ETA: 1s - loss: 0.5384 - accuracy: 0.80 - ETA: 1s - loss: 0.5384 - accuracy: 0.80 - ETA: 1s - loss: 0.5383 - accuracy: 0.80 - ETA: 1s - loss: 0.5383 - accuracy: 0.80 - ETA: 1s - loss: 0.5383 - accuracy: 0.80 - ETA: 0s - loss: 0.5382 - accuracy: 0.80 - ETA: 0s - loss: 0.5382 - accuracy: 0.80 - ETA: 0s - loss: 0.5382 - accuracy: 0.80 - ETA: 0s - loss: 0.5381 - accuracy: 0.80 - ETA: 0s - loss: 0.5381 - accuracy: 0.80 - ETA: 0s - loss: 0.5381 - accuracy: 0.80 - ETA: 0s - loss: 0.5380 - accuracy: 0.80 - ETA: 0s - loss: 0.5380 - accuracy: 0.80 - ETA: 0s - loss: 0.5380 - accuracy: 0.80 - ETA: 0s - loss: 0.5379 - accuracy: 0.80 - ETA: 0s - loss: 0.5379 - accuracy: 0.80 - ETA: 0s - loss: 0.5378 - accuracy: 0.80 - ETA: 0s - loss: 0.5378 - accuracy: 0.80 - ETA: 0s - loss: 0.5378 - accuracy: 0.80 - ETA: 0s - loss: 0.5377 - accuracy: 0.80 - ETA: 0s - loss: 0.5377 - accuracy: 0.80 - ETA: 0s - loss: 0.5377 - accuracy: 0.80 - ETA: 0s - loss: 0.5376 - accuracy: 0.81 - ETA: 0s - loss: 0.5376 - accuracy: 0.81 - ETA: 0s - loss: 0.5376 - accuracy: 0.81 - 19s 30ms/step - loss: 0.5376 - accuracy: 0.8100 - val_loss: 0.4023 - val_accuracy: 0.8532\n",
      "Epoch 4/4\n"
     ]
    },
    {
     "name": "stdout",
     "output_type": "stream",
     "text": [
      "375/657 [================>.............] - ETA: 40s - loss: 0.5267 - accuracy: 0.843 - ETA: 13s - loss: 0.5058 - accuracy: 0.829 - ETA: 16s - loss: 0.5098 - accuracy: 0.825 - ETA: 17s - loss: 0.5103 - accuracy: 0.825 - ETA: 17s - loss: 0.5139 - accuracy: 0.821 - ETA: 17s - loss: 0.5115 - accuracy: 0.820 - ETA: 18s - loss: 0.5084 - accuracy: 0.820 - ETA: 18s - loss: 0.5078 - accuracy: 0.819 - ETA: 18s - loss: 0.5077 - accuracy: 0.818 - ETA: 18s - loss: 0.5088 - accuracy: 0.817 - ETA: 18s - loss: 0.5101 - accuracy: 0.816 - ETA: 18s - loss: 0.5109 - accuracy: 0.816 - ETA: 19s - loss: 0.5121 - accuracy: 0.816 - ETA: 18s - loss: 0.5129 - accuracy: 0.816 - ETA: 18s - loss: 0.5134 - accuracy: 0.816 - ETA: 19s - loss: 0.5137 - accuracy: 0.816 - ETA: 19s - loss: 0.5141 - accuracy: 0.816 - ETA: 19s - loss: 0.5146 - accuracy: 0.816 - ETA: 19s - loss: 0.5149 - accuracy: 0.816 - ETA: 19s - loss: 0.5147 - accuracy: 0.816 - ETA: 19s - loss: 0.5145 - accuracy: 0.816 - ETA: 19s - loss: 0.5140 - accuracy: 0.816 - ETA: 18s - loss: 0.5134 - accuracy: 0.817 - ETA: 19s - loss: 0.5130 - accuracy: 0.817 - ETA: 18s - loss: 0.5123 - accuracy: 0.817 - ETA: 18s - loss: 0.5116 - accuracy: 0.817 - ETA: 18s - loss: 0.5109 - accuracy: 0.818 - ETA: 18s - loss: 0.5098 - accuracy: 0.818 - ETA: 17s - loss: 0.5091 - accuracy: 0.818 - ETA: 17s - loss: 0.5085 - accuracy: 0.818 - ETA: 18s - loss: 0.5082 - accuracy: 0.818 - ETA: 18s - loss: 0.5076 - accuracy: 0.819 - ETA: 17s - loss: 0.5070 - accuracy: 0.819 - ETA: 17s - loss: 0.5061 - accuracy: 0.819 - ETA: 17s - loss: 0.5057 - accuracy: 0.819 - ETA: 17s - loss: 0.5055 - accuracy: 0.819 - ETA: 17s - loss: 0.5052 - accuracy: 0.819 - ETA: 17s - loss: 0.5048 - accuracy: 0.819 - ETA: 17s - loss: 0.5046 - accuracy: 0.820 - ETA: 17s - loss: 0.5043 - accuracy: 0.820 - ETA: 17s - loss: 0.5042 - accuracy: 0.820 - ETA: 17s - loss: 0.5041 - accuracy: 0.820 - ETA: 16s - loss: 0.5040 - accuracy: 0.820 - ETA: 16s - loss: 0.5040 - accuracy: 0.820 - ETA: 16s - loss: 0.5039 - accuracy: 0.820 - ETA: 16s - loss: 0.5039 - accuracy: 0.820 - ETA: 16s - loss: 0.5038 - accuracy: 0.820 - ETA: 16s - loss: 0.5038 - accuracy: 0.820 - ETA: 16s - loss: 0.5039 - accuracy: 0.820 - ETA: 16s - loss: 0.5039 - accuracy: 0.819 - ETA: 16s - loss: 0.5041 - accuracy: 0.819 - ETA: 15s - loss: 0.5041 - accuracy: 0.819 - ETA: 15s - loss: 0.5041 - accuracy: 0.819 - ETA: 15s - loss: 0.5042 - accuracy: 0.819 - ETA: 15s - loss: 0.5043 - accuracy: 0.819 - ETA: 15s - loss: 0.5044 - accuracy: 0.819 - ETA: 15s - loss: 0.5046 - accuracy: 0.819 - ETA: 15s - loss: 0.5046 - accuracy: 0.819 - ETA: 15s - loss: 0.5047 - accuracy: 0.819 - ETA: 15s - loss: 0.5048 - accuracy: 0.819 - ETA: 15s - loss: 0.5048 - accuracy: 0.819 - ETA: 15s - loss: 0.5049 - accuracy: 0.819 - ETA: 15s - loss: 0.5051 - accuracy: 0.819 - ETA: 15s - loss: 0.5052 - accuracy: 0.819 - ETA: 15s - loss: 0.5054 - accuracy: 0.819 - ETA: 15s - loss: 0.5055 - accuracy: 0.819 - ETA: 15s - loss: 0.5057 - accuracy: 0.819 - ETA: 15s - loss: 0.5058 - accuracy: 0.819 - ETA: 15s - loss: 0.5059 - accuracy: 0.819 - ETA: 14s - loss: 0.5060 - accuracy: 0.819 - ETA: 14s - loss: 0.5061 - accuracy: 0.819 - ETA: 14s - loss: 0.5062 - accuracy: 0.819 - ETA: 14s - loss: 0.5063 - accuracy: 0.819 - ETA: 14s - loss: 0.5064 - accuracy: 0.819 - ETA: 14s - loss: 0.5066 - accuracy: 0.819 - ETA: 14s - loss: 0.5067 - accuracy: 0.819 - ETA: 14s - loss: 0.5069 - accuracy: 0.819 - ETA: 14s - loss: 0.5070 - accuracy: 0.819 - ETA: 14s - loss: 0.5071 - accuracy: 0.819 - ETA: 14s - loss: 0.5072 - accuracy: 0.819 - ETA: 14s - loss: 0.5072 - accuracy: 0.819 - ETA: 14s - loss: 0.5073 - accuracy: 0.819 - ETA: 14s - loss: 0.5074 - accuracy: 0.819 - ETA: 14s - loss: 0.5074 - accuracy: 0.819 - ETA: 14s - loss: 0.5075 - accuracy: 0.819 - ETA: 14s - loss: 0.5076 - accuracy: 0.819 - ETA: 14s - loss: 0.5077 - accuracy: 0.819 - ETA: 14s - loss: 0.5078 - accuracy: 0.819 - ETA: 14s - loss: 0.5079 - accuracy: 0.819 - ETA: 14s - loss: 0.5080 - accuracy: 0.819 - ETA: 14s - loss: 0.5081 - accuracy: 0.819 - ETA: 13s - loss: 0.5082 - accuracy: 0.819 - ETA: 13s - loss: 0.5082 - accuracy: 0.819 - ETA: 13s - loss: 0.5083 - accuracy: 0.819 - ETA: 13s - loss: 0.5084 - accuracy: 0.819 - ETA: 13s - loss: 0.5085 - accuracy: 0.819 - ETA: 13s - loss: 0.5086 - accuracy: 0.819 - ETA: 13s - loss: 0.5087 - accuracy: 0.819 - ETA: 13s - loss: 0.5088 - accuracy: 0.819 - ETA: 13s - loss: 0.5089 - accuracy: 0.819 - ETA: 13s - loss: 0.5089 - accuracy: 0.819 - ETA: 13s - loss: 0.5090 - accuracy: 0.819 - ETA: 13s - loss: 0.5091 - accuracy: 0.819 - ETA: 13s - loss: 0.5092 - accuracy: 0.819 - ETA: 13s - loss: 0.5092 - accuracy: 0.819 - ETA: 13s - loss: 0.5093 - accuracy: 0.819 - ETA: 13s - loss: 0.5093 - accuracy: 0.819 - ETA: 13s - loss: 0.5093 - accuracy: 0.819 - ETA: 13s - loss: 0.5094 - accuracy: 0.819 - ETA: 13s - loss: 0.5095 - accuracy: 0.819 - ETA: 13s - loss: 0.5095 - accuracy: 0.819 - ETA: 13s - loss: 0.5095 - accuracy: 0.819 - ETA: 12s - loss: 0.5096 - accuracy: 0.819 - ETA: 12s - loss: 0.5096 - accuracy: 0.819 - ETA: 12s - loss: 0.5097 - accuracy: 0.819 - ETA: 12s - loss: 0.5097 - accuracy: 0.819 - ETA: 12s - loss: 0.5098 - accuracy: 0.819 - ETA: 12s - loss: 0.5098 - accuracy: 0.819 - ETA: 12s - loss: 0.5099 - accuracy: 0.819 - ETA: 12s - loss: 0.5099 - accuracy: 0.819 - ETA: 12s - loss: 0.5099 - accuracy: 0.819 - ETA: 12s - loss: 0.5100 - accuracy: 0.819 - ETA: 12s - loss: 0.5100 - accuracy: 0.819 - ETA: 12s - loss: 0.5100 - accuracy: 0.819 - ETA: 12s - loss: 0.5100 - accuracy: 0.819 - ETA: 12s - loss: 0.5100 - accuracy: 0.819 - ETA: 12s - loss: 0.5100 - accuracy: 0.819 - ETA: 12s - loss: 0.5100 - accuracy: 0.819 - ETA: 12s - loss: 0.5101 - accuracy: 0.819 - ETA: 11s - loss: 0.5101 - accuracy: 0.819 - ETA: 11s - loss: 0.5101 - accuracy: 0.819 - ETA: 11s - loss: 0.5101 - accuracy: 0.819 - ETA: 11s - loss: 0.5101 - accuracy: 0.819 - ETA: 11s - loss: 0.5100 - accuracy: 0.819 - ETA: 11s - loss: 0.5100 - accuracy: 0.819 - ETA: 11s - loss: 0.5100 - accuracy: 0.819 - ETA: 11s - loss: 0.5101 - accuracy: 0.819 - ETA: 11s - loss: 0.5100 - accuracy: 0.819 - ETA: 11s - loss: 0.5100 - accuracy: 0.819 - ETA: 11s - loss: 0.5100 - accuracy: 0.819 - ETA: 11s - loss: 0.5100 - accuracy: 0.819 - ETA: 11s - loss: 0.5100 - accuracy: 0.819 - ETA: 11s - loss: 0.5100 - accuracy: 0.819 - ETA: 11s - loss: 0.5100 - accuracy: 0.819 - ETA: 11s - loss: 0.5100 - accuracy: 0.819 - ETA: 11s - loss: 0.5100 - accuracy: 0.819 - ETA: 10s - loss: 0.5099 - accuracy: 0.819 - ETA: 10s - loss: 0.5099 - accuracy: 0.819 - ETA: 10s - loss: 0.5099 - accuracy: 0.819 - ETA: 10s - loss: 0.5099 - accuracy: 0.819 - ETA: 10s - loss: 0.5099 - accuracy: 0.819 - ETA: 10s - loss: 0.5099 - accuracy: 0.819 - ETA: 10s - loss: 0.5098 - accuracy: 0.819 - ETA: 10s - loss: 0.5098 - accuracy: 0.819 - ETA: 10s - loss: 0.5098 - accuracy: 0.820 - ETA: 10s - loss: 0.5098 - accuracy: 0.820 - ETA: 10s - loss: 0.5098 - accuracy: 0.820 - ETA: 10s - loss: 0.5097 - accuracy: 0.820 - ETA: 10s - loss: 0.5097 - accuracy: 0.820 - ETA: 10s - loss: 0.5097 - accuracy: 0.820 - ETA: 10s - loss: 0.5097 - accuracy: 0.820 - ETA: 10s - loss: 0.5097 - accuracy: 0.820 - ETA: 9s - loss: 0.5096 - accuracy: 0.820 - ETA: 9s - loss: 0.5096 - accuracy: 0.82 - ETA: 9s - loss: 0.5096 - accuracy: 0.82 - ETA: 9s - loss: 0.5096 - accuracy: 0.82 - ETA: 9s - loss: 0.5096 - accuracy: 0.82 - ETA: 9s - loss: 0.5096 - accuracy: 0.82 - ETA: 9s - loss: 0.5096 - accuracy: 0.82 - ETA: 9s - loss: 0.5096 - accuracy: 0.82 - ETA: 9s - loss: 0.5096 - accuracy: 0.82 - ETA: 9s - loss: 0.5096 - accuracy: 0.82 - ETA: 9s - loss: 0.5096 - accuracy: 0.82 - ETA: 9s - loss: 0.5096 - accuracy: 0.82 - ETA: 9s - loss: 0.5096 - accuracy: 0.82 - ETA: 9s - loss: 0.5096 - accuracy: 0.82 - ETA: 9s - loss: 0.5096 - accuracy: 0.82 - ETA: 9s - loss: 0.5096 - accuracy: 0.82 - ETA: 9s - loss: 0.5096 - accuracy: 0.82 - ETA: 8s - loss: 0.5096 - accuracy: 0.82 - ETA: 8s - loss: 0.5096 - accuracy: 0.82 - ETA: 8s - loss: 0.5096 - accuracy: 0.82 - ETA: 8s - loss: 0.5096 - accuracy: 0.82 - ETA: 8s - loss: 0.5096 - accuracy: 0.82 - ETA: 8s - loss: 0.5096 - accuracy: 0.82 - ETA: 8s - loss: 0.5096 - accuracy: 0.82 - ETA: 8s - loss: 0.5096 - accuracy: 0.8205"
     ]
    },
    {
     "name": "stdout",
     "output_type": "stream",
     "text": [
      "657/657 [==============================] - ETA: 8s - loss: 0.5096 - accuracy: 0.82 - ETA: 8s - loss: 0.5096 - accuracy: 0.82 - ETA: 8s - loss: 0.5096 - accuracy: 0.82 - ETA: 8s - loss: 0.5096 - accuracy: 0.82 - ETA: 8s - loss: 0.5096 - accuracy: 0.82 - ETA: 8s - loss: 0.5096 - accuracy: 0.82 - ETA: 8s - loss: 0.5096 - accuracy: 0.82 - ETA: 7s - loss: 0.5095 - accuracy: 0.82 - ETA: 7s - loss: 0.5095 - accuracy: 0.82 - ETA: 7s - loss: 0.5095 - accuracy: 0.82 - ETA: 7s - loss: 0.5095 - accuracy: 0.82 - ETA: 7s - loss: 0.5095 - accuracy: 0.82 - ETA: 7s - loss: 0.5095 - accuracy: 0.82 - ETA: 7s - loss: 0.5094 - accuracy: 0.82 - ETA: 7s - loss: 0.5094 - accuracy: 0.82 - ETA: 7s - loss: 0.5094 - accuracy: 0.82 - ETA: 7s - loss: 0.5094 - accuracy: 0.82 - ETA: 6s - loss: 0.5093 - accuracy: 0.82 - ETA: 6s - loss: 0.5093 - accuracy: 0.82 - ETA: 6s - loss: 0.5093 - accuracy: 0.82 - ETA: 6s - loss: 0.5092 - accuracy: 0.82 - ETA: 6s - loss: 0.5092 - accuracy: 0.82 - ETA: 6s - loss: 0.5092 - accuracy: 0.82 - ETA: 6s - loss: 0.5092 - accuracy: 0.82 - ETA: 6s - loss: 0.5092 - accuracy: 0.82 - ETA: 6s - loss: 0.5091 - accuracy: 0.82 - ETA: 6s - loss: 0.5091 - accuracy: 0.82 - ETA: 5s - loss: 0.5091 - accuracy: 0.82 - ETA: 5s - loss: 0.5091 - accuracy: 0.82 - ETA: 5s - loss: 0.5091 - accuracy: 0.82 - ETA: 5s - loss: 0.5091 - accuracy: 0.82 - ETA: 5s - loss: 0.5091 - accuracy: 0.82 - ETA: 5s - loss: 0.5091 - accuracy: 0.82 - ETA: 5s - loss: 0.5091 - accuracy: 0.82 - ETA: 5s - loss: 0.5091 - accuracy: 0.82 - ETA: 5s - loss: 0.5091 - accuracy: 0.82 - ETA: 5s - loss: 0.5091 - accuracy: 0.82 - ETA: 5s - loss: 0.5090 - accuracy: 0.82 - ETA: 4s - loss: 0.5090 - accuracy: 0.82 - ETA: 4s - loss: 0.5090 - accuracy: 0.82 - ETA: 4s - loss: 0.5090 - accuracy: 0.82 - ETA: 4s - loss: 0.5090 - accuracy: 0.82 - ETA: 4s - loss: 0.5090 - accuracy: 0.82 - ETA: 4s - loss: 0.5090 - accuracy: 0.82 - ETA: 4s - loss: 0.5090 - accuracy: 0.82 - ETA: 4s - loss: 0.5090 - accuracy: 0.82 - ETA: 4s - loss: 0.5089 - accuracy: 0.82 - ETA: 4s - loss: 0.5089 - accuracy: 0.82 - ETA: 4s - loss: 0.5089 - accuracy: 0.82 - ETA: 3s - loss: 0.5089 - accuracy: 0.82 - ETA: 3s - loss: 0.5089 - accuracy: 0.82 - ETA: 3s - loss: 0.5089 - accuracy: 0.82 - ETA: 3s - loss: 0.5089 - accuracy: 0.82 - ETA: 3s - loss: 0.5089 - accuracy: 0.82 - ETA: 3s - loss: 0.5088 - accuracy: 0.82 - ETA: 3s - loss: 0.5088 - accuracy: 0.82 - ETA: 3s - loss: 0.5088 - accuracy: 0.82 - ETA: 3s - loss: 0.5088 - accuracy: 0.82 - ETA: 3s - loss: 0.5088 - accuracy: 0.82 - ETA: 3s - loss: 0.5088 - accuracy: 0.82 - ETA: 3s - loss: 0.5088 - accuracy: 0.82 - ETA: 3s - loss: 0.5087 - accuracy: 0.82 - ETA: 2s - loss: 0.5087 - accuracy: 0.82 - ETA: 2s - loss: 0.5087 - accuracy: 0.82 - ETA: 2s - loss: 0.5087 - accuracy: 0.82 - ETA: 2s - loss: 0.5087 - accuracy: 0.82 - ETA: 2s - loss: 0.5087 - accuracy: 0.82 - ETA: 2s - loss: 0.5087 - accuracy: 0.82 - ETA: 2s - loss: 0.5087 - accuracy: 0.82 - ETA: 2s - loss: 0.5086 - accuracy: 0.82 - ETA: 2s - loss: 0.5086 - accuracy: 0.82 - ETA: 2s - loss: 0.5086 - accuracy: 0.82 - ETA: 2s - loss: 0.5086 - accuracy: 0.82 - ETA: 2s - loss: 0.5086 - accuracy: 0.82 - ETA: 1s - loss: 0.5085 - accuracy: 0.82 - ETA: 1s - loss: 0.5085 - accuracy: 0.82 - ETA: 1s - loss: 0.5085 - accuracy: 0.82 - ETA: 1s - loss: 0.5085 - accuracy: 0.82 - ETA: 1s - loss: 0.5085 - accuracy: 0.82 - ETA: 1s - loss: 0.5084 - accuracy: 0.82 - ETA: 1s - loss: 0.5084 - accuracy: 0.82 - ETA: 1s - loss: 0.5084 - accuracy: 0.82 - ETA: 1s - loss: 0.5084 - accuracy: 0.82 - ETA: 1s - loss: 0.5083 - accuracy: 0.82 - ETA: 1s - loss: 0.5083 - accuracy: 0.82 - ETA: 1s - loss: 0.5083 - accuracy: 0.82 - ETA: 1s - loss: 0.5083 - accuracy: 0.82 - ETA: 0s - loss: 0.5082 - accuracy: 0.82 - ETA: 0s - loss: 0.5082 - accuracy: 0.82 - ETA: 0s - loss: 0.5082 - accuracy: 0.82 - ETA: 0s - loss: 0.5082 - accuracy: 0.82 - ETA: 0s - loss: 0.5082 - accuracy: 0.82 - ETA: 0s - loss: 0.5081 - accuracy: 0.82 - ETA: 0s - loss: 0.5081 - accuracy: 0.82 - ETA: 0s - loss: 0.5081 - accuracy: 0.82 - ETA: 0s - loss: 0.5081 - accuracy: 0.82 - ETA: 0s - loss: 0.5080 - accuracy: 0.82 - ETA: 0s - loss: 0.5080 - accuracy: 0.82 - ETA: 0s - loss: 0.5080 - accuracy: 0.82 - ETA: 0s - loss: 0.5080 - accuracy: 0.82 - ETA: 0s - loss: 0.5079 - accuracy: 0.82 - 19s 29ms/step - loss: 0.5079 - accuracy: 0.8219 - val_loss: 0.3886 - val_accuracy: 0.8564\n"
     ]
    }
   ],
   "source": [
    "model.compile(optimizer='adam',\n",
    "              loss='sparse_categorical_crossentropy',\n",
    "              metrics=['accuracy'])\n",
    "\n",
    "EPOCHS = 4\n",
    "\n",
    "history = model.fit(training_batches,\n",
    "                    epochs=EPOCHS,\n",
    "                    validation_data=validation_batches)"
   ]
  },
  {
   "cell_type": "markdown",
   "metadata": {
    "colab_type": "text",
    "id": "jseIvfe2xb56"
   },
   "source": [
    "## Saving and Loading Models\n",
    "\n",
    "In TensorFlow we can save our trained models in different formats. Here we will see how to save our models in TensorFlow's SavedModel format and as HDF5 files, which is the format used by Keras models.\n",
    "\n",
    "### Saving and Loading Models in HDF5 Format\n",
    "\n",
    "To save our models in the format used by Keras models we use the `.save(filepath)` method. For example, to save a model called `my_model` in the current working directory with the name `test_model` we use:\n",
    "\n",
    "```python\n",
    "my_model.save('./test_model.h5')\n",
    "```\n",
    "\n",
    "It's important to note that we have to provide the `.h5` extension to the `filepath` in order the tell `tf.keras` to save our model as an HDF5 file. \n",
    "\n",
    "The above command saves our model into a single HDF5 file that will contain:\n",
    "\n",
    "* The model's architecture.\n",
    "* The model's weight values which were learned during training.\n",
    "* The model's training configuration, which corresponds to the parameters you passed to the `compile` method.\n",
    "* The optimizer and its state. This allows you to resume training exactly where you left off.\n",
    "\n",
    "\n",
    "In the cell below we save our trained `model` as an HDF5 file. The name of our HDF5 will correspond to the current time stamp. This is useful if you are saving many models and want each of them to have a unique name. By default the `.save()` method will **silently** overwrite any existing file at the target location with the same name. If we want `tf.keras` to provide us with a manual prompt to whether overwrite files with the same name, you can set the argument `overwrite=False` in the `.save()` method."
   ]
  },
  {
   "cell_type": "code",
   "execution_count": 15,
   "metadata": {
    "colab": {},
    "colab_type": "code",
    "id": "G1dOvNRvrhNa"
   },
   "outputs": [],
   "source": [
    "t = time.time()\n",
    "\n",
    "saved_keras_model_filepath = './{}.h5'.format(int(t))\n",
    "\n",
    "model.save(saved_keras_model_filepath)\n",
    "\n"
   ]
  },
  {
   "cell_type": "code",
   "execution_count": 17,
   "metadata": {},
   "outputs": [
    {
     "name": "stdout",
     "output_type": "stream",
     "text": [
      "./1611720582.h5\n"
     ]
    }
   ],
   "source": [
    "print(saved_keras_model_filepath)"
   ]
  },
  {
   "cell_type": "markdown",
   "metadata": {
    "colab_type": "text",
    "id": "lGNRBb1puSRg"
   },
   "source": [
    "Once a model has been saved, we can use `tf.keras.models.load_model(filepath)` to re-load our model. This command will also compile our model automatically using the saved training configuration, unless the model was never compiled in the first place."
   ]
  },
  {
   "cell_type": "code",
   "execution_count": 18,
   "metadata": {
    "colab": {
     "base_uri": "https://localhost:8080/",
     "height": 547
    },
    "colab_type": "code",
    "id": "akaAVE2js5d0",
    "outputId": "84301998-a6c3-4a55-c5f1-f76d086290bf"
   },
   "outputs": [
    {
     "name": "stdout",
     "output_type": "stream",
     "text": [
      "Model: \"sequential_1\"\n",
      "_________________________________________________________________\n",
      "Layer (type)                 Output Shape              Param #   \n",
      "=================================================================\n",
      "flatten_1 (Flatten)          (None, 784)               0         \n",
      "_________________________________________________________________\n",
      "dense_4 (Dense)              (None, 512)               401920    \n",
      "_________________________________________________________________\n",
      "dropout_3 (Dropout)          (None, 512)               0         \n",
      "_________________________________________________________________\n",
      "dense_5 (Dense)              (None, 256)               131328    \n",
      "_________________________________________________________________\n",
      "dropout_4 (Dropout)          (None, 256)               0         \n",
      "_________________________________________________________________\n",
      "dense_6 (Dense)              (None, 128)               32896     \n",
      "_________________________________________________________________\n",
      "dropout_5 (Dropout)          (None, 128)               0         \n",
      "_________________________________________________________________\n",
      "dense_7 (Dense)              (None, 10)                1290      \n",
      "=================================================================\n",
      "Total params: 567,434\n",
      "Trainable params: 567,434\n",
      "Non-trainable params: 0\n",
      "_________________________________________________________________\n"
     ]
    }
   ],
   "source": [
    "reloaded_keras_model = tf.keras.models.load_model(saved_keras_model_filepath)\n",
    "\n",
    "reloaded_keras_model.summary()"
   ]
  },
  {
   "cell_type": "markdown",
   "metadata": {
    "colab_type": "text",
    "id": "xWihP1oMjNeF"
   },
   "source": [
    "As we can see the re-loaded model has the same architecture as our original model, as it should be. At this point, since we haven't done anything new to the re-loaded model, then both the `reloaded_keras_model` our original `model` should be identical copies. Therefore, they should make the same predictions on the same images. Let's check that this is true:"
   ]
  },
  {
   "cell_type": "code",
   "execution_count": 19,
   "metadata": {
    "colab": {
     "base_uri": "https://localhost:8080/",
     "height": 34
    },
    "colab_type": "code",
    "id": "gLQsw7QVkElc",
    "outputId": "0d00e16b-9fdd-4d34-b9ab-96956ddbf5a5"
   },
   "outputs": [
    {
     "name": "stdout",
     "output_type": "stream",
     "text": [
      "0.0\n"
     ]
    }
   ],
   "source": [
    "for image_batch, label_batch in testing_batches.take(1):\n",
    "    prediction_1 = model.predict(image_batch)\n",
    "    prediction_2 = reloaded_keras_model.predict(image_batch)\n",
    "    difference = np.abs(prediction_1 - prediction_2)\n",
    "    print(difference.max())"
   ]
  },
  {
   "cell_type": "markdown",
   "metadata": {
    "colab_type": "text",
    "id": "K-dDOY0BmYhs"
   },
   "source": [
    "As we can see, the result is 0.0, which indicates that both models made the same predictions on the same images."
   ]
  },
  {
   "cell_type": "markdown",
   "metadata": {
    "colab_type": "text",
    "id": "lxHdz18pQUNV"
   },
   "source": [
    "### Saving and Loading TensorFlow SavedModels"
   ]
  },
  {
   "cell_type": "markdown",
   "metadata": {
    "colab_type": "text",
    "id": "OGtK83g2vVki"
   },
   "source": [
    "To export our models to the TensorFlow **SavedModel** format, we use the `tf.saved_model.save(model, export_dir)` function. For example, to save a model called `my_model` in a folder called `saved_models` located in the current working directory we use:\n",
    "\n",
    "```python\n",
    "tf.saved_model.save(my_model, './saved_models')\n",
    "```\n",
    "\n",
    "It's important to note that here we have to provide the path to the directory where we want to save our model, **NOT** the name of the file. This is because SavedModels are not saved in a single file. Rather, when you save your model as a SavedModel, `the tf.saved_model.save()` function will create an `assets` folder, a `variables` folder, and a `saved_model.pb` file inside the directory you provided.\n",
    "\n",
    "The SavedModel files that are created contain:\n",
    "\n",
    "* A TensorFlow checkpoint containing the model weights.\n",
    "* A SavedModel proto containing the underlying TensorFlow graph. Separate graphs are saved for prediction (serving), training, and evaluation. If the model wasn't compiled before, then only the inference graph gets exported.\n",
    "* The model's architecture configuration if available.\n",
    "\n",
    "The SavedModel is a standalone serialization format for TensorFlow objects, supported by TensorFlow serving as well as TensorFlow implementations other than Python. It does not require the original model building code to run, which makes it useful for sharing or deploying in different platforms, such as mobile and embedded devices (with TensorFlow Lite), servers (with TensorFlow Serving), and even web browsers (with TensorFlow.js).\n",
    "\n",
    "In the cell below we save our trained model as a SavedModel. The name of the folder where we are going to save our model will correspond to the current time stamp. Again, this is useful if you are saving many models and want each of them to be saved in a unique directory."
   ]
  },
  {
   "cell_type": "code",
   "execution_count": 20,
   "metadata": {
    "colab": {
     "base_uri": "https://localhost:8080/",
     "height": 173
    },
    "colab_type": "code",
    "id": "V2C0F3luxzlI",
    "outputId": "80a362e5-008f-4f54-ffb5-0b5577b5c46b"
   },
   "outputs": [],
   "source": [
    "t = time.time()\n",
    "\n",
    "savedModel_directory = './{}'.format(int(t))\n",
    "\n",
    "tf.saved_model.save(model, savedModel_directory)"
   ]
  },
  {
   "cell_type": "markdown",
   "metadata": {
    "colab_type": "text",
    "id": "DBY1j0QEyjPi"
   },
   "source": [
    "Once a model has been saved as a SavedModel, we can use `tf.saved_model.load(export_dir)` to re-load our model. "
   ]
  },
  {
   "cell_type": "code",
   "execution_count": 21,
   "metadata": {
    "colab": {},
    "colab_type": "code",
    "id": "rRx2y2M4AtKl"
   },
   "outputs": [],
   "source": [
    "reloaded_SavedModel = tf.saved_model.load(savedModel_directory)"
   ]
  },
  {
   "cell_type": "markdown",
   "metadata": {
    "colab_type": "text",
    "id": "wJwmzT1gAwew"
   },
   "source": [
    "It's important to note that the object returned by `tf.saved_model.load` is **NOT** a Keras object. Therefore, it doesn't have `.fit`, `.predict`, `.summary`, etc. methods. It is 100% independent of the code that created it. This means that in order to make predictions with our `reloaded_SavedModel` we need to use a different method than the one used with the re-loaded Keras model.\n",
    "\n",
    "To make predictions on a batch of images with a re-loaded SavedModel we have to use:\n",
    "\n",
    "```python\n",
    "reloaded_SavedModel(image_batch, training=False)\n",
    "```\n",
    "\n",
    "This will return a tensor with the predicted label probabilities for each image in the batch. Again, since we haven't done anything new to this re-loaded SavedModel, then both the `reloaded_SavedModel` and our original `model` should be identical copies. Therefore, they should make the same predictions on the same images. Let's check that this is true:"
   ]
  },
  {
   "cell_type": "code",
   "execution_count": 22,
   "metadata": {
    "colab": {
     "base_uri": "https://localhost:8080/",
     "height": 34
    },
    "colab_type": "code",
    "id": "ozMqD1ZoER5g",
    "outputId": "17769afa-1a1f-48c4-80e5-a389c80f4062"
   },
   "outputs": [
    {
     "name": "stdout",
     "output_type": "stream",
     "text": [
      "1.1920929e-07\n"
     ]
    }
   ],
   "source": [
    "for image_batch, label_batch in testing_batches.take(1):\n",
    "    prediction_1 = model.predict(image_batch)\n",
    "    prediction_2 = reloaded_SavedModel(image_batch, training=False).numpy()\n",
    "    difference = np.abs(prediction_1 - prediction_2)\n",
    "    print(difference.max())"
   ]
  },
  {
   "cell_type": "markdown",
   "metadata": {
    "colab_type": "text",
    "id": "3QZNNPkYFH3D"
   },
   "source": [
    "We can also get back a full Keras model, from a TensorFlow SavedModel, by loading our SavedModel with the `tf.keras.models.load_model` function. "
   ]
  },
  {
   "cell_type": "code",
   "execution_count": 23,
   "metadata": {
    "colab": {
     "base_uri": "https://localhost:8080/",
     "height": 425
    },
    "colab_type": "code",
    "id": "0BxFJcGLyMTD",
    "outputId": "a2fefa76-57b5-4a9e-8c05-b8a1ae7f31a2"
   },
   "outputs": [
    {
     "name": "stdout",
     "output_type": "stream",
     "text": [
      "Model: \"sequential_1\"\n",
      "_________________________________________________________________\n",
      "Layer (type)                 Output Shape              Param #   \n",
      "=================================================================\n",
      "flatten_1 (Flatten)          (None, 784)               0         \n",
      "_________________________________________________________________\n",
      "dense_4 (Dense)              (None, 512)               401920    \n",
      "_________________________________________________________________\n",
      "dropout_3 (Dropout)          (None, 512)               0         \n",
      "_________________________________________________________________\n",
      "dense_5 (Dense)              (None, 256)               131328    \n",
      "_________________________________________________________________\n",
      "dropout_4 (Dropout)          (None, 256)               0         \n",
      "_________________________________________________________________\n",
      "dense_6 (Dense)              (None, 128)               32896     \n",
      "_________________________________________________________________\n",
      "dropout_5 (Dropout)          (None, 128)               0         \n",
      "_________________________________________________________________\n",
      "dense_7 (Dense)              (None, 10)                1290      \n",
      "=================================================================\n",
      "Total params: 567,434\n",
      "Trainable params: 567,434\n",
      "Non-trainable params: 0\n",
      "_________________________________________________________________\n"
     ]
    }
   ],
   "source": [
    "reloaded_keras_model_from_SavedModel = tf.keras.models.load_model(savedModel_directory)\n",
    "\n",
    "reloaded_keras_model_from_SavedModel.summary()"
   ]
  },
  {
   "cell_type": "markdown",
   "metadata": {
    "colab_type": "text",
    "id": "FomAlrxnQnm8"
   },
   "source": [
    "## Saving Models During Training\n",
    "\n",
    "We have seen that when we train a model with a validation set, the value of the validation loss changes through the training process. Since the value of the validation loss is an indicator of how well our model will generalize to new data, it will be great if could save our model at each step of the training process and then only keep the version with the lowest validation loss. \n",
    "\n",
    "We can do this in `tf.keras` by using the following callback:\n",
    "\n",
    "```python\n",
    "tf.keras.callbacks.ModelCheckpoint('./best_model.h5', monitor='val_loss', save_best_only=True)\n",
    "```\n",
    "This callback will save the model as a Keras HDF5 file after every epoch. With the `save_best_only=True` argument, this callback will first check the validation loss of the latest model against the one previously saved. The callback will only save the latest model and overwrite the old one, if the latest model has a lower validation loss than the one previously saved. This will guarantee that will end up with the version of the model that achieved the lowest validation loss during training."
   ]
  },
  {
   "cell_type": "code",
   "execution_count": 24,
   "metadata": {
    "colab": {
     "base_uri": "https://localhost:8080/",
     "height": 765
    },
    "colab_type": "code",
    "id": "vvsuAeUQ1WKR",
    "outputId": "b8ee7834-f46e-4141-d61c-83cd7d72a333"
   },
   "outputs": [
    {
     "name": "stdout",
     "output_type": "stream",
     "text": [
      "Epoch 1/100\n",
      "657/657 [==============================] - ETA: 7:15 - loss: 2.3239 - accuracy: 0.06 - ETA: 4s - loss: 2.1309 - accuracy: 0.2073 - ETA: 4s - loss: 1.9513 - accuracy: 0.29 - ETA: 4s - loss: 1.7843 - accuracy: 0.36 - ETA: 3s - loss: 1.6598 - accuracy: 0.41 - ETA: 3s - loss: 1.5611 - accuracy: 0.45 - ETA: 3s - loss: 1.4985 - accuracy: 0.47 - ETA: 4s - loss: 1.4519 - accuracy: 0.49 - ETA: 4s - loss: 1.4039 - accuracy: 0.50 - ETA: 4s - loss: 1.3676 - accuracy: 0.52 - ETA: 4s - loss: 1.3453 - accuracy: 0.52 - ETA: 4s - loss: 1.3100 - accuracy: 0.54 - ETA: 4s - loss: 1.3054 - accuracy: 0.54 - ETA: 4s - loss: 1.2750 - accuracy: 0.55 - ETA: 4s - loss: 1.2479 - accuracy: 0.56 - ETA: 4s - loss: 1.2199 - accuracy: 0.57 - ETA: 4s - loss: 1.1974 - accuracy: 0.57 - ETA: 4s - loss: 1.1709 - accuracy: 0.58 - ETA: 3s - loss: 1.1467 - accuracy: 0.59 - ETA: 3s - loss: 1.1246 - accuracy: 0.60 - ETA: 3s - loss: 1.1045 - accuracy: 0.61 - ETA: 3s - loss: 1.0882 - accuracy: 0.61 - ETA: 3s - loss: 1.0732 - accuracy: 0.62 - ETA: 3s - loss: 1.0591 - accuracy: 0.62 - ETA: 3s - loss: 1.0459 - accuracy: 0.63 - ETA: 3s - loss: 1.0333 - accuracy: 0.63 - ETA: 3s - loss: 1.0200 - accuracy: 0.64 - ETA: 3s - loss: 1.0074 - accuracy: 0.64 - ETA: 3s - loss: 0.9968 - accuracy: 0.64 - ETA: 3s - loss: 0.9855 - accuracy: 0.65 - ETA: 2s - loss: 0.9759 - accuracy: 0.65 - ETA: 2s - loss: 0.9668 - accuracy: 0.65 - ETA: 2s - loss: 0.9570 - accuracy: 0.66 - ETA: 2s - loss: 0.9486 - accuracy: 0.66 - ETA: 2s - loss: 0.9396 - accuracy: 0.66 - ETA: 2s - loss: 0.9319 - accuracy: 0.67 - ETA: 2s - loss: 0.9235 - accuracy: 0.67 - ETA: 2s - loss: 0.9156 - accuracy: 0.67 - ETA: 2s - loss: 0.9080 - accuracy: 0.68 - ETA: 2s - loss: 0.9008 - accuracy: 0.68 - ETA: 2s - loss: 0.8938 - accuracy: 0.68 - ETA: 2s - loss: 0.8878 - accuracy: 0.68 - ETA: 2s - loss: 0.8813 - accuracy: 0.68 - ETA: 2s - loss: 0.8751 - accuracy: 0.69 - ETA: 2s - loss: 0.8690 - accuracy: 0.69 - ETA: 1s - loss: 0.8638 - accuracy: 0.69 - ETA: 1s - loss: 0.8582 - accuracy: 0.69 - ETA: 1s - loss: 0.8527 - accuracy: 0.69 - ETA: 1s - loss: 0.8474 - accuracy: 0.70 - ETA: 1s - loss: 0.8422 - accuracy: 0.70 - ETA: 1s - loss: 0.8372 - accuracy: 0.70 - ETA: 1s - loss: 0.8323 - accuracy: 0.70 - ETA: 1s - loss: 0.8280 - accuracy: 0.70 - ETA: 1s - loss: 0.8239 - accuracy: 0.70 - ETA: 1s - loss: 0.8204 - accuracy: 0.71 - ETA: 1s - loss: 0.8160 - accuracy: 0.71 - ETA: 1s - loss: 0.8117 - accuracy: 0.71 - ETA: 1s - loss: 0.8076 - accuracy: 0.71 - ETA: 1s - loss: 0.8040 - accuracy: 0.71 - ETA: 1s - loss: 0.8000 - accuracy: 0.71 - ETA: 1s - loss: 0.7965 - accuracy: 0.71 - ETA: 1s - loss: 0.7932 - accuracy: 0.72 - ETA: 0s - loss: 0.7895 - accuracy: 0.72 - ETA: 0s - loss: 0.7859 - accuracy: 0.72 - ETA: 0s - loss: 0.7827 - accuracy: 0.72 - ETA: 0s - loss: 0.7793 - accuracy: 0.72 - ETA: 0s - loss: 0.7759 - accuracy: 0.72 - ETA: 0s - loss: 0.7730 - accuracy: 0.72 - ETA: 0s - loss: 0.7702 - accuracy: 0.72 - ETA: 0s - loss: 0.7674 - accuracy: 0.72 - ETA: 0s - loss: 0.7643 - accuracy: 0.73 - ETA: 0s - loss: 0.7613 - accuracy: 0.73 - ETA: 0s - loss: 0.7587 - accuracy: 0.73 - ETA: 0s - loss: 0.7561 - accuracy: 0.73 - ETA: 0s - loss: 0.7536 - accuracy: 0.73 - ETA: 0s - loss: 0.7512 - accuracy: 0.73 - ETA: 0s - loss: 0.7487 - accuracy: 0.73 - ETA: 0s - loss: 0.7460 - accuracy: 0.73 - ETA: 0s - loss: 0.7434 - accuracy: 0.73 - ETA: 0s - loss: 0.7408 - accuracy: 0.73 - 6s 8ms/step - loss: 0.7383 - accuracy: 0.7389 - val_loss: 0.4281 - val_accuracy: 0.8464\n",
      "Epoch 2/100\n",
      "657/657 [==============================] - ETA: 13s - loss: 0.3139 - accuracy: 0.859 - ETA: 4s - loss: 0.4582 - accuracy: 0.829 - ETA: 4s - loss: 0.4796 - accuracy: 0.82 - ETA: 4s - loss: 0.4754 - accuracy: 0.82 - ETA: 4s - loss: 0.4713 - accuracy: 0.83 - ETA: 4s - loss: 0.4636 - accuracy: 0.83 - ETA: 3s - loss: 0.4549 - accuracy: 0.83 - ETA: 3s - loss: 0.4493 - accuracy: 0.84 - ETA: 3s - loss: 0.4448 - accuracy: 0.84 - ETA: 3s - loss: 0.4407 - accuracy: 0.84 - ETA: 3s - loss: 0.4376 - accuracy: 0.84 - ETA: 3s - loss: 0.4354 - accuracy: 0.84 - ETA: 3s - loss: 0.4343 - accuracy: 0.84 - ETA: 3s - loss: 0.4334 - accuracy: 0.84 - ETA: 3s - loss: 0.4323 - accuracy: 0.84 - ETA: 3s - loss: 0.4316 - accuracy: 0.84 - ETA: 3s - loss: 0.4310 - accuracy: 0.84 - ETA: 3s - loss: 0.4304 - accuracy: 0.84 - ETA: 3s - loss: 0.4297 - accuracy: 0.84 - ETA: 3s - loss: 0.4293 - accuracy: 0.84 - ETA: 3s - loss: 0.4289 - accuracy: 0.84 - ETA: 3s - loss: 0.4285 - accuracy: 0.84 - ETA: 3s - loss: 0.4282 - accuracy: 0.84 - ETA: 3s - loss: 0.4279 - accuracy: 0.84 - ETA: 2s - loss: 0.4275 - accuracy: 0.84 - ETA: 2s - loss: 0.4272 - accuracy: 0.84 - ETA: 2s - loss: 0.4269 - accuracy: 0.84 - ETA: 2s - loss: 0.4265 - accuracy: 0.84 - ETA: 2s - loss: 0.4263 - accuracy: 0.84 - ETA: 2s - loss: 0.4261 - accuracy: 0.84 - ETA: 2s - loss: 0.4258 - accuracy: 0.84 - ETA: 2s - loss: 0.4255 - accuracy: 0.84 - ETA: 2s - loss: 0.4252 - accuracy: 0.84 - ETA: 2s - loss: 0.4249 - accuracy: 0.84 - ETA: 2s - loss: 0.4246 - accuracy: 0.84 - ETA: 2s - loss: 0.4243 - accuracy: 0.84 - ETA: 2s - loss: 0.4239 - accuracy: 0.84 - ETA: 2s - loss: 0.4236 - accuracy: 0.84 - ETA: 2s - loss: 0.4233 - accuracy: 0.85 - ETA: 2s - loss: 0.4230 - accuracy: 0.85 - ETA: 2s - loss: 0.4227 - accuracy: 0.85 - ETA: 2s - loss: 0.4224 - accuracy: 0.85 - ETA: 2s - loss: 0.4221 - accuracy: 0.85 - ETA: 2s - loss: 0.4218 - accuracy: 0.85 - ETA: 1s - loss: 0.4215 - accuracy: 0.85 - ETA: 1s - loss: 0.4212 - accuracy: 0.85 - ETA: 1s - loss: 0.4209 - accuracy: 0.85 - ETA: 1s - loss: 0.4206 - accuracy: 0.85 - ETA: 1s - loss: 0.4203 - accuracy: 0.85 - ETA: 1s - loss: 0.4200 - accuracy: 0.85 - ETA: 1s - loss: 0.4197 - accuracy: 0.85 - ETA: 1s - loss: 0.4195 - accuracy: 0.85 - ETA: 1s - loss: 0.4192 - accuracy: 0.85 - ETA: 1s - loss: 0.4189 - accuracy: 0.85 - ETA: 1s - loss: 0.4187 - accuracy: 0.85 - ETA: 1s - loss: 0.4184 - accuracy: 0.85 - ETA: 1s - loss: 0.4181 - accuracy: 0.85 - ETA: 1s - loss: 0.4178 - accuracy: 0.85 - ETA: 1s - loss: 0.4175 - accuracy: 0.85 - ETA: 1s - loss: 0.4172 - accuracy: 0.85 - ETA: 1s - loss: 0.4169 - accuracy: 0.85 - ETA: 1s - loss: 0.4166 - accuracy: 0.85 - ETA: 1s - loss: 0.4164 - accuracy: 0.85 - ETA: 0s - loss: 0.4162 - accuracy: 0.85 - ETA: 0s - loss: 0.4159 - accuracy: 0.85 - ETA: 0s - loss: 0.4157 - accuracy: 0.85 - ETA: 0s - loss: 0.4154 - accuracy: 0.85 - ETA: 0s - loss: 0.4152 - accuracy: 0.85 - ETA: 0s - loss: 0.4150 - accuracy: 0.85 - ETA: 0s - loss: 0.4148 - accuracy: 0.85 - ETA: 0s - loss: 0.4146 - accuracy: 0.85 - ETA: 0s - loss: 0.4143 - accuracy: 0.85 - ETA: 0s - loss: 0.4141 - accuracy: 0.85 - ETA: 0s - loss: 0.4138 - accuracy: 0.85 - ETA: 0s - loss: 0.4136 - accuracy: 0.85 - ETA: 0s - loss: 0.4133 - accuracy: 0.85 - ETA: 0s - loss: 0.4131 - accuracy: 0.85 - ETA: 0s - loss: 0.4129 - accuracy: 0.85 - ETA: 0s - loss: 0.4126 - accuracy: 0.85 - ETA: 0s - loss: 0.4124 - accuracy: 0.85 - ETA: 0s - loss: 0.4122 - accuracy: 0.85 - ETA: 0s - loss: 0.4119 - accuracy: 0.85 - 5s 8ms/step - loss: 0.4119 - accuracy: 0.8536 - val_loss: 0.3713 - val_accuracy: 0.8618\n",
      "Epoch 3/100\n"
     ]
    },
    {
     "name": "stdout",
     "output_type": "stream",
     "text": [
      "657/657 [==============================] - ETA: 16s - loss: 0.3140 - accuracy: 0.843 - ETA: 5s - loss: 0.3197 - accuracy: 0.862 - ETA: 4s - loss: 0.3399 - accuracy: 0.86 - ETA: 4s - loss: 0.3511 - accuracy: 0.86 - ETA: 4s - loss: 0.3590 - accuracy: 0.86 - ETA: 4s - loss: 0.3634 - accuracy: 0.85 - ETA: 4s - loss: 0.3668 - accuracy: 0.85 - ETA: 4s - loss: 0.3682 - accuracy: 0.85 - ETA: 3s - loss: 0.3698 - accuracy: 0.85 - ETA: 3s - loss: 0.3711 - accuracy: 0.85 - ETA: 3s - loss: 0.3721 - accuracy: 0.85 - ETA: 3s - loss: 0.3733 - accuracy: 0.85 - ETA: 3s - loss: 0.3745 - accuracy: 0.85 - ETA: 3s - loss: 0.3755 - accuracy: 0.85 - ETA: 3s - loss: 0.3761 - accuracy: 0.85 - ETA: 3s - loss: 0.3766 - accuracy: 0.85 - ETA: 3s - loss: 0.3772 - accuracy: 0.85 - ETA: 3s - loss: 0.3775 - accuracy: 0.85 - ETA: 3s - loss: 0.3779 - accuracy: 0.85 - ETA: 3s - loss: 0.3781 - accuracy: 0.85 - ETA: 3s - loss: 0.3783 - accuracy: 0.85 - ETA: 3s - loss: 0.3784 - accuracy: 0.85 - ETA: 3s - loss: 0.3784 - accuracy: 0.85 - ETA: 3s - loss: 0.3783 - accuracy: 0.85 - ETA: 3s - loss: 0.3782 - accuracy: 0.85 - ETA: 3s - loss: 0.3781 - accuracy: 0.85 - ETA: 3s - loss: 0.3780 - accuracy: 0.85 - ETA: 3s - loss: 0.3778 - accuracy: 0.85 - ETA: 3s - loss: 0.3777 - accuracy: 0.85 - ETA: 3s - loss: 0.3775 - accuracy: 0.85 - ETA: 2s - loss: 0.3773 - accuracy: 0.85 - ETA: 2s - loss: 0.3772 - accuracy: 0.85 - ETA: 2s - loss: 0.3771 - accuracy: 0.85 - ETA: 2s - loss: 0.3770 - accuracy: 0.85 - ETA: 2s - loss: 0.3769 - accuracy: 0.85 - ETA: 2s - loss: 0.3768 - accuracy: 0.85 - ETA: 2s - loss: 0.3766 - accuracy: 0.85 - ETA: 2s - loss: 0.3765 - accuracy: 0.85 - ETA: 2s - loss: 0.3764 - accuracy: 0.85 - ETA: 2s - loss: 0.3762 - accuracy: 0.85 - ETA: 2s - loss: 0.3760 - accuracy: 0.85 - ETA: 2s - loss: 0.3758 - accuracy: 0.85 - ETA: 2s - loss: 0.3757 - accuracy: 0.85 - ETA: 2s - loss: 0.3755 - accuracy: 0.86 - ETA: 2s - loss: 0.3753 - accuracy: 0.86 - ETA: 1s - loss: 0.3751 - accuracy: 0.86 - ETA: 1s - loss: 0.3749 - accuracy: 0.86 - ETA: 1s - loss: 0.3746 - accuracy: 0.86 - ETA: 1s - loss: 0.3744 - accuracy: 0.86 - ETA: 1s - loss: 0.3742 - accuracy: 0.86 - ETA: 1s - loss: 0.3740 - accuracy: 0.86 - ETA: 1s - loss: 0.3738 - accuracy: 0.86 - ETA: 1s - loss: 0.3736 - accuracy: 0.86 - ETA: 1s - loss: 0.3735 - accuracy: 0.86 - ETA: 1s - loss: 0.3734 - accuracy: 0.86 - ETA: 1s - loss: 0.3732 - accuracy: 0.86 - ETA: 1s - loss: 0.3730 - accuracy: 0.86 - ETA: 1s - loss: 0.3728 - accuracy: 0.86 - ETA: 1s - loss: 0.3726 - accuracy: 0.86 - ETA: 1s - loss: 0.3724 - accuracy: 0.86 - ETA: 1s - loss: 0.3722 - accuracy: 0.86 - ETA: 1s - loss: 0.3720 - accuracy: 0.86 - ETA: 0s - loss: 0.3718 - accuracy: 0.86 - ETA: 0s - loss: 0.3716 - accuracy: 0.86 - ETA: 0s - loss: 0.3714 - accuracy: 0.86 - ETA: 0s - loss: 0.3712 - accuracy: 0.86 - ETA: 0s - loss: 0.3710 - accuracy: 0.86 - ETA: 0s - loss: 0.3708 - accuracy: 0.86 - ETA: 0s - loss: 0.3706 - accuracy: 0.86 - ETA: 0s - loss: 0.3704 - accuracy: 0.86 - ETA: 0s - loss: 0.3702 - accuracy: 0.86 - ETA: 0s - loss: 0.3700 - accuracy: 0.86 - ETA: 0s - loss: 0.3699 - accuracy: 0.86 - ETA: 0s - loss: 0.3697 - accuracy: 0.86 - ETA: 0s - loss: 0.3695 - accuracy: 0.86 - ETA: 0s - loss: 0.3693 - accuracy: 0.86 - ETA: 0s - loss: 0.3691 - accuracy: 0.86 - ETA: 0s - loss: 0.3690 - accuracy: 0.86 - ETA: 0s - loss: 0.3688 - accuracy: 0.86 - ETA: 0s - loss: 0.3686 - accuracy: 0.86 - 5s 8ms/step - loss: 0.3686 - accuracy: 0.8637 - val_loss: 0.3375 - val_accuracy: 0.8780\n",
      "Epoch 4/100\n",
      "657/657 [==============================] - ETA: 17s - loss: 0.5207 - accuracy: 0.796 - ETA: 4s - loss: 0.3960 - accuracy: 0.855 - ETA: 4s - loss: 0.3596 - accuracy: 0.86 - ETA: 4s - loss: 0.3486 - accuracy: 0.87 - ETA: 4s - loss: 0.3470 - accuracy: 0.87 - ETA: 4s - loss: 0.3466 - accuracy: 0.87 - ETA: 4s - loss: 0.3463 - accuracy: 0.87 - ETA: 4s - loss: 0.3455 - accuracy: 0.87 - ETA: 3s - loss: 0.3446 - accuracy: 0.87 - ETA: 3s - loss: 0.3445 - accuracy: 0.87 - ETA: 3s - loss: 0.3454 - accuracy: 0.87 - ETA: 3s - loss: 0.3459 - accuracy: 0.87 - ETA: 3s - loss: 0.3459 - accuracy: 0.87 - ETA: 3s - loss: 0.3459 - accuracy: 0.87 - ETA: 3s - loss: 0.3456 - accuracy: 0.87 - ETA: 3s - loss: 0.3453 - accuracy: 0.87 - ETA: 3s - loss: 0.3451 - accuracy: 0.87 - ETA: 3s - loss: 0.3446 - accuracy: 0.87 - ETA: 3s - loss: 0.3441 - accuracy: 0.87 - ETA: 3s - loss: 0.3437 - accuracy: 0.87 - ETA: 3s - loss: 0.3434 - accuracy: 0.87 - ETA: 3s - loss: 0.3430 - accuracy: 0.87 - ETA: 3s - loss: 0.3428 - accuracy: 0.87 - ETA: 3s - loss: 0.3425 - accuracy: 0.87 - ETA: 3s - loss: 0.3423 - accuracy: 0.87 - ETA: 3s - loss: 0.3421 - accuracy: 0.87 - ETA: 2s - loss: 0.3420 - accuracy: 0.87 - ETA: 2s - loss: 0.3418 - accuracy: 0.87 - ETA: 2s - loss: 0.3416 - accuracy: 0.87 - ETA: 2s - loss: 0.3414 - accuracy: 0.87 - ETA: 2s - loss: 0.3413 - accuracy: 0.87 - ETA: 2s - loss: 0.3411 - accuracy: 0.87 - ETA: 2s - loss: 0.3410 - accuracy: 0.87 - ETA: 2s - loss: 0.3409 - accuracy: 0.87 - ETA: 2s - loss: 0.3408 - accuracy: 0.87 - ETA: 2s - loss: 0.3407 - accuracy: 0.87 - ETA: 2s - loss: 0.3406 - accuracy: 0.87 - ETA: 2s - loss: 0.3405 - accuracy: 0.87 - ETA: 2s - loss: 0.3404 - accuracy: 0.87 - ETA: 2s - loss: 0.3404 - accuracy: 0.87 - ETA: 2s - loss: 0.3403 - accuracy: 0.87 - ETA: 2s - loss: 0.3402 - accuracy: 0.87 - ETA: 2s - loss: 0.3401 - accuracy: 0.87 - ETA: 2s - loss: 0.3400 - accuracy: 0.87 - ETA: 1s - loss: 0.3399 - accuracy: 0.87 - ETA: 1s - loss: 0.3399 - accuracy: 0.87 - ETA: 1s - loss: 0.3398 - accuracy: 0.87 - ETA: 1s - loss: 0.3396 - accuracy: 0.87 - ETA: 1s - loss: 0.3395 - accuracy: 0.87 - ETA: 1s - loss: 0.3394 - accuracy: 0.87 - ETA: 1s - loss: 0.3392 - accuracy: 0.87 - ETA: 1s - loss: 0.3391 - accuracy: 0.87 - ETA: 1s - loss: 0.3389 - accuracy: 0.87 - ETA: 1s - loss: 0.3388 - accuracy: 0.87 - ETA: 1s - loss: 0.3387 - accuracy: 0.87 - ETA: 1s - loss: 0.3386 - accuracy: 0.87 - ETA: 1s - loss: 0.3385 - accuracy: 0.87 - ETA: 1s - loss: 0.3384 - accuracy: 0.87 - ETA: 1s - loss: 0.3383 - accuracy: 0.87 - ETA: 1s - loss: 0.3382 - accuracy: 0.87 - ETA: 1s - loss: 0.3381 - accuracy: 0.87 - ETA: 1s - loss: 0.3380 - accuracy: 0.87 - ETA: 0s - loss: 0.3379 - accuracy: 0.87 - ETA: 0s - loss: 0.3378 - accuracy: 0.87 - ETA: 0s - loss: 0.3376 - accuracy: 0.87 - ETA: 0s - loss: 0.3375 - accuracy: 0.87 - ETA: 0s - loss: 0.3375 - accuracy: 0.87 - ETA: 0s - loss: 0.3374 - accuracy: 0.87 - ETA: 0s - loss: 0.3373 - accuracy: 0.87 - ETA: 0s - loss: 0.3372 - accuracy: 0.87 - ETA: 0s - loss: 0.3371 - accuracy: 0.87 - ETA: 0s - loss: 0.3370 - accuracy: 0.87 - ETA: 0s - loss: 0.3369 - accuracy: 0.87 - ETA: 0s - loss: 0.3368 - accuracy: 0.87 - ETA: 0s - loss: 0.3367 - accuracy: 0.87 - ETA: 0s - loss: 0.3366 - accuracy: 0.87 - ETA: 0s - loss: 0.3366 - accuracy: 0.87 - ETA: 0s - loss: 0.3365 - accuracy: 0.87 - ETA: 0s - loss: 0.3364 - accuracy: 0.87 - ETA: 0s - loss: 0.3363 - accuracy: 0.87 - 5s 8ms/step - loss: 0.3363 - accuracy: 0.8771 - val_loss: 0.3450 - val_accuracy: 0.8726\n",
      "Epoch 5/100\n"
     ]
    },
    {
     "name": "stdout",
     "output_type": "stream",
     "text": [
      "657/657 [==============================] - ETA: 14s - loss: 0.3372 - accuracy: 0.875 - ETA: 4s - loss: 0.3497 - accuracy: 0.877 - ETA: 4s - loss: 0.3457 - accuracy: 0.87 - ETA: 3s - loss: 0.3375 - accuracy: 0.88 - ETA: 3s - loss: 0.3311 - accuracy: 0.88 - ETA: 3s - loss: 0.3290 - accuracy: 0.88 - ETA: 3s - loss: 0.3271 - accuracy: 0.88 - ETA: 3s - loss: 0.3243 - accuracy: 0.88 - ETA: 3s - loss: 0.3218 - accuracy: 0.88 - ETA: 3s - loss: 0.3204 - accuracy: 0.88 - ETA: 3s - loss: 0.3193 - accuracy: 0.88 - ETA: 3s - loss: 0.3185 - accuracy: 0.88 - ETA: 3s - loss: 0.3180 - accuracy: 0.88 - ETA: 3s - loss: 0.3176 - accuracy: 0.88 - ETA: 3s - loss: 0.3171 - accuracy: 0.88 - ETA: 3s - loss: 0.3166 - accuracy: 0.88 - ETA: 3s - loss: 0.3164 - accuracy: 0.88 - ETA: 3s - loss: 0.3162 - accuracy: 0.88 - ETA: 3s - loss: 0.3161 - accuracy: 0.88 - ETA: 3s - loss: 0.3161 - accuracy: 0.88 - ETA: 3s - loss: 0.3162 - accuracy: 0.88 - ETA: 3s - loss: 0.3164 - accuracy: 0.88 - ETA: 3s - loss: 0.3165 - accuracy: 0.88 - ETA: 3s - loss: 0.3168 - accuracy: 0.88 - ETA: 3s - loss: 0.3170 - accuracy: 0.88 - ETA: 3s - loss: 0.3171 - accuracy: 0.88 - ETA: 3s - loss: 0.3171 - accuracy: 0.88 - ETA: 2s - loss: 0.3172 - accuracy: 0.88 - ETA: 2s - loss: 0.3172 - accuracy: 0.88 - ETA: 2s - loss: 0.3173 - accuracy: 0.88 - ETA: 2s - loss: 0.3173 - accuracy: 0.88 - ETA: 2s - loss: 0.3172 - accuracy: 0.88 - ETA: 2s - loss: 0.3172 - accuracy: 0.88 - ETA: 2s - loss: 0.3171 - accuracy: 0.88 - ETA: 2s - loss: 0.3171 - accuracy: 0.88 - ETA: 2s - loss: 0.3170 - accuracy: 0.88 - ETA: 2s - loss: 0.3170 - accuracy: 0.88 - ETA: 2s - loss: 0.3169 - accuracy: 0.88 - ETA: 2s - loss: 0.3168 - accuracy: 0.88 - ETA: 2s - loss: 0.3167 - accuracy: 0.88 - ETA: 2s - loss: 0.3166 - accuracy: 0.88 - ETA: 2s - loss: 0.3165 - accuracy: 0.88 - ETA: 2s - loss: 0.3164 - accuracy: 0.88 - ETA: 2s - loss: 0.3163 - accuracy: 0.88 - ETA: 2s - loss: 0.3162 - accuracy: 0.88 - ETA: 1s - loss: 0.3161 - accuracy: 0.88 - ETA: 1s - loss: 0.3161 - accuracy: 0.88 - ETA: 1s - loss: 0.3160 - accuracy: 0.88 - ETA: 1s - loss: 0.3160 - accuracy: 0.88 - ETA: 1s - loss: 0.3159 - accuracy: 0.88 - ETA: 1s - loss: 0.3159 - accuracy: 0.88 - ETA: 1s - loss: 0.3159 - accuracy: 0.88 - ETA: 1s - loss: 0.3159 - accuracy: 0.88 - ETA: 1s - loss: 0.3158 - accuracy: 0.88 - ETA: 1s - loss: 0.3158 - accuracy: 0.88 - ETA: 1s - loss: 0.3158 - accuracy: 0.88 - ETA: 1s - loss: 0.3158 - accuracy: 0.88 - ETA: 1s - loss: 0.3158 - accuracy: 0.88 - ETA: 1s - loss: 0.3157 - accuracy: 0.88 - ETA: 1s - loss: 0.3157 - accuracy: 0.88 - ETA: 1s - loss: 0.3157 - accuracy: 0.88 - ETA: 1s - loss: 0.3156 - accuracy: 0.88 - ETA: 1s - loss: 0.3156 - accuracy: 0.88 - ETA: 1s - loss: 0.3156 - accuracy: 0.88 - ETA: 0s - loss: 0.3156 - accuracy: 0.88 - ETA: 0s - loss: 0.3155 - accuracy: 0.88 - ETA: 0s - loss: 0.3155 - accuracy: 0.88 - ETA: 0s - loss: 0.3155 - accuracy: 0.88 - ETA: 0s - loss: 0.3154 - accuracy: 0.88 - ETA: 0s - loss: 0.3154 - accuracy: 0.88 - ETA: 0s - loss: 0.3153 - accuracy: 0.88 - ETA: 0s - loss: 0.3153 - accuracy: 0.88 - ETA: 0s - loss: 0.3153 - accuracy: 0.88 - ETA: 0s - loss: 0.3152 - accuracy: 0.88 - ETA: 0s - loss: 0.3152 - accuracy: 0.88 - ETA: 0s - loss: 0.3151 - accuracy: 0.88 - ETA: 0s - loss: 0.3151 - accuracy: 0.88 - ETA: 0s - loss: 0.3151 - accuracy: 0.88 - ETA: 0s - loss: 0.3150 - accuracy: 0.88 - ETA: 0s - loss: 0.3150 - accuracy: 0.88 - ETA: 0s - loss: 0.3149 - accuracy: 0.88 - ETA: 0s - loss: 0.3149 - accuracy: 0.88 - ETA: 0s - loss: 0.3148 - accuracy: 0.88 - ETA: 0s - loss: 0.3148 - accuracy: 0.88 - ETA: 0s - loss: 0.3147 - accuracy: 0.88 - 5s 8ms/step - loss: 0.3147 - accuracy: 0.8846 - val_loss: 0.3424 - val_accuracy: 0.8736\n",
      "Epoch 6/100\n",
      "657/657 [==============================] - ETA: 16s - loss: 0.1845 - accuracy: 0.937 - ETA: 4s - loss: 0.2651 - accuracy: 0.905 - ETA: 4s - loss: 0.2816 - accuracy: 0.89 - ETA: 4s - loss: 0.2858 - accuracy: 0.89 - ETA: 4s - loss: 0.2855 - accuracy: 0.89 - ETA: 4s - loss: 0.2851 - accuracy: 0.89 - ETA: 4s - loss: 0.2841 - accuracy: 0.89 - ETA: 4s - loss: 0.2841 - accuracy: 0.89 - ETA: 4s - loss: 0.2836 - accuracy: 0.89 - ETA: 4s - loss: 0.2833 - accuracy: 0.89 - ETA: 4s - loss: 0.2830 - accuracy: 0.89 - ETA: 4s - loss: 0.2830 - accuracy: 0.89 - ETA: 4s - loss: 0.2833 - accuracy: 0.89 - ETA: 4s - loss: 0.2839 - accuracy: 0.89 - ETA: 3s - loss: 0.2846 - accuracy: 0.89 - ETA: 3s - loss: 0.2853 - accuracy: 0.89 - ETA: 3s - loss: 0.2859 - accuracy: 0.89 - ETA: 3s - loss: 0.2865 - accuracy: 0.89 - ETA: 3s - loss: 0.2870 - accuracy: 0.89 - ETA: 3s - loss: 0.2874 - accuracy: 0.89 - ETA: 3s - loss: 0.2878 - accuracy: 0.89 - ETA: 3s - loss: 0.2880 - accuracy: 0.89 - ETA: 3s - loss: 0.2883 - accuracy: 0.89 - ETA: 3s - loss: 0.2887 - accuracy: 0.89 - ETA: 3s - loss: 0.2892 - accuracy: 0.89 - ETA: 3s - loss: 0.2895 - accuracy: 0.89 - ETA: 3s - loss: 0.2898 - accuracy: 0.89 - ETA: 3s - loss: 0.2901 - accuracy: 0.89 - ETA: 3s - loss: 0.2904 - accuracy: 0.89 - ETA: 3s - loss: 0.2907 - accuracy: 0.89 - ETA: 3s - loss: 0.2909 - accuracy: 0.89 - ETA: 2s - loss: 0.2911 - accuracy: 0.89 - ETA: 2s - loss: 0.2913 - accuracy: 0.89 - ETA: 2s - loss: 0.2915 - accuracy: 0.89 - ETA: 2s - loss: 0.2916 - accuracy: 0.89 - ETA: 2s - loss: 0.2918 - accuracy: 0.89 - ETA: 2s - loss: 0.2919 - accuracy: 0.89 - ETA: 2s - loss: 0.2921 - accuracy: 0.89 - ETA: 2s - loss: 0.2922 - accuracy: 0.89 - ETA: 2s - loss: 0.2923 - accuracy: 0.89 - ETA: 2s - loss: 0.2923 - accuracy: 0.89 - ETA: 2s - loss: 0.2924 - accuracy: 0.89 - ETA: 2s - loss: 0.2925 - accuracy: 0.89 - ETA: 2s - loss: 0.2926 - accuracy: 0.89 - ETA: 2s - loss: 0.2926 - accuracy: 0.89 - ETA: 2s - loss: 0.2927 - accuracy: 0.89 - ETA: 2s - loss: 0.2928 - accuracy: 0.89 - ETA: 2s - loss: 0.2928 - accuracy: 0.89 - ETA: 2s - loss: 0.2928 - accuracy: 0.89 - ETA: 1s - loss: 0.2928 - accuracy: 0.89 - ETA: 1s - loss: 0.2929 - accuracy: 0.89 - ETA: 1s - loss: 0.2929 - accuracy: 0.89 - ETA: 1s - loss: 0.2929 - accuracy: 0.89 - ETA: 1s - loss: 0.2930 - accuracy: 0.89 - ETA: 1s - loss: 0.2930 - accuracy: 0.89 - ETA: 1s - loss: 0.2931 - accuracy: 0.89 - ETA: 1s - loss: 0.2931 - accuracy: 0.89 - ETA: 1s - loss: 0.2932 - accuracy: 0.89 - ETA: 1s - loss: 0.2932 - accuracy: 0.89 - ETA: 1s - loss: 0.2932 - accuracy: 0.89 - ETA: 1s - loss: 0.2933 - accuracy: 0.89 - ETA: 1s - loss: 0.2933 - accuracy: 0.89 - ETA: 1s - loss: 0.2933 - accuracy: 0.89 - ETA: 1s - loss: 0.2933 - accuracy: 0.89 - ETA: 1s - loss: 0.2933 - accuracy: 0.89 - ETA: 1s - loss: 0.2934 - accuracy: 0.89 - ETA: 1s - loss: 0.2934 - accuracy: 0.89 - ETA: 1s - loss: 0.2934 - accuracy: 0.89 - ETA: 0s - loss: 0.2934 - accuracy: 0.89 - ETA: 0s - loss: 0.2934 - accuracy: 0.89 - ETA: 0s - loss: 0.2934 - accuracy: 0.89 - ETA: 0s - loss: 0.2934 - accuracy: 0.89 - ETA: 0s - loss: 0.2935 - accuracy: 0.89 - ETA: 0s - loss: 0.2935 - accuracy: 0.89 - ETA: 0s - loss: 0.2935 - accuracy: 0.89 - ETA: 0s - loss: 0.2935 - accuracy: 0.89 - ETA: 0s - loss: 0.2935 - accuracy: 0.89 - ETA: 0s - loss: 0.2935 - accuracy: 0.89 - ETA: 0s - loss: 0.2935 - accuracy: 0.89 - ETA: 0s - loss: 0.2935 - accuracy: 0.89 - ETA: 0s - loss: 0.2935 - accuracy: 0.89 - ETA: 0s - loss: 0.2935 - accuracy: 0.89 - ETA: 0s - loss: 0.2935 - accuracy: 0.89 - ETA: 0s - loss: 0.2935 - accuracy: 0.89 - ETA: 0s - loss: 0.2935 - accuracy: 0.89 - ETA: 0s - loss: 0.2935 - accuracy: 0.89 - ETA: 0s - loss: 0.2935 - accuracy: 0.89 - ETA: 0s - loss: 0.2935 - accuracy: 0.89 - 5s 8ms/step - loss: 0.2934 - accuracy: 0.8917 - val_loss: 0.3264 - val_accuracy: 0.8829\n",
      "Epoch 7/100\n"
     ]
    },
    {
     "name": "stdout",
     "output_type": "stream",
     "text": [
      "657/657 [==============================] - ETA: 16s - loss: 0.4326 - accuracy: 0.828 - ETA: 4s - loss: 0.3225 - accuracy: 0.878 - ETA: 4s - loss: 0.3092 - accuracy: 0.88 - ETA: 4s - loss: 0.3005 - accuracy: 0.88 - ETA: 4s - loss: 0.2942 - accuracy: 0.89 - ETA: 4s - loss: 0.2920 - accuracy: 0.89 - ETA: 4s - loss: 0.2902 - accuracy: 0.89 - ETA: 4s - loss: 0.2888 - accuracy: 0.89 - ETA: 4s - loss: 0.2870 - accuracy: 0.89 - ETA: 4s - loss: 0.2856 - accuracy: 0.89 - ETA: 4s - loss: 0.2842 - accuracy: 0.89 - ETA: 4s - loss: 0.2826 - accuracy: 0.89 - ETA: 4s - loss: 0.2813 - accuracy: 0.89 - ETA: 4s - loss: 0.2802 - accuracy: 0.89 - ETA: 4s - loss: 0.2795 - accuracy: 0.89 - ETA: 3s - loss: 0.2791 - accuracy: 0.89 - ETA: 3s - loss: 0.2788 - accuracy: 0.89 - ETA: 3s - loss: 0.2785 - accuracy: 0.89 - ETA: 3s - loss: 0.2782 - accuracy: 0.89 - ETA: 3s - loss: 0.2780 - accuracy: 0.89 - ETA: 3s - loss: 0.2780 - accuracy: 0.89 - ETA: 3s - loss: 0.2779 - accuracy: 0.89 - ETA: 3s - loss: 0.2780 - accuracy: 0.89 - ETA: 3s - loss: 0.2781 - accuracy: 0.89 - ETA: 3s - loss: 0.2783 - accuracy: 0.89 - ETA: 3s - loss: 0.2784 - accuracy: 0.89 - ETA: 3s - loss: 0.2786 - accuracy: 0.89 - ETA: 3s - loss: 0.2788 - accuracy: 0.89 - ETA: 3s - loss: 0.2790 - accuracy: 0.89 - ETA: 3s - loss: 0.2791 - accuracy: 0.89 - ETA: 2s - loss: 0.2792 - accuracy: 0.89 - ETA: 2s - loss: 0.2792 - accuracy: 0.89 - ETA: 2s - loss: 0.2793 - accuracy: 0.89 - ETA: 2s - loss: 0.2793 - accuracy: 0.89 - ETA: 2s - loss: 0.2794 - accuracy: 0.89 - ETA: 2s - loss: 0.2795 - accuracy: 0.89 - ETA: 2s - loss: 0.2796 - accuracy: 0.89 - ETA: 2s - loss: 0.2796 - accuracy: 0.89 - ETA: 2s - loss: 0.2796 - accuracy: 0.89 - ETA: 2s - loss: 0.2797 - accuracy: 0.89 - ETA: 2s - loss: 0.2797 - accuracy: 0.89 - ETA: 2s - loss: 0.2798 - accuracy: 0.89 - ETA: 2s - loss: 0.2798 - accuracy: 0.89 - ETA: 2s - loss: 0.2798 - accuracy: 0.89 - ETA: 2s - loss: 0.2799 - accuracy: 0.89 - ETA: 2s - loss: 0.2799 - accuracy: 0.89 - ETA: 2s - loss: 0.2800 - accuracy: 0.89 - ETA: 2s - loss: 0.2799 - accuracy: 0.89 - ETA: 2s - loss: 0.2799 - accuracy: 0.89 - ETA: 2s - loss: 0.2799 - accuracy: 0.89 - ETA: 1s - loss: 0.2799 - accuracy: 0.89 - ETA: 1s - loss: 0.2798 - accuracy: 0.89 - ETA: 1s - loss: 0.2798 - accuracy: 0.89 - ETA: 1s - loss: 0.2798 - accuracy: 0.89 - ETA: 1s - loss: 0.2798 - accuracy: 0.89 - ETA: 1s - loss: 0.2797 - accuracy: 0.89 - ETA: 1s - loss: 0.2797 - accuracy: 0.89 - ETA: 1s - loss: 0.2797 - accuracy: 0.89 - ETA: 1s - loss: 0.2797 - accuracy: 0.89 - ETA: 1s - loss: 0.2797 - accuracy: 0.89 - ETA: 1s - loss: 0.2796 - accuracy: 0.89 - ETA: 1s - loss: 0.2796 - accuracy: 0.89 - ETA: 1s - loss: 0.2796 - accuracy: 0.89 - ETA: 1s - loss: 0.2796 - accuracy: 0.89 - ETA: 1s - loss: 0.2796 - accuracy: 0.89 - ETA: 1s - loss: 0.2796 - accuracy: 0.89 - ETA: 1s - loss: 0.2796 - accuracy: 0.89 - ETA: 1s - loss: 0.2796 - accuracy: 0.89 - ETA: 1s - loss: 0.2796 - accuracy: 0.89 - ETA: 0s - loss: 0.2796 - accuracy: 0.89 - ETA: 0s - loss: 0.2796 - accuracy: 0.89 - ETA: 0s - loss: 0.2796 - accuracy: 0.89 - ETA: 0s - loss: 0.2796 - accuracy: 0.89 - ETA: 0s - loss: 0.2796 - accuracy: 0.89 - ETA: 0s - loss: 0.2796 - accuracy: 0.89 - ETA: 0s - loss: 0.2796 - accuracy: 0.89 - ETA: 0s - loss: 0.2796 - accuracy: 0.89 - ETA: 0s - loss: 0.2796 - accuracy: 0.89 - ETA: 0s - loss: 0.2796 - accuracy: 0.89 - ETA: 0s - loss: 0.2796 - accuracy: 0.89 - ETA: 0s - loss: 0.2796 - accuracy: 0.89 - ETA: 0s - loss: 0.2796 - accuracy: 0.89 - ETA: 0s - loss: 0.2796 - accuracy: 0.89 - ETA: 0s - loss: 0.2796 - accuracy: 0.89 - ETA: 0s - loss: 0.2796 - accuracy: 0.89 - ETA: 0s - loss: 0.2796 - accuracy: 0.89 - ETA: 0s - loss: 0.2795 - accuracy: 0.89 - ETA: 0s - loss: 0.2795 - accuracy: 0.89 - 6s 8ms/step - loss: 0.2795 - accuracy: 0.8956 - val_loss: 0.3098 - val_accuracy: 0.8874\n",
      "Epoch 8/100\n"
     ]
    },
    {
     "name": "stdout",
     "output_type": "stream",
     "text": [
      "657/657 [==============================] - ETA: 16s - loss: 0.1553 - accuracy: 0.953 - ETA: 4s - loss: 0.2196 - accuracy: 0.912 - ETA: 4s - loss: 0.2316 - accuracy: 0.91 - ETA: 4s - loss: 0.2397 - accuracy: 0.90 - ETA: 4s - loss: 0.2439 - accuracy: 0.90 - ETA: 4s - loss: 0.2461 - accuracy: 0.90 - ETA: 4s - loss: 0.2492 - accuracy: 0.90 - ETA: 4s - loss: 0.2531 - accuracy: 0.90 - ETA: 4s - loss: 0.2563 - accuracy: 0.90 - ETA: 4s - loss: 0.2590 - accuracy: 0.90 - ETA: 4s - loss: 0.2609 - accuracy: 0.90 - ETA: 4s - loss: 0.2626 - accuracy: 0.90 - ETA: 4s - loss: 0.2637 - accuracy: 0.90 - ETA: 4s - loss: 0.2648 - accuracy: 0.90 - ETA: 4s - loss: 0.2661 - accuracy: 0.90 - ETA: 4s - loss: 0.2671 - accuracy: 0.90 - ETA: 4s - loss: 0.2676 - accuracy: 0.89 - ETA: 4s - loss: 0.2683 - accuracy: 0.89 - ETA: 4s - loss: 0.2689 - accuracy: 0.89 - ETA: 4s - loss: 0.2695 - accuracy: 0.89 - ETA: 3s - loss: 0.2698 - accuracy: 0.89 - ETA: 3s - loss: 0.2701 - accuracy: 0.89 - ETA: 3s - loss: 0.2703 - accuracy: 0.89 - ETA: 3s - loss: 0.2705 - accuracy: 0.89 - ETA: 3s - loss: 0.2706 - accuracy: 0.89 - ETA: 3s - loss: 0.2707 - accuracy: 0.89 - ETA: 3s - loss: 0.2708 - accuracy: 0.89 - ETA: 3s - loss: 0.2709 - accuracy: 0.89 - ETA: 3s - loss: 0.2710 - accuracy: 0.89 - ETA: 3s - loss: 0.2712 - accuracy: 0.89 - ETA: 3s - loss: 0.2713 - accuracy: 0.89 - ETA: 3s - loss: 0.2714 - accuracy: 0.89 - ETA: 3s - loss: 0.2715 - accuracy: 0.89 - ETA: 3s - loss: 0.2717 - accuracy: 0.89 - ETA: 3s - loss: 0.2718 - accuracy: 0.89 - ETA: 3s - loss: 0.2719 - accuracy: 0.89 - ETA: 2s - loss: 0.2719 - accuracy: 0.89 - ETA: 2s - loss: 0.2719 - accuracy: 0.89 - ETA: 2s - loss: 0.2719 - accuracy: 0.89 - ETA: 2s - loss: 0.2720 - accuracy: 0.89 - ETA: 2s - loss: 0.2720 - accuracy: 0.89 - ETA: 2s - loss: 0.2720 - accuracy: 0.89 - ETA: 2s - loss: 0.2720 - accuracy: 0.89 - ETA: 2s - loss: 0.2720 - accuracy: 0.89 - ETA: 2s - loss: 0.2720 - accuracy: 0.89 - ETA: 2s - loss: 0.2720 - accuracy: 0.89 - ETA: 2s - loss: 0.2720 - accuracy: 0.89 - ETA: 2s - loss: 0.2720 - accuracy: 0.89 - ETA: 2s - loss: 0.2720 - accuracy: 0.89 - ETA: 2s - loss: 0.2719 - accuracy: 0.89 - ETA: 2s - loss: 0.2719 - accuracy: 0.89 - ETA: 2s - loss: 0.2719 - accuracy: 0.89 - ETA: 2s - loss: 0.2719 - accuracy: 0.89 - ETA: 2s - loss: 0.2719 - accuracy: 0.89 - ETA: 2s - loss: 0.2719 - accuracy: 0.89 - ETA: 2s - loss: 0.2719 - accuracy: 0.89 - ETA: 2s - loss: 0.2719 - accuracy: 0.89 - ETA: 2s - loss: 0.2718 - accuracy: 0.89 - ETA: 2s - loss: 0.2718 - accuracy: 0.89 - ETA: 2s - loss: 0.2718 - accuracy: 0.89 - ETA: 1s - loss: 0.2718 - accuracy: 0.89 - ETA: 1s - loss: 0.2718 - accuracy: 0.89 - ETA: 1s - loss: 0.2717 - accuracy: 0.89 - ETA: 1s - loss: 0.2717 - accuracy: 0.89 - ETA: 1s - loss: 0.2717 - accuracy: 0.89 - ETA: 1s - loss: 0.2717 - accuracy: 0.89 - ETA: 1s - loss: 0.2717 - accuracy: 0.89 - ETA: 1s - loss: 0.2717 - accuracy: 0.89 - ETA: 1s - loss: 0.2716 - accuracy: 0.89 - ETA: 1s - loss: 0.2716 - accuracy: 0.89 - ETA: 1s - loss: 0.2716 - accuracy: 0.89 - ETA: 1s - loss: 0.2716 - accuracy: 0.89 - ETA: 1s - loss: 0.2715 - accuracy: 0.89 - ETA: 1s - loss: 0.2715 - accuracy: 0.89 - ETA: 1s - loss: 0.2715 - accuracy: 0.89 - ETA: 1s - loss: 0.2715 - accuracy: 0.89 - ETA: 1s - loss: 0.2715 - accuracy: 0.89 - ETA: 1s - loss: 0.2715 - accuracy: 0.89 - ETA: 1s - loss: 0.2715 - accuracy: 0.89 - ETA: 1s - loss: 0.2714 - accuracy: 0.89 - ETA: 1s - loss: 0.2714 - accuracy: 0.89 - ETA: 1s - loss: 0.2714 - accuracy: 0.89 - ETA: 1s - loss: 0.2714 - accuracy: 0.89 - ETA: 1s - loss: 0.2714 - accuracy: 0.89 - ETA: 1s - loss: 0.2714 - accuracy: 0.89 - ETA: 0s - loss: 0.2714 - accuracy: 0.89 - ETA: 0s - loss: 0.2714 - accuracy: 0.89 - ETA: 0s - loss: 0.2713 - accuracy: 0.89 - ETA: 0s - loss: 0.2713 - accuracy: 0.89 - ETA: 0s - loss: 0.2713 - accuracy: 0.89 - ETA: 0s - loss: 0.2713 - accuracy: 0.89 - ETA: 0s - loss: 0.2713 - accuracy: 0.89 - ETA: 0s - loss: 0.2713 - accuracy: 0.89 - ETA: 0s - loss: 0.2713 - accuracy: 0.89 - ETA: 0s - loss: 0.2712 - accuracy: 0.89 - ETA: 0s - loss: 0.2712 - accuracy: 0.89 - ETA: 0s - loss: 0.2712 - accuracy: 0.89 - ETA: 0s - loss: 0.2712 - accuracy: 0.89 - ETA: 0s - loss: 0.2712 - accuracy: 0.89 - ETA: 0s - loss: 0.2712 - accuracy: 0.89 - ETA: 0s - loss: 0.2711 - accuracy: 0.89 - ETA: 0s - loss: 0.2711 - accuracy: 0.89 - ETA: 0s - loss: 0.2711 - accuracy: 0.89 - ETA: 0s - loss: 0.2711 - accuracy: 0.89 - ETA: 0s - loss: 0.2711 - accuracy: 0.89 - ETA: 0s - loss: 0.2710 - accuracy: 0.89 - ETA: 0s - loss: 0.2710 - accuracy: 0.89 - ETA: 0s - loss: 0.2710 - accuracy: 0.89 - ETA: 0s - loss: 0.2710 - accuracy: 0.89 - 7s 11ms/step - loss: 0.2710 - accuracy: 0.8978 - val_loss: 0.3676 - val_accuracy: 0.8761\n",
      "Epoch 9/100\n"
     ]
    },
    {
     "name": "stdout",
     "output_type": "stream",
     "text": [
      "657/657 [==============================] - ETA: 27s - loss: 0.2515 - accuracy: 0.937 - ETA: 8s - loss: 0.3035 - accuracy: 0.908 - ETA: 7s - loss: 0.3037 - accuracy: 0.89 - ETA: 6s - loss: 0.2993 - accuracy: 0.89 - ETA: 6s - loss: 0.2963 - accuracy: 0.89 - ETA: 7s - loss: 0.2937 - accuracy: 0.89 - ETA: 6s - loss: 0.2902 - accuracy: 0.89 - ETA: 6s - loss: 0.2866 - accuracy: 0.89 - ETA: 6s - loss: 0.2838 - accuracy: 0.89 - ETA: 6s - loss: 0.2823 - accuracy: 0.89 - ETA: 6s - loss: 0.2807 - accuracy: 0.89 - ETA: 5s - loss: 0.2791 - accuracy: 0.89 - ETA: 5s - loss: 0.2776 - accuracy: 0.89 - ETA: 5s - loss: 0.2769 - accuracy: 0.89 - ETA: 5s - loss: 0.2763 - accuracy: 0.89 - ETA: 5s - loss: 0.2757 - accuracy: 0.89 - ETA: 5s - loss: 0.2751 - accuracy: 0.89 - ETA: 5s - loss: 0.2747 - accuracy: 0.89 - ETA: 4s - loss: 0.2745 - accuracy: 0.89 - ETA: 4s - loss: 0.2741 - accuracy: 0.89 - ETA: 4s - loss: 0.2739 - accuracy: 0.89 - ETA: 4s - loss: 0.2735 - accuracy: 0.89 - ETA: 4s - loss: 0.2732 - accuracy: 0.89 - ETA: 4s - loss: 0.2728 - accuracy: 0.89 - ETA: 4s - loss: 0.2726 - accuracy: 0.90 - ETA: 4s - loss: 0.2724 - accuracy: 0.90 - ETA: 4s - loss: 0.2722 - accuracy: 0.90 - ETA: 4s - loss: 0.2721 - accuracy: 0.90 - ETA: 4s - loss: 0.2721 - accuracy: 0.90 - ETA: 4s - loss: 0.2721 - accuracy: 0.90 - ETA: 4s - loss: 0.2721 - accuracy: 0.90 - ETA: 4s - loss: 0.2721 - accuracy: 0.90 - ETA: 4s - loss: 0.2721 - accuracy: 0.90 - ETA: 4s - loss: 0.2720 - accuracy: 0.90 - ETA: 4s - loss: 0.2719 - accuracy: 0.90 - ETA: 4s - loss: 0.2719 - accuracy: 0.90 - ETA: 4s - loss: 0.2718 - accuracy: 0.90 - ETA: 4s - loss: 0.2718 - accuracy: 0.90 - ETA: 4s - loss: 0.2717 - accuracy: 0.90 - ETA: 3s - loss: 0.2716 - accuracy: 0.90 - ETA: 3s - loss: 0.2715 - accuracy: 0.90 - ETA: 3s - loss: 0.2715 - accuracy: 0.90 - ETA: 3s - loss: 0.2714 - accuracy: 0.90 - ETA: 3s - loss: 0.2713 - accuracy: 0.90 - ETA: 3s - loss: 0.2713 - accuracy: 0.90 - ETA: 3s - loss: 0.2712 - accuracy: 0.90 - ETA: 3s - loss: 0.2712 - accuracy: 0.90 - ETA: 3s - loss: 0.2711 - accuracy: 0.90 - ETA: 3s - loss: 0.2710 - accuracy: 0.90 - ETA: 3s - loss: 0.2709 - accuracy: 0.90 - ETA: 3s - loss: 0.2708 - accuracy: 0.90 - ETA: 3s - loss: 0.2708 - accuracy: 0.90 - ETA: 3s - loss: 0.2707 - accuracy: 0.90 - ETA: 3s - loss: 0.2707 - accuracy: 0.90 - ETA: 3s - loss: 0.2707 - accuracy: 0.90 - ETA: 3s - loss: 0.2706 - accuracy: 0.90 - ETA: 3s - loss: 0.2706 - accuracy: 0.90 - ETA: 3s - loss: 0.2705 - accuracy: 0.90 - ETA: 3s - loss: 0.2704 - accuracy: 0.90 - ETA: 3s - loss: 0.2704 - accuracy: 0.90 - ETA: 3s - loss: 0.2704 - accuracy: 0.90 - ETA: 3s - loss: 0.2703 - accuracy: 0.90 - ETA: 3s - loss: 0.2703 - accuracy: 0.90 - ETA: 3s - loss: 0.2702 - accuracy: 0.90 - ETA: 3s - loss: 0.2702 - accuracy: 0.90 - ETA: 3s - loss: 0.2701 - accuracy: 0.90 - ETA: 2s - loss: 0.2701 - accuracy: 0.90 - ETA: 2s - loss: 0.2700 - accuracy: 0.90 - ETA: 2s - loss: 0.2700 - accuracy: 0.90 - ETA: 2s - loss: 0.2699 - accuracy: 0.90 - ETA: 2s - loss: 0.2698 - accuracy: 0.90 - ETA: 2s - loss: 0.2698 - accuracy: 0.90 - ETA: 2s - loss: 0.2697 - accuracy: 0.90 - ETA: 2s - loss: 0.2696 - accuracy: 0.90 - ETA: 2s - loss: 0.2695 - accuracy: 0.90 - ETA: 2s - loss: 0.2694 - accuracy: 0.90 - ETA: 2s - loss: 0.2693 - accuracy: 0.90 - ETA: 2s - loss: 0.2693 - accuracy: 0.90 - ETA: 2s - loss: 0.2692 - accuracy: 0.90 - ETA: 2s - loss: 0.2691 - accuracy: 0.90 - ETA: 2s - loss: 0.2690 - accuracy: 0.90 - ETA: 2s - loss: 0.2689 - accuracy: 0.90 - ETA: 2s - loss: 0.2689 - accuracy: 0.90 - ETA: 2s - loss: 0.2688 - accuracy: 0.90 - ETA: 2s - loss: 0.2687 - accuracy: 0.90 - ETA: 2s - loss: 0.2686 - accuracy: 0.90 - ETA: 2s - loss: 0.2685 - accuracy: 0.90 - ETA: 1s - loss: 0.2684 - accuracy: 0.90 - ETA: 1s - loss: 0.2683 - accuracy: 0.90 - ETA: 1s - loss: 0.2682 - accuracy: 0.90 - ETA: 1s - loss: 0.2681 - accuracy: 0.90 - ETA: 1s - loss: 0.2680 - accuracy: 0.90 - ETA: 1s - loss: 0.2679 - accuracy: 0.90 - ETA: 1s - loss: 0.2678 - accuracy: 0.90 - ETA: 1s - loss: 0.2677 - accuracy: 0.90 - ETA: 1s - loss: 0.2676 - accuracy: 0.90 - ETA: 1s - loss: 0.2675 - accuracy: 0.90 - ETA: 1s - loss: 0.2674 - accuracy: 0.90 - ETA: 1s - loss: 0.2674 - accuracy: 0.90 - ETA: 1s - loss: 0.2673 - accuracy: 0.90 - ETA: 1s - loss: 0.2672 - accuracy: 0.90 - ETA: 1s - loss: 0.2671 - accuracy: 0.90 - ETA: 1s - loss: 0.2671 - accuracy: 0.90 - ETA: 1s - loss: 0.2670 - accuracy: 0.90 - ETA: 1s - loss: 0.2669 - accuracy: 0.90 - ETA: 0s - loss: 0.2669 - accuracy: 0.90 - ETA: 0s - loss: 0.2668 - accuracy: 0.90 - ETA: 0s - loss: 0.2667 - accuracy: 0.90 - ETA: 0s - loss: 0.2666 - accuracy: 0.90 - ETA: 0s - loss: 0.2666 - accuracy: 0.90 - ETA: 0s - loss: 0.2665 - accuracy: 0.90 - ETA: 0s - loss: 0.2665 - accuracy: 0.90 - ETA: 0s - loss: 0.2664 - accuracy: 0.90 - ETA: 0s - loss: 0.2663 - accuracy: 0.90 - ETA: 0s - loss: 0.2663 - accuracy: 0.90 - ETA: 0s - loss: 0.2662 - accuracy: 0.90 - ETA: 0s - loss: 0.2662 - accuracy: 0.90 - ETA: 0s - loss: 0.2661 - accuracy: 0.90 - ETA: 0s - loss: 0.2660 - accuracy: 0.90 - ETA: 0s - loss: 0.2660 - accuracy: 0.90 - ETA: 0s - loss: 0.2659 - accuracy: 0.90 - ETA: 0s - loss: 0.2659 - accuracy: 0.90 - ETA: 0s - loss: 0.2658 - accuracy: 0.90 - 8s 12ms/step - loss: 0.2658 - accuracy: 0.9014 - val_loss: 0.3061 - val_accuracy: 0.8900\n",
      "Epoch 10/100\n"
     ]
    },
    {
     "name": "stdout",
     "output_type": "stream",
     "text": [
      "657/657 [==============================] - ETA: 18s - loss: 0.2152 - accuracy: 0.906 - ETA: 5s - loss: 0.2545 - accuracy: 0.895 - ETA: 5s - loss: 0.2491 - accuracy: 0.89 - ETA: 6s - loss: 0.2519 - accuracy: 0.89 - ETA: 5s - loss: 0.2540 - accuracy: 0.89 - ETA: 5s - loss: 0.2551 - accuracy: 0.89 - ETA: 5s - loss: 0.2544 - accuracy: 0.89 - ETA: 5s - loss: 0.2536 - accuracy: 0.90 - ETA: 5s - loss: 0.2532 - accuracy: 0.90 - ETA: 5s - loss: 0.2525 - accuracy: 0.90 - ETA: 5s - loss: 0.2520 - accuracy: 0.90 - ETA: 5s - loss: 0.2516 - accuracy: 0.90 - ETA: 5s - loss: 0.2513 - accuracy: 0.90 - ETA: 5s - loss: 0.2510 - accuracy: 0.90 - ETA: 5s - loss: 0.2507 - accuracy: 0.90 - ETA: 5s - loss: 0.2505 - accuracy: 0.90 - ETA: 5s - loss: 0.2502 - accuracy: 0.90 - ETA: 5s - loss: 0.2499 - accuracy: 0.90 - ETA: 5s - loss: 0.2499 - accuracy: 0.90 - ETA: 5s - loss: 0.2499 - accuracy: 0.90 - ETA: 5s - loss: 0.2499 - accuracy: 0.90 - ETA: 5s - loss: 0.2498 - accuracy: 0.90 - ETA: 5s - loss: 0.2497 - accuracy: 0.90 - ETA: 5s - loss: 0.2495 - accuracy: 0.90 - ETA: 5s - loss: 0.2494 - accuracy: 0.90 - ETA: 5s - loss: 0.2493 - accuracy: 0.90 - ETA: 5s - loss: 0.2492 - accuracy: 0.90 - ETA: 5s - loss: 0.2492 - accuracy: 0.90 - ETA: 5s - loss: 0.2491 - accuracy: 0.90 - ETA: 4s - loss: 0.2490 - accuracy: 0.90 - ETA: 4s - loss: 0.2490 - accuracy: 0.90 - ETA: 4s - loss: 0.2489 - accuracy: 0.90 - ETA: 4s - loss: 0.2489 - accuracy: 0.90 - ETA: 4s - loss: 0.2489 - accuracy: 0.90 - ETA: 4s - loss: 0.2489 - accuracy: 0.90 - ETA: 4s - loss: 0.2488 - accuracy: 0.90 - ETA: 4s - loss: 0.2488 - accuracy: 0.90 - ETA: 4s - loss: 0.2487 - accuracy: 0.90 - ETA: 4s - loss: 0.2486 - accuracy: 0.90 - ETA: 4s - loss: 0.2486 - accuracy: 0.90 - ETA: 4s - loss: 0.2485 - accuracy: 0.90 - ETA: 4s - loss: 0.2485 - accuracy: 0.90 - ETA: 4s - loss: 0.2484 - accuracy: 0.90 - ETA: 4s - loss: 0.2484 - accuracy: 0.90 - ETA: 4s - loss: 0.2483 - accuracy: 0.90 - ETA: 4s - loss: 0.2482 - accuracy: 0.90 - ETA: 4s - loss: 0.2481 - accuracy: 0.90 - ETA: 3s - loss: 0.2481 - accuracy: 0.90 - ETA: 3s - loss: 0.2480 - accuracy: 0.90 - ETA: 3s - loss: 0.2480 - accuracy: 0.90 - ETA: 3s - loss: 0.2479 - accuracy: 0.90 - ETA: 3s - loss: 0.2479 - accuracy: 0.90 - ETA: 3s - loss: 0.2479 - accuracy: 0.90 - ETA: 3s - loss: 0.2478 - accuracy: 0.90 - ETA: 3s - loss: 0.2478 - accuracy: 0.90 - ETA: 3s - loss: 0.2478 - accuracy: 0.90 - ETA: 3s - loss: 0.2477 - accuracy: 0.90 - ETA: 3s - loss: 0.2477 - accuracy: 0.90 - ETA: 3s - loss: 0.2476 - accuracy: 0.90 - ETA: 3s - loss: 0.2476 - accuracy: 0.90 - ETA: 3s - loss: 0.2475 - accuracy: 0.90 - ETA: 3s - loss: 0.2475 - accuracy: 0.90 - ETA: 3s - loss: 0.2474 - accuracy: 0.90 - ETA: 3s - loss: 0.2474 - accuracy: 0.90 - ETA: 3s - loss: 0.2473 - accuracy: 0.90 - ETA: 3s - loss: 0.2473 - accuracy: 0.90 - ETA: 3s - loss: 0.2473 - accuracy: 0.90 - ETA: 3s - loss: 0.2473 - accuracy: 0.90 - ETA: 2s - loss: 0.2473 - accuracy: 0.90 - ETA: 2s - loss: 0.2474 - accuracy: 0.90 - ETA: 2s - loss: 0.2474 - accuracy: 0.90 - ETA: 2s - loss: 0.2474 - accuracy: 0.90 - ETA: 2s - loss: 0.2474 - accuracy: 0.90 - ETA: 2s - loss: 0.2474 - accuracy: 0.90 - ETA: 2s - loss: 0.2474 - accuracy: 0.90 - ETA: 2s - loss: 0.2474 - accuracy: 0.90 - ETA: 2s - loss: 0.2474 - accuracy: 0.90 - ETA: 2s - loss: 0.2474 - accuracy: 0.90 - ETA: 2s - loss: 0.2474 - accuracy: 0.90 - ETA: 2s - loss: 0.2474 - accuracy: 0.90 - ETA: 2s - loss: 0.2474 - accuracy: 0.90 - ETA: 2s - loss: 0.2474 - accuracy: 0.90 - ETA: 2s - loss: 0.2474 - accuracy: 0.90 - ETA: 2s - loss: 0.2475 - accuracy: 0.90 - ETA: 2s - loss: 0.2475 - accuracy: 0.90 - ETA: 2s - loss: 0.2475 - accuracy: 0.90 - ETA: 2s - loss: 0.2475 - accuracy: 0.90 - ETA: 2s - loss: 0.2475 - accuracy: 0.90 - ETA: 1s - loss: 0.2475 - accuracy: 0.90 - ETA: 1s - loss: 0.2475 - accuracy: 0.90 - ETA: 1s - loss: 0.2475 - accuracy: 0.90 - ETA: 1s - loss: 0.2474 - accuracy: 0.90 - ETA: 1s - loss: 0.2474 - accuracy: 0.90 - ETA: 1s - loss: 0.2474 - accuracy: 0.90 - ETA: 1s - loss: 0.2474 - accuracy: 0.90 - ETA: 1s - loss: 0.2474 - accuracy: 0.90 - ETA: 1s - loss: 0.2474 - accuracy: 0.90 - ETA: 1s - loss: 0.2474 - accuracy: 0.90 - ETA: 1s - loss: 0.2474 - accuracy: 0.90 - ETA: 1s - loss: 0.2474 - accuracy: 0.90 - ETA: 1s - loss: 0.2474 - accuracy: 0.90 - ETA: 1s - loss: 0.2474 - accuracy: 0.90 - ETA: 1s - loss: 0.2474 - accuracy: 0.90 - ETA: 1s - loss: 0.2474 - accuracy: 0.90 - ETA: 1s - loss: 0.2474 - accuracy: 0.90 - ETA: 1s - loss: 0.2474 - accuracy: 0.90 - ETA: 1s - loss: 0.2474 - accuracy: 0.90 - ETA: 1s - loss: 0.2473 - accuracy: 0.90 - ETA: 1s - loss: 0.2473 - accuracy: 0.90 - ETA: 0s - loss: 0.2473 - accuracy: 0.90 - ETA: 0s - loss: 0.2473 - accuracy: 0.90 - ETA: 0s - loss: 0.2473 - accuracy: 0.90 - ETA: 0s - loss: 0.2473 - accuracy: 0.90 - ETA: 0s - loss: 0.2473 - accuracy: 0.90 - ETA: 0s - loss: 0.2473 - accuracy: 0.90 - ETA: 0s - loss: 0.2473 - accuracy: 0.90 - ETA: 0s - loss: 0.2473 - accuracy: 0.90 - ETA: 0s - loss: 0.2473 - accuracy: 0.90 - ETA: 0s - loss: 0.2473 - accuracy: 0.90 - ETA: 0s - loss: 0.2473 - accuracy: 0.90 - ETA: 0s - loss: 0.2473 - accuracy: 0.90 - ETA: 0s - loss: 0.2472 - accuracy: 0.90 - ETA: 0s - loss: 0.2472 - accuracy: 0.90 - ETA: 0s - loss: 0.2472 - accuracy: 0.90 - ETA: 0s - loss: 0.2472 - accuracy: 0.90 - ETA: 0s - loss: 0.2472 - accuracy: 0.90 - ETA: 0s - loss: 0.2472 - accuracy: 0.90 - ETA: 0s - loss: 0.2472 - accuracy: 0.90 - 8s 12ms/step - loss: 0.2472 - accuracy: 0.9068 - val_loss: 0.3068 - val_accuracy: 0.8914\n",
      "Epoch 11/100\n"
     ]
    },
    {
     "name": "stdout",
     "output_type": "stream",
     "text": [
      "657/657 [==============================] - ETA: 23s - loss: 0.2289 - accuracy: 0.906 - ETA: 7s - loss: 0.2191 - accuracy: 0.909 - ETA: 6s - loss: 0.2297 - accuracy: 0.91 - ETA: 6s - loss: 0.2319 - accuracy: 0.91 - ETA: 6s - loss: 0.2323 - accuracy: 0.91 - ETA: 6s - loss: 0.2329 - accuracy: 0.91 - ETA: 6s - loss: 0.2332 - accuracy: 0.91 - ETA: 6s - loss: 0.2324 - accuracy: 0.91 - ETA: 6s - loss: 0.2319 - accuracy: 0.91 - ETA: 6s - loss: 0.2314 - accuracy: 0.91 - ETA: 6s - loss: 0.2307 - accuracy: 0.91 - ETA: 6s - loss: 0.2295 - accuracy: 0.91 - ETA: 6s - loss: 0.2290 - accuracy: 0.91 - ETA: 6s - loss: 0.2286 - accuracy: 0.91 - ETA: 6s - loss: 0.2286 - accuracy: 0.91 - ETA: 6s - loss: 0.2289 - accuracy: 0.91 - ETA: 6s - loss: 0.2292 - accuracy: 0.91 - ETA: 5s - loss: 0.2295 - accuracy: 0.91 - ETA: 5s - loss: 0.2296 - accuracy: 0.91 - ETA: 5s - loss: 0.2298 - accuracy: 0.91 - ETA: 5s - loss: 0.2300 - accuracy: 0.91 - ETA: 5s - loss: 0.2302 - accuracy: 0.91 - ETA: 5s - loss: 0.2303 - accuracy: 0.91 - ETA: 5s - loss: 0.2304 - accuracy: 0.91 - ETA: 5s - loss: 0.2305 - accuracy: 0.91 - ETA: 5s - loss: 0.2306 - accuracy: 0.91 - ETA: 5s - loss: 0.2306 - accuracy: 0.91 - ETA: 5s - loss: 0.2306 - accuracy: 0.91 - ETA: 5s - loss: 0.2306 - accuracy: 0.91 - ETA: 5s - loss: 0.2307 - accuracy: 0.91 - ETA: 5s - loss: 0.2307 - accuracy: 0.91 - ETA: 5s - loss: 0.2308 - accuracy: 0.91 - ETA: 5s - loss: 0.2309 - accuracy: 0.91 - ETA: 5s - loss: 0.2309 - accuracy: 0.91 - ETA: 5s - loss: 0.2309 - accuracy: 0.91 - ETA: 5s - loss: 0.2310 - accuracy: 0.91 - ETA: 5s - loss: 0.2311 - accuracy: 0.91 - ETA: 5s - loss: 0.2311 - accuracy: 0.91 - ETA: 4s - loss: 0.2312 - accuracy: 0.91 - ETA: 4s - loss: 0.2313 - accuracy: 0.91 - ETA: 4s - loss: 0.2314 - accuracy: 0.91 - ETA: 4s - loss: 0.2315 - accuracy: 0.91 - ETA: 4s - loss: 0.2316 - accuracy: 0.91 - ETA: 4s - loss: 0.2316 - accuracy: 0.91 - ETA: 4s - loss: 0.2317 - accuracy: 0.91 - ETA: 4s - loss: 0.2318 - accuracy: 0.91 - ETA: 4s - loss: 0.2318 - accuracy: 0.91 - ETA: 4s - loss: 0.2319 - accuracy: 0.91 - ETA: 4s - loss: 0.2319 - accuracy: 0.91 - ETA: 4s - loss: 0.2319 - accuracy: 0.91 - ETA: 4s - loss: 0.2319 - accuracy: 0.91 - ETA: 4s - loss: 0.2320 - accuracy: 0.91 - ETA: 4s - loss: 0.2320 - accuracy: 0.91 - ETA: 4s - loss: 0.2320 - accuracy: 0.91 - ETA: 4s - loss: 0.2320 - accuracy: 0.91 - ETA: 4s - loss: 0.2320 - accuracy: 0.91 - ETA: 4s - loss: 0.2321 - accuracy: 0.91 - ETA: 4s - loss: 0.2321 - accuracy: 0.91 - ETA: 3s - loss: 0.2321 - accuracy: 0.91 - ETA: 3s - loss: 0.2322 - accuracy: 0.91 - ETA: 3s - loss: 0.2322 - accuracy: 0.91 - ETA: 3s - loss: 0.2322 - accuracy: 0.91 - ETA: 3s - loss: 0.2323 - accuracy: 0.91 - ETA: 3s - loss: 0.2323 - accuracy: 0.91 - ETA: 3s - loss: 0.2323 - accuracy: 0.91 - ETA: 3s - loss: 0.2324 - accuracy: 0.91 - ETA: 3s - loss: 0.2324 - accuracy: 0.91 - ETA: 3s - loss: 0.2324 - accuracy: 0.91 - ETA: 3s - loss: 0.2324 - accuracy: 0.91 - ETA: 3s - loss: 0.2324 - accuracy: 0.91 - ETA: 3s - loss: 0.2324 - accuracy: 0.91 - ETA: 3s - loss: 0.2324 - accuracy: 0.91 - ETA: 3s - loss: 0.2324 - accuracy: 0.91 - ETA: 3s - loss: 0.2324 - accuracy: 0.91 - ETA: 3s - loss: 0.2324 - accuracy: 0.91 - ETA: 3s - loss: 0.2324 - accuracy: 0.91 - ETA: 2s - loss: 0.2324 - accuracy: 0.91 - ETA: 2s - loss: 0.2324 - accuracy: 0.91 - ETA: 2s - loss: 0.2324 - accuracy: 0.91 - ETA: 2s - loss: 0.2324 - accuracy: 0.91 - ETA: 2s - loss: 0.2324 - accuracy: 0.91 - ETA: 2s - loss: 0.2325 - accuracy: 0.91 - ETA: 2s - loss: 0.2325 - accuracy: 0.91 - ETA: 2s - loss: 0.2325 - accuracy: 0.91 - ETA: 2s - loss: 0.2325 - accuracy: 0.91 - ETA: 2s - loss: 0.2325 - accuracy: 0.91 - ETA: 2s - loss: 0.2326 - accuracy: 0.91 - ETA: 2s - loss: 0.2326 - accuracy: 0.91 - ETA: 2s - loss: 0.2326 - accuracy: 0.91 - ETA: 2s - loss: 0.2326 - accuracy: 0.91 - ETA: 2s - loss: 0.2326 - accuracy: 0.91 - ETA: 2s - loss: 0.2326 - accuracy: 0.91 - ETA: 2s - loss: 0.2326 - accuracy: 0.91 - ETA: 1s - loss: 0.2327 - accuracy: 0.91 - ETA: 1s - loss: 0.2327 - accuracy: 0.91 - ETA: 1s - loss: 0.2327 - accuracy: 0.91 - ETA: 1s - loss: 0.2327 - accuracy: 0.91 - ETA: 1s - loss: 0.2327 - accuracy: 0.91 - ETA: 1s - loss: 0.2327 - accuracy: 0.91 - ETA: 1s - loss: 0.2327 - accuracy: 0.91 - ETA: 1s - loss: 0.2327 - accuracy: 0.91 - ETA: 1s - loss: 0.2327 - accuracy: 0.91 - ETA: 1s - loss: 0.2326 - accuracy: 0.91 - ETA: 1s - loss: 0.2326 - accuracy: 0.91 - ETA: 1s - loss: 0.2326 - accuracy: 0.91 - ETA: 1s - loss: 0.2326 - accuracy: 0.91 - ETA: 1s - loss: 0.2326 - accuracy: 0.91 - ETA: 1s - loss: 0.2326 - accuracy: 0.91 - ETA: 1s - loss: 0.2326 - accuracy: 0.91 - ETA: 1s - loss: 0.2326 - accuracy: 0.91 - ETA: 1s - loss: 0.2326 - accuracy: 0.91 - ETA: 0s - loss: 0.2326 - accuracy: 0.91 - ETA: 0s - loss: 0.2326 - accuracy: 0.91 - ETA: 0s - loss: 0.2326 - accuracy: 0.91 - ETA: 0s - loss: 0.2325 - accuracy: 0.91 - ETA: 0s - loss: 0.2325 - accuracy: 0.91 - ETA: 0s - loss: 0.2325 - accuracy: 0.91 - ETA: 0s - loss: 0.2325 - accuracy: 0.91 - ETA: 0s - loss: 0.2325 - accuracy: 0.91 - ETA: 0s - loss: 0.2325 - accuracy: 0.91 - ETA: 0s - loss: 0.2325 - accuracy: 0.91 - ETA: 0s - loss: 0.2325 - accuracy: 0.91 - ETA: 0s - loss: 0.2325 - accuracy: 0.91 - ETA: 0s - loss: 0.2325 - accuracy: 0.91 - ETA: 0s - loss: 0.2325 - accuracy: 0.91 - ETA: 0s - loss: 0.2325 - accuracy: 0.91 - ETA: 0s - loss: 0.2325 - accuracy: 0.91 - ETA: 0s - loss: 0.2325 - accuracy: 0.91 - ETA: 0s - loss: 0.2325 - accuracy: 0.91 - ETA: 0s - loss: 0.2325 - accuracy: 0.91 - 8s 12ms/step - loss: 0.2325 - accuracy: 0.9149 - val_loss: 0.3142 - val_accuracy: 0.8899\n",
      "Epoch 12/100\n"
     ]
    },
    {
     "name": "stdout",
     "output_type": "stream",
     "text": [
      "657/657 [==============================] - ETA: 19s - loss: 0.2139 - accuracy: 0.890 - ETA: 6s - loss: 0.2275 - accuracy: 0.906 - ETA: 6s - loss: 0.2255 - accuracy: 0.90 - ETA: 6s - loss: 0.2196 - accuracy: 0.91 - ETA: 6s - loss: 0.2162 - accuracy: 0.91 - ETA: 6s - loss: 0.2160 - accuracy: 0.91 - ETA: 6s - loss: 0.2163 - accuracy: 0.91 - ETA: 6s - loss: 0.2164 - accuracy: 0.91 - ETA: 6s - loss: 0.2169 - accuracy: 0.91 - ETA: 6s - loss: 0.2179 - accuracy: 0.91 - ETA: 6s - loss: 0.2185 - accuracy: 0.91 - ETA: 6s - loss: 0.2189 - accuracy: 0.91 - ETA: 6s - loss: 0.2191 - accuracy: 0.91 - ETA: 6s - loss: 0.2193 - accuracy: 0.91 - ETA: 5s - loss: 0.2192 - accuracy: 0.91 - ETA: 5s - loss: 0.2192 - accuracy: 0.91 - ETA: 5s - loss: 0.2192 - accuracy: 0.91 - ETA: 5s - loss: 0.2193 - accuracy: 0.91 - ETA: 5s - loss: 0.2193 - accuracy: 0.91 - ETA: 5s - loss: 0.2193 - accuracy: 0.91 - ETA: 5s - loss: 0.2193 - accuracy: 0.91 - ETA: 5s - loss: 0.2194 - accuracy: 0.91 - ETA: 5s - loss: 0.2195 - accuracy: 0.91 - ETA: 5s - loss: 0.2195 - accuracy: 0.91 - ETA: 5s - loss: 0.2195 - accuracy: 0.91 - ETA: 5s - loss: 0.2195 - accuracy: 0.91 - ETA: 5s - loss: 0.2194 - accuracy: 0.91 - ETA: 5s - loss: 0.2193 - accuracy: 0.91 - ETA: 5s - loss: 0.2193 - accuracy: 0.91 - ETA: 5s - loss: 0.2193 - accuracy: 0.91 - ETA: 5s - loss: 0.2193 - accuracy: 0.91 - ETA: 5s - loss: 0.2194 - accuracy: 0.91 - ETA: 5s - loss: 0.2195 - accuracy: 0.91 - ETA: 5s - loss: 0.2197 - accuracy: 0.91 - ETA: 5s - loss: 0.2198 - accuracy: 0.91 - ETA: 5s - loss: 0.2199 - accuracy: 0.91 - ETA: 5s - loss: 0.2200 - accuracy: 0.91 - ETA: 4s - loss: 0.2201 - accuracy: 0.91 - ETA: 4s - loss: 0.2202 - accuracy: 0.91 - ETA: 4s - loss: 0.2204 - accuracy: 0.91 - ETA: 4s - loss: 0.2206 - accuracy: 0.91 - ETA: 4s - loss: 0.2208 - accuracy: 0.91 - ETA: 4s - loss: 0.2209 - accuracy: 0.91 - ETA: 4s - loss: 0.2211 - accuracy: 0.91 - ETA: 4s - loss: 0.2212 - accuracy: 0.91 - ETA: 4s - loss: 0.2214 - accuracy: 0.91 - ETA: 4s - loss: 0.2215 - accuracy: 0.91 - ETA: 4s - loss: 0.2217 - accuracy: 0.91 - ETA: 4s - loss: 0.2218 - accuracy: 0.91 - ETA: 4s - loss: 0.2219 - accuracy: 0.91 - ETA: 4s - loss: 0.2221 - accuracy: 0.91 - ETA: 4s - loss: 0.2222 - accuracy: 0.91 - ETA: 4s - loss: 0.2224 - accuracy: 0.91 - ETA: 4s - loss: 0.2225 - accuracy: 0.91 - ETA: 4s - loss: 0.2226 - accuracy: 0.91 - ETA: 4s - loss: 0.2227 - accuracy: 0.91 - ETA: 4s - loss: 0.2228 - accuracy: 0.91 - ETA: 3s - loss: 0.2229 - accuracy: 0.91 - ETA: 3s - loss: 0.2230 - accuracy: 0.91 - ETA: 3s - loss: 0.2231 - accuracy: 0.91 - ETA: 3s - loss: 0.2232 - accuracy: 0.91 - ETA: 3s - loss: 0.2233 - accuracy: 0.91 - ETA: 3s - loss: 0.2234 - accuracy: 0.91 - ETA: 3s - loss: 0.2235 - accuracy: 0.91 - ETA: 3s - loss: 0.2236 - accuracy: 0.91 - ETA: 3s - loss: 0.2237 - accuracy: 0.91 - ETA: 3s - loss: 0.2238 - accuracy: 0.91 - ETA: 3s - loss: 0.2240 - accuracy: 0.91 - ETA: 3s - loss: 0.2241 - accuracy: 0.91 - ETA: 3s - loss: 0.2242 - accuracy: 0.91 - ETA: 3s - loss: 0.2243 - accuracy: 0.91 - ETA: 3s - loss: 0.2244 - accuracy: 0.91 - ETA: 3s - loss: 0.2245 - accuracy: 0.91 - ETA: 3s - loss: 0.2246 - accuracy: 0.91 - ETA: 3s - loss: 0.2248 - accuracy: 0.91 - ETA: 2s - loss: 0.2249 - accuracy: 0.91 - ETA: 2s - loss: 0.2250 - accuracy: 0.91 - ETA: 2s - loss: 0.2251 - accuracy: 0.91 - ETA: 2s - loss: 0.2252 - accuracy: 0.91 - ETA: 2s - loss: 0.2253 - accuracy: 0.91 - ETA: 2s - loss: 0.2254 - accuracy: 0.91 - ETA: 2s - loss: 0.2255 - accuracy: 0.91 - ETA: 2s - loss: 0.2256 - accuracy: 0.91 - ETA: 2s - loss: 0.2257 - accuracy: 0.91 - ETA: 2s - loss: 0.2257 - accuracy: 0.91 - ETA: 2s - loss: 0.2258 - accuracy: 0.91 - ETA: 2s - loss: 0.2259 - accuracy: 0.91 - ETA: 2s - loss: 0.2260 - accuracy: 0.91 - ETA: 2s - loss: 0.2260 - accuracy: 0.91 - ETA: 2s - loss: 0.2261 - accuracy: 0.91 - ETA: 2s - loss: 0.2261 - accuracy: 0.91 - ETA: 2s - loss: 0.2262 - accuracy: 0.91 - ETA: 2s - loss: 0.2262 - accuracy: 0.91 - ETA: 2s - loss: 0.2262 - accuracy: 0.91 - ETA: 1s - loss: 0.2263 - accuracy: 0.91 - ETA: 1s - loss: 0.2264 - accuracy: 0.91 - ETA: 1s - loss: 0.2264 - accuracy: 0.91 - ETA: 1s - loss: 0.2264 - accuracy: 0.91 - ETA: 1s - loss: 0.2265 - accuracy: 0.91 - ETA: 1s - loss: 0.2265 - accuracy: 0.91 - ETA: 1s - loss: 0.2265 - accuracy: 0.91 - ETA: 1s - loss: 0.2265 - accuracy: 0.91 - ETA: 1s - loss: 0.2265 - accuracy: 0.91 - ETA: 1s - loss: 0.2266 - accuracy: 0.91 - ETA: 1s - loss: 0.2266 - accuracy: 0.91 - ETA: 1s - loss: 0.2266 - accuracy: 0.91 - ETA: 1s - loss: 0.2267 - accuracy: 0.91 - ETA: 1s - loss: 0.2267 - accuracy: 0.91 - ETA: 1s - loss: 0.2267 - accuracy: 0.91 - ETA: 1s - loss: 0.2267 - accuracy: 0.91 - ETA: 1s - loss: 0.2268 - accuracy: 0.91 - ETA: 1s - loss: 0.2268 - accuracy: 0.91 - ETA: 1s - loss: 0.2268 - accuracy: 0.91 - ETA: 0s - loss: 0.2269 - accuracy: 0.91 - ETA: 0s - loss: 0.2269 - accuracy: 0.91 - ETA: 0s - loss: 0.2270 - accuracy: 0.91 - ETA: 0s - loss: 0.2270 - accuracy: 0.91 - ETA: 0s - loss: 0.2270 - accuracy: 0.91 - ETA: 0s - loss: 0.2271 - accuracy: 0.91 - ETA: 0s - loss: 0.2271 - accuracy: 0.91 - ETA: 0s - loss: 0.2271 - accuracy: 0.91 - ETA: 0s - loss: 0.2272 - accuracy: 0.91 - ETA: 0s - loss: 0.2272 - accuracy: 0.91 - ETA: 0s - loss: 0.2272 - accuracy: 0.91 - ETA: 0s - loss: 0.2273 - accuracy: 0.91 - ETA: 0s - loss: 0.2273 - accuracy: 0.91 - ETA: 0s - loss: 0.2273 - accuracy: 0.91 - ETA: 0s - loss: 0.2274 - accuracy: 0.91 - ETA: 0s - loss: 0.2274 - accuracy: 0.91 - ETA: 0s - loss: 0.2274 - accuracy: 0.91 - ETA: 0s - loss: 0.2275 - accuracy: 0.91 - ETA: 0s - loss: 0.2275 - accuracy: 0.91 - 8s 12ms/step - loss: 0.2275 - accuracy: 0.9138 - val_loss: 0.3305 - val_accuracy: 0.8876\n",
      "Epoch 13/100\n"
     ]
    },
    {
     "name": "stdout",
     "output_type": "stream",
     "text": [
      "657/657 [==============================] - ETA: 22s - loss: 0.2747 - accuracy: 0.890 - ETA: 6s - loss: 0.2322 - accuracy: 0.910 - ETA: 6s - loss: 0.2334 - accuracy: 0.91 - ETA: 6s - loss: 0.2352 - accuracy: 0.91 - ETA: 6s - loss: 0.2326 - accuracy: 0.91 - ETA: 6s - loss: 0.2306 - accuracy: 0.91 - ETA: 6s - loss: 0.2284 - accuracy: 0.91 - ETA: 6s - loss: 0.2271 - accuracy: 0.91 - ETA: 6s - loss: 0.2257 - accuracy: 0.91 - ETA: 6s - loss: 0.2249 - accuracy: 0.91 - ETA: 6s - loss: 0.2242 - accuracy: 0.91 - ETA: 6s - loss: 0.2234 - accuracy: 0.91 - ETA: 6s - loss: 0.2227 - accuracy: 0.91 - ETA: 6s - loss: 0.2219 - accuracy: 0.91 - ETA: 6s - loss: 0.2212 - accuracy: 0.91 - ETA: 6s - loss: 0.2207 - accuracy: 0.91 - ETA: 6s - loss: 0.2204 - accuracy: 0.91 - ETA: 6s - loss: 0.2200 - accuracy: 0.91 - ETA: 6s - loss: 0.2198 - accuracy: 0.91 - ETA: 6s - loss: 0.2197 - accuracy: 0.91 - ETA: 6s - loss: 0.2196 - accuracy: 0.91 - ETA: 6s - loss: 0.2194 - accuracy: 0.91 - ETA: 6s - loss: 0.2192 - accuracy: 0.91 - ETA: 6s - loss: 0.2191 - accuracy: 0.91 - ETA: 6s - loss: 0.2189 - accuracy: 0.91 - ETA: 5s - loss: 0.2187 - accuracy: 0.91 - ETA: 5s - loss: 0.2185 - accuracy: 0.91 - ETA: 5s - loss: 0.2182 - accuracy: 0.91 - ETA: 5s - loss: 0.2180 - accuracy: 0.91 - ETA: 5s - loss: 0.2179 - accuracy: 0.91 - ETA: 5s - loss: 0.2177 - accuracy: 0.91 - ETA: 5s - loss: 0.2176 - accuracy: 0.91 - ETA: 5s - loss: 0.2175 - accuracy: 0.91 - ETA: 5s - loss: 0.2174 - accuracy: 0.91 - ETA: 5s - loss: 0.2175 - accuracy: 0.91 - ETA: 5s - loss: 0.2175 - accuracy: 0.91 - ETA: 5s - loss: 0.2176 - accuracy: 0.91 - ETA: 5s - loss: 0.2176 - accuracy: 0.91 - ETA: 5s - loss: 0.2177 - accuracy: 0.91 - ETA: 4s - loss: 0.2178 - accuracy: 0.91 - ETA: 4s - loss: 0.2178 - accuracy: 0.91 - ETA: 4s - loss: 0.2179 - accuracy: 0.91 - ETA: 4s - loss: 0.2180 - accuracy: 0.91 - ETA: 4s - loss: 0.2180 - accuracy: 0.91 - ETA: 4s - loss: 0.2181 - accuracy: 0.91 - ETA: 4s - loss: 0.2181 - accuracy: 0.91 - ETA: 4s - loss: 0.2182 - accuracy: 0.91 - ETA: 4s - loss: 0.2182 - accuracy: 0.91 - ETA: 4s - loss: 0.2183 - accuracy: 0.91 - ETA: 4s - loss: 0.2183 - accuracy: 0.91 - ETA: 4s - loss: 0.2184 - accuracy: 0.91 - ETA: 4s - loss: 0.2185 - accuracy: 0.91 - ETA: 4s - loss: 0.2185 - accuracy: 0.91 - ETA: 4s - loss: 0.2186 - accuracy: 0.91 - ETA: 4s - loss: 0.2186 - accuracy: 0.91 - ETA: 4s - loss: 0.2187 - accuracy: 0.91 - ETA: 4s - loss: 0.2187 - accuracy: 0.91 - ETA: 3s - loss: 0.2188 - accuracy: 0.91 - ETA: 3s - loss: 0.2188 - accuracy: 0.91 - ETA: 3s - loss: 0.2189 - accuracy: 0.91 - ETA: 3s - loss: 0.2190 - accuracy: 0.91 - ETA: 3s - loss: 0.2190 - accuracy: 0.91 - ETA: 3s - loss: 0.2190 - accuracy: 0.91 - ETA: 3s - loss: 0.2191 - accuracy: 0.91 - ETA: 3s - loss: 0.2191 - accuracy: 0.91 - ETA: 3s - loss: 0.2191 - accuracy: 0.91 - ETA: 3s - loss: 0.2192 - accuracy: 0.91 - ETA: 3s - loss: 0.2192 - accuracy: 0.91 - ETA: 3s - loss: 0.2192 - accuracy: 0.91 - ETA: 3s - loss: 0.2192 - accuracy: 0.91 - ETA: 3s - loss: 0.2192 - accuracy: 0.91 - ETA: 3s - loss: 0.2193 - accuracy: 0.91 - ETA: 3s - loss: 0.2193 - accuracy: 0.91 - ETA: 3s - loss: 0.2193 - accuracy: 0.91 - ETA: 3s - loss: 0.2193 - accuracy: 0.91 - ETA: 3s - loss: 0.2193 - accuracy: 0.91 - ETA: 2s - loss: 0.2193 - accuracy: 0.91 - ETA: 2s - loss: 0.2193 - accuracy: 0.91 - ETA: 2s - loss: 0.2193 - accuracy: 0.91 - ETA: 2s - loss: 0.2193 - accuracy: 0.91 - ETA: 2s - loss: 0.2193 - accuracy: 0.91 - ETA: 2s - loss: 0.2194 - accuracy: 0.91 - ETA: 2s - loss: 0.2194 - accuracy: 0.91 - ETA: 2s - loss: 0.2193 - accuracy: 0.91 - ETA: 2s - loss: 0.2193 - accuracy: 0.91 - ETA: 2s - loss: 0.2193 - accuracy: 0.91 - ETA: 2s - loss: 0.2193 - accuracy: 0.91 - ETA: 2s - loss: 0.2193 - accuracy: 0.91 - ETA: 2s - loss: 0.2193 - accuracy: 0.91 - ETA: 2s - loss: 0.2193 - accuracy: 0.91 - ETA: 2s - loss: 0.2193 - accuracy: 0.91 - ETA: 2s - loss: 0.2193 - accuracy: 0.91 - ETA: 2s - loss: 0.2193 - accuracy: 0.91 - ETA: 2s - loss: 0.2193 - accuracy: 0.91 - ETA: 1s - loss: 0.2193 - accuracy: 0.91 - ETA: 1s - loss: 0.2193 - accuracy: 0.91 - ETA: 1s - loss: 0.2193 - accuracy: 0.91 - ETA: 1s - loss: 0.2193 - accuracy: 0.91 - ETA: 1s - loss: 0.2193 - accuracy: 0.91 - ETA: 1s - loss: 0.2193 - accuracy: 0.91 - ETA: 1s - loss: 0.2193 - accuracy: 0.91 - ETA: 1s - loss: 0.2193 - accuracy: 0.91 - ETA: 1s - loss: 0.2193 - accuracy: 0.91 - ETA: 1s - loss: 0.2193 - accuracy: 0.91 - ETA: 1s - loss: 0.2193 - accuracy: 0.91 - ETA: 1s - loss: 0.2193 - accuracy: 0.91 - ETA: 1s - loss: 0.2192 - accuracy: 0.91 - ETA: 1s - loss: 0.2192 - accuracy: 0.91 - ETA: 1s - loss: 0.2192 - accuracy: 0.91 - ETA: 1s - loss: 0.2192 - accuracy: 0.91 - ETA: 1s - loss: 0.2192 - accuracy: 0.91 - ETA: 1s - loss: 0.2192 - accuracy: 0.91 - ETA: 0s - loss: 0.2193 - accuracy: 0.91 - ETA: 0s - loss: 0.2193 - accuracy: 0.91 - ETA: 0s - loss: 0.2193 - accuracy: 0.91 - ETA: 0s - loss: 0.2193 - accuracy: 0.91 - ETA: 0s - loss: 0.2193 - accuracy: 0.91 - ETA: 0s - loss: 0.2193 - accuracy: 0.91 - ETA: 0s - loss: 0.2193 - accuracy: 0.91 - ETA: 0s - loss: 0.2193 - accuracy: 0.91 - ETA: 0s - loss: 0.2194 - accuracy: 0.91 - ETA: 0s - loss: 0.2194 - accuracy: 0.91 - ETA: 0s - loss: 0.2194 - accuracy: 0.91 - ETA: 0s - loss: 0.2194 - accuracy: 0.91 - ETA: 0s - loss: 0.2194 - accuracy: 0.91 - ETA: 0s - loss: 0.2194 - accuracy: 0.91 - ETA: 0s - loss: 0.2194 - accuracy: 0.91 - ETA: 0s - loss: 0.2194 - accuracy: 0.91 - ETA: 0s - loss: 0.2194 - accuracy: 0.91 - ETA: 0s - loss: 0.2194 - accuracy: 0.91 - ETA: 0s - loss: 0.2194 - accuracy: 0.91 - 8s 12ms/step - loss: 0.2194 - accuracy: 0.9172 - val_loss: 0.2987 - val_accuracy: 0.8954\n",
      "Epoch 14/100\n"
     ]
    },
    {
     "name": "stdout",
     "output_type": "stream",
     "text": [
      "657/657 [==============================] - ETA: 15s - loss: 0.2252 - accuracy: 0.921 - ETA: 5s - loss: 0.2229 - accuracy: 0.932 - ETA: 6s - loss: 0.2341 - accuracy: 0.92 - ETA: 5s - loss: 0.2385 - accuracy: 0.91 - ETA: 5s - loss: 0.2417 - accuracy: 0.91 - ETA: 5s - loss: 0.2442 - accuracy: 0.91 - ETA: 5s - loss: 0.2466 - accuracy: 0.91 - ETA: 5s - loss: 0.2478 - accuracy: 0.91 - ETA: 5s - loss: 0.2478 - accuracy: 0.91 - ETA: 5s - loss: 0.2473 - accuracy: 0.91 - ETA: 5s - loss: 0.2465 - accuracy: 0.91 - ETA: 5s - loss: 0.2456 - accuracy: 0.91 - ETA: 5s - loss: 0.2446 - accuracy: 0.91 - ETA: 5s - loss: 0.2434 - accuracy: 0.91 - ETA: 5s - loss: 0.2425 - accuracy: 0.91 - ETA: 5s - loss: 0.2414 - accuracy: 0.91 - ETA: 5s - loss: 0.2403 - accuracy: 0.91 - ETA: 5s - loss: 0.2392 - accuracy: 0.91 - ETA: 5s - loss: 0.2385 - accuracy: 0.91 - ETA: 5s - loss: 0.2380 - accuracy: 0.91 - ETA: 5s - loss: 0.2376 - accuracy: 0.91 - ETA: 5s - loss: 0.2371 - accuracy: 0.91 - ETA: 5s - loss: 0.2366 - accuracy: 0.91 - ETA: 5s - loss: 0.2361 - accuracy: 0.91 - ETA: 5s - loss: 0.2356 - accuracy: 0.91 - ETA: 5s - loss: 0.2352 - accuracy: 0.91 - ETA: 5s - loss: 0.2347 - accuracy: 0.91 - ETA: 5s - loss: 0.2343 - accuracy: 0.91 - ETA: 4s - loss: 0.2339 - accuracy: 0.91 - ETA: 4s - loss: 0.2335 - accuracy: 0.91 - ETA: 4s - loss: 0.2332 - accuracy: 0.91 - ETA: 4s - loss: 0.2329 - accuracy: 0.91 - ETA: 4s - loss: 0.2326 - accuracy: 0.91 - ETA: 4s - loss: 0.2323 - accuracy: 0.91 - ETA: 4s - loss: 0.2320 - accuracy: 0.91 - ETA: 4s - loss: 0.2317 - accuracy: 0.91 - ETA: 4s - loss: 0.2315 - accuracy: 0.91 - ETA: 4s - loss: 0.2312 - accuracy: 0.91 - ETA: 4s - loss: 0.2310 - accuracy: 0.91 - ETA: 4s - loss: 0.2309 - accuracy: 0.91 - ETA: 4s - loss: 0.2307 - accuracy: 0.91 - ETA: 4s - loss: 0.2305 - accuracy: 0.91 - ETA: 4s - loss: 0.2303 - accuracy: 0.91 - ETA: 4s - loss: 0.2301 - accuracy: 0.91 - ETA: 4s - loss: 0.2299 - accuracy: 0.91 - ETA: 4s - loss: 0.2297 - accuracy: 0.91 - ETA: 3s - loss: 0.2295 - accuracy: 0.91 - ETA: 3s - loss: 0.2293 - accuracy: 0.91 - ETA: 3s - loss: 0.2291 - accuracy: 0.91 - ETA: 3s - loss: 0.2289 - accuracy: 0.91 - ETA: 3s - loss: 0.2287 - accuracy: 0.91 - ETA: 3s - loss: 0.2285 - accuracy: 0.91 - ETA: 3s - loss: 0.2283 - accuracy: 0.91 - ETA: 3s - loss: 0.2282 - accuracy: 0.91 - ETA: 3s - loss: 0.2280 - accuracy: 0.91 - ETA: 3s - loss: 0.2278 - accuracy: 0.91 - ETA: 3s - loss: 0.2276 - accuracy: 0.91 - ETA: 3s - loss: 0.2274 - accuracy: 0.91 - ETA: 3s - loss: 0.2272 - accuracy: 0.91 - ETA: 3s - loss: 0.2270 - accuracy: 0.91 - ETA: 3s - loss: 0.2268 - accuracy: 0.91 - ETA: 3s - loss: 0.2267 - accuracy: 0.91 - ETA: 3s - loss: 0.2265 - accuracy: 0.91 - ETA: 3s - loss: 0.2264 - accuracy: 0.91 - ETA: 3s - loss: 0.2263 - accuracy: 0.91 - ETA: 3s - loss: 0.2261 - accuracy: 0.91 - ETA: 2s - loss: 0.2260 - accuracy: 0.91 - ETA: 2s - loss: 0.2259 - accuracy: 0.91 - ETA: 2s - loss: 0.2258 - accuracy: 0.91 - ETA: 2s - loss: 0.2258 - accuracy: 0.91 - ETA: 2s - loss: 0.2257 - accuracy: 0.91 - ETA: 2s - loss: 0.2256 - accuracy: 0.91 - ETA: 2s - loss: 0.2255 - accuracy: 0.91 - ETA: 2s - loss: 0.2254 - accuracy: 0.91 - ETA: 2s - loss: 0.2253 - accuracy: 0.91 - ETA: 2s - loss: 0.2252 - accuracy: 0.91 - ETA: 2s - loss: 0.2251 - accuracy: 0.91 - ETA: 2s - loss: 0.2250 - accuracy: 0.91 - ETA: 2s - loss: 0.2249 - accuracy: 0.91 - ETA: 2s - loss: 0.2248 - accuracy: 0.91 - ETA: 2s - loss: 0.2247 - accuracy: 0.91 - ETA: 2s - loss: 0.2246 - accuracy: 0.91 - ETA: 2s - loss: 0.2245 - accuracy: 0.91 - ETA: 2s - loss: 0.2244 - accuracy: 0.91 - ETA: 2s - loss: 0.2243 - accuracy: 0.91 - ETA: 1s - loss: 0.2243 - accuracy: 0.91 - ETA: 1s - loss: 0.2242 - accuracy: 0.91 - ETA: 1s - loss: 0.2241 - accuracy: 0.91 - ETA: 1s - loss: 0.2240 - accuracy: 0.91 - ETA: 1s - loss: 0.2239 - accuracy: 0.91 - ETA: 1s - loss: 0.2239 - accuracy: 0.91 - ETA: 1s - loss: 0.2238 - accuracy: 0.91 - ETA: 1s - loss: 0.2237 - accuracy: 0.91 - ETA: 1s - loss: 0.2237 - accuracy: 0.91 - ETA: 1s - loss: 0.2236 - accuracy: 0.91 - ETA: 1s - loss: 0.2235 - accuracy: 0.91 - ETA: 1s - loss: 0.2235 - accuracy: 0.91 - ETA: 1s - loss: 0.2234 - accuracy: 0.91 - ETA: 1s - loss: 0.2233 - accuracy: 0.91 - ETA: 1s - loss: 0.2233 - accuracy: 0.91 - ETA: 1s - loss: 0.2232 - accuracy: 0.91 - ETA: 1s - loss: 0.2231 - accuracy: 0.91 - ETA: 1s - loss: 0.2230 - accuracy: 0.91 - ETA: 0s - loss: 0.2229 - accuracy: 0.91 - ETA: 0s - loss: 0.2229 - accuracy: 0.91 - ETA: 0s - loss: 0.2229 - accuracy: 0.91 - ETA: 0s - loss: 0.2228 - accuracy: 0.91 - ETA: 0s - loss: 0.2227 - accuracy: 0.91 - ETA: 0s - loss: 0.2226 - accuracy: 0.91 - ETA: 0s - loss: 0.2226 - accuracy: 0.91 - ETA: 0s - loss: 0.2225 - accuracy: 0.91 - ETA: 0s - loss: 0.2224 - accuracy: 0.91 - ETA: 0s - loss: 0.2224 - accuracy: 0.91 - ETA: 0s - loss: 0.2223 - accuracy: 0.91 - ETA: 0s - loss: 0.2222 - accuracy: 0.91 - ETA: 0s - loss: 0.2222 - accuracy: 0.91 - ETA: 0s - loss: 0.2221 - accuracy: 0.91 - ETA: 0s - loss: 0.2220 - accuracy: 0.91 - ETA: 0s - loss: 0.2219 - accuracy: 0.91 - ETA: 0s - loss: 0.2219 - accuracy: 0.91 - ETA: 0s - loss: 0.2218 - accuracy: 0.91 - ETA: 0s - loss: 0.2218 - accuracy: 0.91 - ETA: 0s - loss: 0.2217 - accuracy: 0.91 - 8s 12ms/step - loss: 0.2217 - accuracy: 0.9187 - val_loss: 0.3219 - val_accuracy: 0.8892\n",
      "Epoch 15/100\n"
     ]
    },
    {
     "name": "stdout",
     "output_type": "stream",
     "text": [
      "657/657 [==============================] - ETA: 19s - loss: 0.2573 - accuracy: 0.937 - ETA: 7s - loss: 0.2468 - accuracy: 0.922 - ETA: 6s - loss: 0.2391 - accuracy: 0.91 - ETA: 6s - loss: 0.2322 - accuracy: 0.91 - ETA: 5s - loss: 0.2256 - accuracy: 0.92 - ETA: 6s - loss: 0.2230 - accuracy: 0.92 - ETA: 6s - loss: 0.2206 - accuracy: 0.92 - ETA: 6s - loss: 0.2188 - accuracy: 0.92 - ETA: 6s - loss: 0.2173 - accuracy: 0.92 - ETA: 6s - loss: 0.2157 - accuracy: 0.92 - ETA: 6s - loss: 0.2138 - accuracy: 0.92 - ETA: 6s - loss: 0.2124 - accuracy: 0.92 - ETA: 6s - loss: 0.2112 - accuracy: 0.92 - ETA: 5s - loss: 0.2102 - accuracy: 0.92 - ETA: 5s - loss: 0.2092 - accuracy: 0.92 - ETA: 5s - loss: 0.2082 - accuracy: 0.92 - ETA: 5s - loss: 0.2072 - accuracy: 0.92 - ETA: 5s - loss: 0.2063 - accuracy: 0.92 - ETA: 5s - loss: 0.2054 - accuracy: 0.92 - ETA: 5s - loss: 0.2046 - accuracy: 0.92 - ETA: 5s - loss: 0.2040 - accuracy: 0.92 - ETA: 5s - loss: 0.2033 - accuracy: 0.92 - ETA: 5s - loss: 0.2029 - accuracy: 0.92 - ETA: 5s - loss: 0.2027 - accuracy: 0.92 - ETA: 5s - loss: 0.2025 - accuracy: 0.92 - ETA: 5s - loss: 0.2024 - accuracy: 0.92 - ETA: 5s - loss: 0.2022 - accuracy: 0.92 - ETA: 5s - loss: 0.2021 - accuracy: 0.92 - ETA: 5s - loss: 0.2020 - accuracy: 0.92 - ETA: 5s - loss: 0.2019 - accuracy: 0.92 - ETA: 5s - loss: 0.2019 - accuracy: 0.92 - ETA: 5s - loss: 0.2019 - accuracy: 0.92 - ETA: 4s - loss: 0.2019 - accuracy: 0.92 - ETA: 4s - loss: 0.2020 - accuracy: 0.92 - ETA: 4s - loss: 0.2020 - accuracy: 0.92 - ETA: 4s - loss: 0.2021 - accuracy: 0.92 - ETA: 4s - loss: 0.2021 - accuracy: 0.92 - ETA: 4s - loss: 0.2021 - accuracy: 0.92 - ETA: 4s - loss: 0.2022 - accuracy: 0.92 - ETA: 4s - loss: 0.2022 - accuracy: 0.92 - ETA: 4s - loss: 0.2021 - accuracy: 0.92 - ETA: 4s - loss: 0.2021 - accuracy: 0.92 - ETA: 4s - loss: 0.2022 - accuracy: 0.92 - ETA: 4s - loss: 0.2022 - accuracy: 0.92 - ETA: 4s - loss: 0.2022 - accuracy: 0.92 - ETA: 4s - loss: 0.2022 - accuracy: 0.92 - ETA: 4s - loss: 0.2023 - accuracy: 0.92 - ETA: 4s - loss: 0.2023 - accuracy: 0.92 - ETA: 4s - loss: 0.2023 - accuracy: 0.92 - ETA: 3s - loss: 0.2023 - accuracy: 0.92 - ETA: 3s - loss: 0.2023 - accuracy: 0.92 - ETA: 3s - loss: 0.2023 - accuracy: 0.92 - ETA: 3s - loss: 0.2022 - accuracy: 0.92 - ETA: 3s - loss: 0.2022 - accuracy: 0.92 - ETA: 3s - loss: 0.2022 - accuracy: 0.92 - ETA: 3s - loss: 0.2022 - accuracy: 0.92 - ETA: 3s - loss: 0.2022 - accuracy: 0.92 - ETA: 3s - loss: 0.2022 - accuracy: 0.92 - ETA: 3s - loss: 0.2022 - accuracy: 0.92 - ETA: 3s - loss: 0.2022 - accuracy: 0.92 - ETA: 3s - loss: 0.2022 - accuracy: 0.92 - ETA: 3s - loss: 0.2022 - accuracy: 0.92 - ETA: 3s - loss: 0.2022 - accuracy: 0.92 - ETA: 3s - loss: 0.2022 - accuracy: 0.92 - ETA: 3s - loss: 0.2021 - accuracy: 0.92 - ETA: 3s - loss: 0.2021 - accuracy: 0.92 - ETA: 2s - loss: 0.2021 - accuracy: 0.92 - ETA: 2s - loss: 0.2021 - accuracy: 0.92 - ETA: 2s - loss: 0.2021 - accuracy: 0.92 - ETA: 2s - loss: 0.2021 - accuracy: 0.92 - ETA: 2s - loss: 0.2021 - accuracy: 0.92 - ETA: 2s - loss: 0.2021 - accuracy: 0.92 - ETA: 2s - loss: 0.2021 - accuracy: 0.92 - ETA: 2s - loss: 0.2021 - accuracy: 0.92 - ETA: 2s - loss: 0.2022 - accuracy: 0.92 - ETA: 2s - loss: 0.2022 - accuracy: 0.92 - ETA: 2s - loss: 0.2022 - accuracy: 0.92 - ETA: 2s - loss: 0.2022 - accuracy: 0.92 - ETA: 2s - loss: 0.2022 - accuracy: 0.92 - ETA: 2s - loss: 0.2023 - accuracy: 0.92 - ETA: 2s - loss: 0.2023 - accuracy: 0.92 - ETA: 2s - loss: 0.2023 - accuracy: 0.92 - ETA: 2s - loss: 0.2023 - accuracy: 0.92 - ETA: 1s - loss: 0.2023 - accuracy: 0.92 - ETA: 1s - loss: 0.2024 - accuracy: 0.92 - ETA: 1s - loss: 0.2024 - accuracy: 0.92 - ETA: 1s - loss: 0.2024 - accuracy: 0.92 - ETA: 1s - loss: 0.2024 - accuracy: 0.92 - ETA: 1s - loss: 0.2024 - accuracy: 0.92 - ETA: 1s - loss: 0.2025 - accuracy: 0.92 - ETA: 1s - loss: 0.2025 - accuracy: 0.92 - ETA: 1s - loss: 0.2025 - accuracy: 0.92 - ETA: 1s - loss: 0.2025 - accuracy: 0.92 - ETA: 1s - loss: 0.2026 - accuracy: 0.92 - ETA: 1s - loss: 0.2026 - accuracy: 0.92 - ETA: 1s - loss: 0.2026 - accuracy: 0.92 - ETA: 1s - loss: 0.2026 - accuracy: 0.92 - ETA: 1s - loss: 0.2026 - accuracy: 0.92 - ETA: 1s - loss: 0.2027 - accuracy: 0.92 - ETA: 1s - loss: 0.2027 - accuracy: 0.92 - ETA: 1s - loss: 0.2027 - accuracy: 0.92 - ETA: 1s - loss: 0.2027 - accuracy: 0.92 - ETA: 1s - loss: 0.2027 - accuracy: 0.92 - ETA: 0s - loss: 0.2027 - accuracy: 0.92 - ETA: 0s - loss: 0.2027 - accuracy: 0.92 - ETA: 0s - loss: 0.2028 - accuracy: 0.92 - ETA: 0s - loss: 0.2028 - accuracy: 0.92 - ETA: 0s - loss: 0.2028 - accuracy: 0.92 - ETA: 0s - loss: 0.2028 - accuracy: 0.92 - ETA: 0s - loss: 0.2028 - accuracy: 0.92 - ETA: 0s - loss: 0.2028 - accuracy: 0.92 - ETA: 0s - loss: 0.2028 - accuracy: 0.92 - ETA: 0s - loss: 0.2029 - accuracy: 0.92 - ETA: 0s - loss: 0.2029 - accuracy: 0.92 - ETA: 0s - loss: 0.2029 - accuracy: 0.92 - ETA: 0s - loss: 0.2029 - accuracy: 0.92 - ETA: 0s - loss: 0.2030 - accuracy: 0.92 - ETA: 0s - loss: 0.2030 - accuracy: 0.92 - ETA: 0s - loss: 0.2030 - accuracy: 0.92 - ETA: 0s - loss: 0.2030 - accuracy: 0.92 - ETA: 0s - loss: 0.2030 - accuracy: 0.92 - 8s 11ms/step - loss: 0.2030 - accuracy: 0.9229 - val_loss: 0.3026 - val_accuracy: 0.8981\n",
      "Epoch 16/100\n"
     ]
    },
    {
     "name": "stdout",
     "output_type": "stream",
     "text": [
      "657/657 [==============================] - ETA: 20s - loss: 0.1798 - accuracy: 0.906 - ETA: 6s - loss: 0.1617 - accuracy: 0.911 - ETA: 6s - loss: 0.1615 - accuracy: 0.91 - ETA: 6s - loss: 0.1637 - accuracy: 0.92 - ETA: 6s - loss: 0.1651 - accuracy: 0.92 - ETA: 6s - loss: 0.1673 - accuracy: 0.92 - ETA: 6s - loss: 0.1688 - accuracy: 0.92 - ETA: 6s - loss: 0.1701 - accuracy: 0.92 - ETA: 5s - loss: 0.1720 - accuracy: 0.92 - ETA: 5s - loss: 0.1733 - accuracy: 0.92 - ETA: 5s - loss: 0.1746 - accuracy: 0.92 - ETA: 5s - loss: 0.1756 - accuracy: 0.92 - ETA: 5s - loss: 0.1767 - accuracy: 0.92 - ETA: 5s - loss: 0.1779 - accuracy: 0.92 - ETA: 5s - loss: 0.1794 - accuracy: 0.92 - ETA: 5s - loss: 0.1807 - accuracy: 0.92 - ETA: 5s - loss: 0.1821 - accuracy: 0.92 - ETA: 5s - loss: 0.1831 - accuracy: 0.92 - ETA: 5s - loss: 0.1840 - accuracy: 0.92 - ETA: 5s - loss: 0.1848 - accuracy: 0.92 - ETA: 5s - loss: 0.1856 - accuracy: 0.92 - ETA: 5s - loss: 0.1861 - accuracy: 0.92 - ETA: 5s - loss: 0.1868 - accuracy: 0.92 - ETA: 5s - loss: 0.1873 - accuracy: 0.92 - ETA: 5s - loss: 0.1878 - accuracy: 0.92 - ETA: 5s - loss: 0.1883 - accuracy: 0.92 - ETA: 4s - loss: 0.1887 - accuracy: 0.92 - ETA: 4s - loss: 0.1892 - accuracy: 0.92 - ETA: 4s - loss: 0.1896 - accuracy: 0.92 - ETA: 4s - loss: 0.1899 - accuracy: 0.92 - ETA: 4s - loss: 0.1902 - accuracy: 0.92 - ETA: 4s - loss: 0.1905 - accuracy: 0.92 - ETA: 4s - loss: 0.1906 - accuracy: 0.92 - ETA: 4s - loss: 0.1908 - accuracy: 0.92 - ETA: 4s - loss: 0.1910 - accuracy: 0.92 - ETA: 4s - loss: 0.1911 - accuracy: 0.92 - ETA: 4s - loss: 0.1913 - accuracy: 0.92 - ETA: 4s - loss: 0.1914 - accuracy: 0.92 - ETA: 4s - loss: 0.1916 - accuracy: 0.92 - ETA: 4s - loss: 0.1917 - accuracy: 0.92 - ETA: 4s - loss: 0.1918 - accuracy: 0.92 - ETA: 4s - loss: 0.1919 - accuracy: 0.92 - ETA: 4s - loss: 0.1920 - accuracy: 0.92 - ETA: 4s - loss: 0.1921 - accuracy: 0.92 - ETA: 4s - loss: 0.1922 - accuracy: 0.92 - ETA: 3s - loss: 0.1923 - accuracy: 0.92 - ETA: 3s - loss: 0.1924 - accuracy: 0.92 - ETA: 3s - loss: 0.1925 - accuracy: 0.92 - ETA: 3s - loss: 0.1926 - accuracy: 0.92 - ETA: 3s - loss: 0.1927 - accuracy: 0.92 - ETA: 3s - loss: 0.1929 - accuracy: 0.92 - ETA: 3s - loss: 0.1930 - accuracy: 0.92 - ETA: 3s - loss: 0.1931 - accuracy: 0.92 - ETA: 3s - loss: 0.1932 - accuracy: 0.92 - ETA: 3s - loss: 0.1934 - accuracy: 0.92 - ETA: 3s - loss: 0.1935 - accuracy: 0.92 - ETA: 3s - loss: 0.1936 - accuracy: 0.92 - ETA: 3s - loss: 0.1937 - accuracy: 0.92 - ETA: 3s - loss: 0.1937 - accuracy: 0.92 - ETA: 3s - loss: 0.1938 - accuracy: 0.92 - ETA: 3s - loss: 0.1938 - accuracy: 0.92 - ETA: 3s - loss: 0.1939 - accuracy: 0.92 - ETA: 3s - loss: 0.1939 - accuracy: 0.92 - ETA: 3s - loss: 0.1940 - accuracy: 0.92 - ETA: 2s - loss: 0.1940 - accuracy: 0.92 - ETA: 2s - loss: 0.1941 - accuracy: 0.92 - ETA: 2s - loss: 0.1941 - accuracy: 0.92 - ETA: 2s - loss: 0.1942 - accuracy: 0.92 - ETA: 2s - loss: 0.1942 - accuracy: 0.92 - ETA: 2s - loss: 0.1942 - accuracy: 0.92 - ETA: 2s - loss: 0.1943 - accuracy: 0.92 - ETA: 2s - loss: 0.1944 - accuracy: 0.92 - ETA: 2s - loss: 0.1944 - accuracy: 0.92 - ETA: 2s - loss: 0.1944 - accuracy: 0.92 - ETA: 2s - loss: 0.1945 - accuracy: 0.92 - ETA: 2s - loss: 0.1945 - accuracy: 0.92 - ETA: 2s - loss: 0.1946 - accuracy: 0.92 - ETA: 2s - loss: 0.1946 - accuracy: 0.92 - ETA: 2s - loss: 0.1946 - accuracy: 0.92 - ETA: 2s - loss: 0.1947 - accuracy: 0.92 - ETA: 2s - loss: 0.1947 - accuracy: 0.92 - ETA: 2s - loss: 0.1947 - accuracy: 0.92 - ETA: 2s - loss: 0.1948 - accuracy: 0.92 - ETA: 1s - loss: 0.1948 - accuracy: 0.92 - ETA: 1s - loss: 0.1948 - accuracy: 0.92 - ETA: 1s - loss: 0.1949 - accuracy: 0.92 - ETA: 1s - loss: 0.1949 - accuracy: 0.92 - ETA: 1s - loss: 0.1949 - accuracy: 0.92 - ETA: 1s - loss: 0.1950 - accuracy: 0.92 - ETA: 1s - loss: 0.1950 - accuracy: 0.92 - ETA: 1s - loss: 0.1950 - accuracy: 0.92 - ETA: 1s - loss: 0.1950 - accuracy: 0.92 - ETA: 1s - loss: 0.1950 - accuracy: 0.92 - ETA: 1s - loss: 0.1951 - accuracy: 0.92 - ETA: 1s - loss: 0.1951 - accuracy: 0.92 - ETA: 1s - loss: 0.1951 - accuracy: 0.92 - ETA: 1s - loss: 0.1951 - accuracy: 0.92 - ETA: 1s - loss: 0.1951 - accuracy: 0.92 - ETA: 1s - loss: 0.1951 - accuracy: 0.92 - ETA: 1s - loss: 0.1951 - accuracy: 0.92 - ETA: 1s - loss: 0.1951 - accuracy: 0.92 - ETA: 1s - loss: 0.1952 - accuracy: 0.92 - ETA: 0s - loss: 0.1952 - accuracy: 0.92 - ETA: 0s - loss: 0.1952 - accuracy: 0.92 - ETA: 0s - loss: 0.1952 - accuracy: 0.92 - ETA: 0s - loss: 0.1953 - accuracy: 0.92 - ETA: 0s - loss: 0.1953 - accuracy: 0.92 - ETA: 0s - loss: 0.1953 - accuracy: 0.92 - ETA: 0s - loss: 0.1953 - accuracy: 0.92 - ETA: 0s - loss: 0.1953 - accuracy: 0.92 - ETA: 0s - loss: 0.1953 - accuracy: 0.92 - ETA: 0s - loss: 0.1953 - accuracy: 0.92 - ETA: 0s - loss: 0.1953 - accuracy: 0.92 - ETA: 0s - loss: 0.1953 - accuracy: 0.92 - ETA: 0s - loss: 0.1953 - accuracy: 0.92 - ETA: 0s - loss: 0.1953 - accuracy: 0.92 - ETA: 0s - loss: 0.1954 - accuracy: 0.92 - ETA: 0s - loss: 0.1954 - accuracy: 0.92 - ETA: 0s - loss: 0.1954 - accuracy: 0.92 - ETA: 0s - loss: 0.1954 - accuracy: 0.92 - ETA: 0s - loss: 0.1954 - accuracy: 0.92 - 8s 12ms/step - loss: 0.1954 - accuracy: 0.9256 - val_loss: 0.3102 - val_accuracy: 0.8941\n",
      "Epoch 17/100\n"
     ]
    },
    {
     "name": "stdout",
     "output_type": "stream",
     "text": [
      "657/657 [==============================] - ETA: 22s - loss: 0.2858 - accuracy: 0.875 - ETA: 6s - loss: 0.2750 - accuracy: 0.889 - ETA: 6s - loss: 0.2525 - accuracy: 0.90 - ETA: 6s - loss: 0.2425 - accuracy: 0.90 - ETA: 6s - loss: 0.2358 - accuracy: 0.90 - ETA: 6s - loss: 0.2303 - accuracy: 0.90 - ETA: 6s - loss: 0.2272 - accuracy: 0.91 - ETA: 6s - loss: 0.2243 - accuracy: 0.91 - ETA: 6s - loss: 0.2223 - accuracy: 0.91 - ETA: 6s - loss: 0.2200 - accuracy: 0.91 - ETA: 6s - loss: 0.2180 - accuracy: 0.91 - ETA: 6s - loss: 0.2159 - accuracy: 0.91 - ETA: 6s - loss: 0.2140 - accuracy: 0.91 - ETA: 6s - loss: 0.2124 - accuracy: 0.91 - ETA: 6s - loss: 0.2110 - accuracy: 0.91 - ETA: 6s - loss: 0.2095 - accuracy: 0.91 - ETA: 5s - loss: 0.2084 - accuracy: 0.91 - ETA: 5s - loss: 0.2075 - accuracy: 0.91 - ETA: 5s - loss: 0.2068 - accuracy: 0.91 - ETA: 5s - loss: 0.2062 - accuracy: 0.91 - ETA: 5s - loss: 0.2055 - accuracy: 0.91 - ETA: 5s - loss: 0.2050 - accuracy: 0.91 - ETA: 5s - loss: 0.2045 - accuracy: 0.91 - ETA: 5s - loss: 0.2041 - accuracy: 0.91 - ETA: 5s - loss: 0.2037 - accuracy: 0.92 - ETA: 5s - loss: 0.2034 - accuracy: 0.92 - ETA: 5s - loss: 0.2031 - accuracy: 0.92 - ETA: 5s - loss: 0.2028 - accuracy: 0.92 - ETA: 5s - loss: 0.2025 - accuracy: 0.92 - ETA: 5s - loss: 0.2023 - accuracy: 0.92 - ETA: 5s - loss: 0.2020 - accuracy: 0.92 - ETA: 5s - loss: 0.2017 - accuracy: 0.92 - ETA: 5s - loss: 0.2015 - accuracy: 0.92 - ETA: 5s - loss: 0.2012 - accuracy: 0.92 - ETA: 4s - loss: 0.2009 - accuracy: 0.92 - ETA: 4s - loss: 0.2006 - accuracy: 0.92 - ETA: 4s - loss: 0.2003 - accuracy: 0.92 - ETA: 4s - loss: 0.2000 - accuracy: 0.92 - ETA: 4s - loss: 0.1998 - accuracy: 0.92 - ETA: 4s - loss: 0.1996 - accuracy: 0.92 - ETA: 4s - loss: 0.1994 - accuracy: 0.92 - ETA: 4s - loss: 0.1992 - accuracy: 0.92 - ETA: 4s - loss: 0.1990 - accuracy: 0.92 - ETA: 4s - loss: 0.1989 - accuracy: 0.92 - ETA: 4s - loss: 0.1986 - accuracy: 0.92 - ETA: 4s - loss: 0.1984 - accuracy: 0.92 - ETA: 4s - loss: 0.1982 - accuracy: 0.92 - ETA: 4s - loss: 0.1981 - accuracy: 0.92 - ETA: 4s - loss: 0.1979 - accuracy: 0.92 - ETA: 4s - loss: 0.1977 - accuracy: 0.92 - ETA: 3s - loss: 0.1975 - accuracy: 0.92 - ETA: 3s - loss: 0.1974 - accuracy: 0.92 - ETA: 3s - loss: 0.1973 - accuracy: 0.92 - ETA: 3s - loss: 0.1972 - accuracy: 0.92 - ETA: 3s - loss: 0.1972 - accuracy: 0.92 - ETA: 3s - loss: 0.1971 - accuracy: 0.92 - ETA: 3s - loss: 0.1971 - accuracy: 0.92 - ETA: 3s - loss: 0.1970 - accuracy: 0.92 - ETA: 3s - loss: 0.1970 - accuracy: 0.92 - ETA: 3s - loss: 0.1969 - accuracy: 0.92 - ETA: 3s - loss: 0.1969 - accuracy: 0.92 - ETA: 3s - loss: 0.1969 - accuracy: 0.92 - ETA: 3s - loss: 0.1969 - accuracy: 0.92 - ETA: 3s - loss: 0.1969 - accuracy: 0.92 - ETA: 3s - loss: 0.1968 - accuracy: 0.92 - ETA: 3s - loss: 0.1968 - accuracy: 0.92 - ETA: 3s - loss: 0.1968 - accuracy: 0.92 - ETA: 2s - loss: 0.1968 - accuracy: 0.92 - ETA: 2s - loss: 0.1968 - accuracy: 0.92 - ETA: 2s - loss: 0.1968 - accuracy: 0.92 - ETA: 2s - loss: 0.1968 - accuracy: 0.92 - ETA: 2s - loss: 0.1968 - accuracy: 0.92 - ETA: 2s - loss: 0.1968 - accuracy: 0.92 - ETA: 2s - loss: 0.1968 - accuracy: 0.92 - ETA: 2s - loss: 0.1968 - accuracy: 0.92 - ETA: 2s - loss: 0.1968 - accuracy: 0.92 - ETA: 2s - loss: 0.1968 - accuracy: 0.92 - ETA: 2s - loss: 0.1968 - accuracy: 0.92 - ETA: 2s - loss: 0.1968 - accuracy: 0.92 - ETA: 2s - loss: 0.1968 - accuracy: 0.92 - ETA: 2s - loss: 0.1968 - accuracy: 0.92 - ETA: 2s - loss: 0.1968 - accuracy: 0.92 - ETA: 2s - loss: 0.1968 - accuracy: 0.92 - ETA: 2s - loss: 0.1968 - accuracy: 0.92 - ETA: 2s - loss: 0.1968 - accuracy: 0.92 - ETA: 2s - loss: 0.1968 - accuracy: 0.92 - ETA: 2s - loss: 0.1968 - accuracy: 0.92 - ETA: 2s - loss: 0.1968 - accuracy: 0.92 - ETA: 2s - loss: 0.1968 - accuracy: 0.92 - ETA: 2s - loss: 0.1969 - accuracy: 0.92 - ETA: 2s - loss: 0.1969 - accuracy: 0.92 - ETA: 2s - loss: 0.1969 - accuracy: 0.92 - ETA: 1s - loss: 0.1969 - accuracy: 0.92 - ETA: 1s - loss: 0.1969 - accuracy: 0.92 - ETA: 1s - loss: 0.1969 - accuracy: 0.92 - ETA: 1s - loss: 0.1969 - accuracy: 0.92 - ETA: 1s - loss: 0.1969 - accuracy: 0.92 - ETA: 1s - loss: 0.1969 - accuracy: 0.92 - ETA: 1s - loss: 0.1969 - accuracy: 0.92 - ETA: 1s - loss: 0.1969 - accuracy: 0.92 - ETA: 1s - loss: 0.1969 - accuracy: 0.92 - ETA: 1s - loss: 0.1969 - accuracy: 0.92 - ETA: 1s - loss: 0.1968 - accuracy: 0.92 - ETA: 1s - loss: 0.1968 - accuracy: 0.92 - ETA: 1s - loss: 0.1968 - accuracy: 0.92 - ETA: 1s - loss: 0.1968 - accuracy: 0.92 - ETA: 1s - loss: 0.1968 - accuracy: 0.92 - ETA: 1s - loss: 0.1968 - accuracy: 0.92 - ETA: 1s - loss: 0.1968 - accuracy: 0.92 - ETA: 1s - loss: 0.1968 - accuracy: 0.92 - ETA: 1s - loss: 0.1968 - accuracy: 0.92 - ETA: 1s - loss: 0.1967 - accuracy: 0.92 - ETA: 1s - loss: 0.1967 - accuracy: 0.92 - ETA: 1s - loss: 0.1967 - accuracy: 0.92 - ETA: 1s - loss: 0.1967 - accuracy: 0.92 - ETA: 0s - loss: 0.1967 - accuracy: 0.92 - ETA: 0s - loss: 0.1967 - accuracy: 0.92 - ETA: 0s - loss: 0.1967 - accuracy: 0.92 - ETA: 0s - loss: 0.1967 - accuracy: 0.92 - ETA: 0s - loss: 0.1966 - accuracy: 0.92 - ETA: 0s - loss: 0.1966 - accuracy: 0.92 - ETA: 0s - loss: 0.1966 - accuracy: 0.92 - ETA: 0s - loss: 0.1966 - accuracy: 0.92 - ETA: 0s - loss: 0.1966 - accuracy: 0.92 - ETA: 0s - loss: 0.1966 - accuracy: 0.92 - ETA: 0s - loss: 0.1965 - accuracy: 0.92 - ETA: 0s - loss: 0.1965 - accuracy: 0.92 - ETA: 0s - loss: 0.1965 - accuracy: 0.92 - ETA: 0s - loss: 0.1965 - accuracy: 0.92 - ETA: 0s - loss: 0.1965 - accuracy: 0.92 - ETA: 0s - loss: 0.1965 - accuracy: 0.92 - ETA: 0s - loss: 0.1964 - accuracy: 0.92 - ETA: 0s - loss: 0.1964 - accuracy: 0.92 - ETA: 0s - loss: 0.1964 - accuracy: 0.92 - ETA: 0s - loss: 0.1964 - accuracy: 0.92 - 8s 13ms/step - loss: 0.1964 - accuracy: 0.9251 - val_loss: 0.3161 - val_accuracy: 0.8941\n",
      "Epoch 18/100\n"
     ]
    },
    {
     "name": "stdout",
     "output_type": "stream",
     "text": [
      "657/657 [==============================] - ETA: 21s - loss: 0.1454 - accuracy: 0.953 - ETA: 6s - loss: 0.1598 - accuracy: 0.945 - ETA: 6s - loss: 0.1746 - accuracy: 0.93 - ETA: 6s - loss: 0.1831 - accuracy: 0.93 - ETA: 6s - loss: 0.1846 - accuracy: 0.93 - ETA: 6s - loss: 0.1822 - accuracy: 0.93 - ETA: 6s - loss: 0.1808 - accuracy: 0.93 - ETA: 6s - loss: 0.1794 - accuracy: 0.93 - ETA: 6s - loss: 0.1784 - accuracy: 0.93 - ETA: 6s - loss: 0.1778 - accuracy: 0.93 - ETA: 6s - loss: 0.1773 - accuracy: 0.93 - ETA: 6s - loss: 0.1771 - accuracy: 0.93 - ETA: 5s - loss: 0.1765 - accuracy: 0.93 - ETA: 5s - loss: 0.1759 - accuracy: 0.93 - ETA: 5s - loss: 0.1753 - accuracy: 0.93 - ETA: 5s - loss: 0.1749 - accuracy: 0.93 - ETA: 5s - loss: 0.1746 - accuracy: 0.93 - ETA: 5s - loss: 0.1744 - accuracy: 0.93 - ETA: 5s - loss: 0.1742 - accuracy: 0.93 - ETA: 5s - loss: 0.1740 - accuracy: 0.93 - ETA: 5s - loss: 0.1737 - accuracy: 0.93 - ETA: 5s - loss: 0.1736 - accuracy: 0.93 - ETA: 5s - loss: 0.1734 - accuracy: 0.93 - ETA: 5s - loss: 0.1734 - accuracy: 0.93 - ETA: 5s - loss: 0.1735 - accuracy: 0.93 - ETA: 5s - loss: 0.1735 - accuracy: 0.93 - ETA: 5s - loss: 0.1737 - accuracy: 0.93 - ETA: 5s - loss: 0.1738 - accuracy: 0.93 - ETA: 5s - loss: 0.1739 - accuracy: 0.93 - ETA: 4s - loss: 0.1742 - accuracy: 0.93 - ETA: 4s - loss: 0.1744 - accuracy: 0.93 - ETA: 4s - loss: 0.1748 - accuracy: 0.93 - ETA: 4s - loss: 0.1751 - accuracy: 0.93 - ETA: 4s - loss: 0.1754 - accuracy: 0.93 - ETA: 4s - loss: 0.1758 - accuracy: 0.93 - ETA: 4s - loss: 0.1761 - accuracy: 0.93 - ETA: 4s - loss: 0.1764 - accuracy: 0.93 - ETA: 4s - loss: 0.1766 - accuracy: 0.93 - ETA: 4s - loss: 0.1769 - accuracy: 0.93 - ETA: 4s - loss: 0.1771 - accuracy: 0.93 - ETA: 4s - loss: 0.1774 - accuracy: 0.93 - ETA: 4s - loss: 0.1776 - accuracy: 0.93 - ETA: 4s - loss: 0.1778 - accuracy: 0.93 - ETA: 4s - loss: 0.1780 - accuracy: 0.93 - ETA: 4s - loss: 0.1782 - accuracy: 0.93 - ETA: 4s - loss: 0.1784 - accuracy: 0.93 - ETA: 4s - loss: 0.1786 - accuracy: 0.93 - ETA: 4s - loss: 0.1788 - accuracy: 0.93 - ETA: 3s - loss: 0.1789 - accuracy: 0.93 - ETA: 3s - loss: 0.1791 - accuracy: 0.93 - ETA: 3s - loss: 0.1792 - accuracy: 0.93 - ETA: 3s - loss: 0.1794 - accuracy: 0.93 - ETA: 3s - loss: 0.1795 - accuracy: 0.93 - ETA: 3s - loss: 0.1797 - accuracy: 0.93 - ETA: 3s - loss: 0.1798 - accuracy: 0.93 - ETA: 3s - loss: 0.1799 - accuracy: 0.93 - ETA: 3s - loss: 0.1800 - accuracy: 0.93 - ETA: 3s - loss: 0.1801 - accuracy: 0.93 - ETA: 3s - loss: 0.1802 - accuracy: 0.93 - ETA: 3s - loss: 0.1803 - accuracy: 0.93 - ETA: 3s - loss: 0.1805 - accuracy: 0.93 - ETA: 3s - loss: 0.1805 - accuracy: 0.93 - ETA: 3s - loss: 0.1806 - accuracy: 0.93 - ETA: 3s - loss: 0.1807 - accuracy: 0.93 - ETA: 3s - loss: 0.1807 - accuracy: 0.93 - ETA: 3s - loss: 0.1807 - accuracy: 0.93 - ETA: 2s - loss: 0.1808 - accuracy: 0.93 - ETA: 2s - loss: 0.1808 - accuracy: 0.93 - ETA: 2s - loss: 0.1808 - accuracy: 0.93 - ETA: 2s - loss: 0.1808 - accuracy: 0.93 - ETA: 2s - loss: 0.1809 - accuracy: 0.93 - ETA: 2s - loss: 0.1809 - accuracy: 0.93 - ETA: 2s - loss: 0.1809 - accuracy: 0.93 - ETA: 2s - loss: 0.1810 - accuracy: 0.93 - ETA: 2s - loss: 0.1810 - accuracy: 0.93 - ETA: 2s - loss: 0.1811 - accuracy: 0.93 - ETA: 2s - loss: 0.1811 - accuracy: 0.93 - ETA: 2s - loss: 0.1812 - accuracy: 0.93 - ETA: 2s - loss: 0.1812 - accuracy: 0.93 - ETA: 2s - loss: 0.1813 - accuracy: 0.93 - ETA: 2s - loss: 0.1814 - accuracy: 0.93 - ETA: 2s - loss: 0.1814 - accuracy: 0.93 - ETA: 2s - loss: 0.1815 - accuracy: 0.93 - ETA: 2s - loss: 0.1815 - accuracy: 0.93 - ETA: 2s - loss: 0.1816 - accuracy: 0.93 - ETA: 1s - loss: 0.1817 - accuracy: 0.93 - ETA: 1s - loss: 0.1817 - accuracy: 0.93 - ETA: 1s - loss: 0.1818 - accuracy: 0.93 - ETA: 1s - loss: 0.1818 - accuracy: 0.93 - ETA: 1s - loss: 0.1819 - accuracy: 0.93 - ETA: 1s - loss: 0.1819 - accuracy: 0.93 - ETA: 1s - loss: 0.1820 - accuracy: 0.93 - ETA: 1s - loss: 0.1821 - accuracy: 0.93 - ETA: 1s - loss: 0.1821 - accuracy: 0.93 - ETA: 1s - loss: 0.1822 - accuracy: 0.93 - ETA: 1s - loss: 0.1822 - accuracy: 0.93 - ETA: 1s - loss: 0.1823 - accuracy: 0.93 - ETA: 1s - loss: 0.1823 - accuracy: 0.93 - ETA: 1s - loss: 0.1823 - accuracy: 0.93 - ETA: 1s - loss: 0.1824 - accuracy: 0.93 - ETA: 1s - loss: 0.1824 - accuracy: 0.93 - ETA: 1s - loss: 0.1824 - accuracy: 0.93 - ETA: 1s - loss: 0.1825 - accuracy: 0.93 - ETA: 1s - loss: 0.1825 - accuracy: 0.93 - ETA: 0s - loss: 0.1826 - accuracy: 0.93 - ETA: 0s - loss: 0.1826 - accuracy: 0.93 - ETA: 0s - loss: 0.1826 - accuracy: 0.93 - ETA: 0s - loss: 0.1826 - accuracy: 0.93 - ETA: 0s - loss: 0.1827 - accuracy: 0.93 - ETA: 0s - loss: 0.1827 - accuracy: 0.93 - ETA: 0s - loss: 0.1827 - accuracy: 0.93 - ETA: 0s - loss: 0.1828 - accuracy: 0.93 - ETA: 0s - loss: 0.1828 - accuracy: 0.93 - ETA: 0s - loss: 0.1828 - accuracy: 0.93 - ETA: 0s - loss: 0.1828 - accuracy: 0.93 - ETA: 0s - loss: 0.1828 - accuracy: 0.93 - ETA: 0s - loss: 0.1829 - accuracy: 0.93 - ETA: 0s - loss: 0.1829 - accuracy: 0.93 - ETA: 0s - loss: 0.1829 - accuracy: 0.93 - ETA: 0s - loss: 0.1829 - accuracy: 0.93 - ETA: 0s - loss: 0.1829 - accuracy: 0.93 - ETA: 0s - loss: 0.1830 - accuracy: 0.93 - 8s 12ms/step - loss: 0.1830 - accuracy: 0.9308 - val_loss: 0.3335 - val_accuracy: 0.8931\n",
      "Epoch 19/100\n"
     ]
    },
    {
     "name": "stdout",
     "output_type": "stream",
     "text": [
      "657/657 [==============================] - ETA: 21s - loss: 0.1208 - accuracy: 0.984 - ETA: 6s - loss: 0.1651 - accuracy: 0.958 - ETA: 6s - loss: 0.1799 - accuracy: 0.94 - ETA: 6s - loss: 0.1839 - accuracy: 0.94 - ETA: 5s - loss: 0.1886 - accuracy: 0.93 - ETA: 5s - loss: 0.1910 - accuracy: 0.93 - ETA: 5s - loss: 0.1912 - accuracy: 0.93 - ETA: 5s - loss: 0.1909 - accuracy: 0.93 - ETA: 5s - loss: 0.1903 - accuracy: 0.93 - ETA: 5s - loss: 0.1897 - accuracy: 0.93 - ETA: 5s - loss: 0.1887 - accuracy: 0.93 - ETA: 5s - loss: 0.1881 - accuracy: 0.93 - ETA: 5s - loss: 0.1876 - accuracy: 0.93 - ETA: 5s - loss: 0.1873 - accuracy: 0.93 - ETA: 5s - loss: 0.1871 - accuracy: 0.93 - ETA: 5s - loss: 0.1869 - accuracy: 0.93 - ETA: 5s - loss: 0.1865 - accuracy: 0.93 - ETA: 5s - loss: 0.1859 - accuracy: 0.93 - ETA: 5s - loss: 0.1855 - accuracy: 0.93 - ETA: 5s - loss: 0.1849 - accuracy: 0.93 - ETA: 5s - loss: 0.1844 - accuracy: 0.93 - ETA: 5s - loss: 0.1840 - accuracy: 0.93 - ETA: 5s - loss: 0.1837 - accuracy: 0.93 - ETA: 5s - loss: 0.1835 - accuracy: 0.93 - ETA: 5s - loss: 0.1833 - accuracy: 0.93 - ETA: 5s - loss: 0.1830 - accuracy: 0.93 - ETA: 5s - loss: 0.1828 - accuracy: 0.93 - ETA: 5s - loss: 0.1825 - accuracy: 0.93 - ETA: 5s - loss: 0.1822 - accuracy: 0.93 - ETA: 5s - loss: 0.1820 - accuracy: 0.93 - ETA: 5s - loss: 0.1817 - accuracy: 0.93 - ETA: 5s - loss: 0.1814 - accuracy: 0.93 - ETA: 5s - loss: 0.1811 - accuracy: 0.93 - ETA: 4s - loss: 0.1808 - accuracy: 0.93 - ETA: 4s - loss: 0.1805 - accuracy: 0.93 - ETA: 4s - loss: 0.1803 - accuracy: 0.93 - ETA: 4s - loss: 0.1802 - accuracy: 0.93 - ETA: 4s - loss: 0.1800 - accuracy: 0.93 - ETA: 4s - loss: 0.1799 - accuracy: 0.93 - ETA: 4s - loss: 0.1798 - accuracy: 0.93 - ETA: 4s - loss: 0.1797 - accuracy: 0.93 - ETA: 4s - loss: 0.1797 - accuracy: 0.93 - ETA: 4s - loss: 0.1796 - accuracy: 0.93 - ETA: 4s - loss: 0.1796 - accuracy: 0.93 - ETA: 4s - loss: 0.1796 - accuracy: 0.93 - ETA: 4s - loss: 0.1796 - accuracy: 0.93 - ETA: 4s - loss: 0.1796 - accuracy: 0.93 - ETA: 4s - loss: 0.1796 - accuracy: 0.93 - ETA: 4s - loss: 0.1796 - accuracy: 0.93 - ETA: 4s - loss: 0.1795 - accuracy: 0.93 - ETA: 3s - loss: 0.1795 - accuracy: 0.93 - ETA: 3s - loss: 0.1795 - accuracy: 0.93 - ETA: 3s - loss: 0.1795 - accuracy: 0.93 - ETA: 3s - loss: 0.1794 - accuracy: 0.93 - ETA: 3s - loss: 0.1794 - accuracy: 0.93 - ETA: 3s - loss: 0.1794 - accuracy: 0.93 - ETA: 3s - loss: 0.1793 - accuracy: 0.93 - ETA: 3s - loss: 0.1793 - accuracy: 0.93 - ETA: 3s - loss: 0.1793 - accuracy: 0.93 - ETA: 3s - loss: 0.1792 - accuracy: 0.93 - ETA: 3s - loss: 0.1792 - accuracy: 0.93 - ETA: 3s - loss: 0.1791 - accuracy: 0.93 - ETA: 3s - loss: 0.1791 - accuracy: 0.93 - ETA: 3s - loss: 0.1791 - accuracy: 0.93 - ETA: 3s - loss: 0.1791 - accuracy: 0.93 - ETA: 3s - loss: 0.1792 - accuracy: 0.93 - ETA: 3s - loss: 0.1792 - accuracy: 0.93 - ETA: 3s - loss: 0.1792 - accuracy: 0.93 - ETA: 2s - loss: 0.1792 - accuracy: 0.93 - ETA: 2s - loss: 0.1793 - accuracy: 0.93 - ETA: 2s - loss: 0.1793 - accuracy: 0.93 - ETA: 2s - loss: 0.1794 - accuracy: 0.93 - ETA: 2s - loss: 0.1794 - accuracy: 0.93 - ETA: 2s - loss: 0.1794 - accuracy: 0.93 - ETA: 2s - loss: 0.1795 - accuracy: 0.93 - ETA: 2s - loss: 0.1795 - accuracy: 0.93 - ETA: 2s - loss: 0.1796 - accuracy: 0.93 - ETA: 2s - loss: 0.1796 - accuracy: 0.93 - ETA: 2s - loss: 0.1796 - accuracy: 0.93 - ETA: 2s - loss: 0.1797 - accuracy: 0.93 - ETA: 2s - loss: 0.1797 - accuracy: 0.93 - ETA: 2s - loss: 0.1797 - accuracy: 0.93 - ETA: 2s - loss: 0.1798 - accuracy: 0.93 - ETA: 2s - loss: 0.1798 - accuracy: 0.93 - ETA: 2s - loss: 0.1798 - accuracy: 0.93 - ETA: 1s - loss: 0.1798 - accuracy: 0.93 - ETA: 1s - loss: 0.1799 - accuracy: 0.93 - ETA: 1s - loss: 0.1799 - accuracy: 0.93 - ETA: 1s - loss: 0.1799 - accuracy: 0.93 - ETA: 1s - loss: 0.1799 - accuracy: 0.93 - ETA: 1s - loss: 0.1800 - accuracy: 0.93 - ETA: 1s - loss: 0.1800 - accuracy: 0.93 - ETA: 1s - loss: 0.1800 - accuracy: 0.93 - ETA: 1s - loss: 0.1800 - accuracy: 0.93 - ETA: 1s - loss: 0.1800 - accuracy: 0.93 - ETA: 1s - loss: 0.1801 - accuracy: 0.93 - ETA: 1s - loss: 0.1801 - accuracy: 0.93 - ETA: 1s - loss: 0.1801 - accuracy: 0.93 - ETA: 1s - loss: 0.1801 - accuracy: 0.93 - ETA: 1s - loss: 0.1801 - accuracy: 0.93 - ETA: 1s - loss: 0.1801 - accuracy: 0.93 - ETA: 1s - loss: 0.1801 - accuracy: 0.93 - ETA: 1s - loss: 0.1801 - accuracy: 0.93 - ETA: 0s - loss: 0.1801 - accuracy: 0.93 - ETA: 0s - loss: 0.1802 - accuracy: 0.93 - ETA: 0s - loss: 0.1802 - accuracy: 0.93 - ETA: 0s - loss: 0.1802 - accuracy: 0.93 - ETA: 0s - loss: 0.1801 - accuracy: 0.93 - ETA: 0s - loss: 0.1801 - accuracy: 0.93 - ETA: 0s - loss: 0.1801 - accuracy: 0.93 - ETA: 0s - loss: 0.1801 - accuracy: 0.93 - ETA: 0s - loss: 0.1801 - accuracy: 0.93 - ETA: 0s - loss: 0.1801 - accuracy: 0.93 - ETA: 0s - loss: 0.1801 - accuracy: 0.93 - ETA: 0s - loss: 0.1801 - accuracy: 0.93 - ETA: 0s - loss: 0.1801 - accuracy: 0.93 - ETA: 0s - loss: 0.1801 - accuracy: 0.93 - ETA: 0s - loss: 0.1801 - accuracy: 0.93 - ETA: 0s - loss: 0.1800 - accuracy: 0.93 - ETA: 0s - loss: 0.1800 - accuracy: 0.93 - ETA: 0s - loss: 0.1800 - accuracy: 0.93 - ETA: 0s - loss: 0.1800 - accuracy: 0.93 - 8s 11ms/step - loss: 0.1800 - accuracy: 0.9328 - val_loss: 0.3205 - val_accuracy: 0.8964\n",
      "Epoch 20/100\n"
     ]
    },
    {
     "name": "stdout",
     "output_type": "stream",
     "text": [
      "657/657 [==============================] - ETA: 19s - loss: 0.1212 - accuracy: 0.937 - ETA: 6s - loss: 0.1533 - accuracy: 0.929 - ETA: 6s - loss: 0.1581 - accuracy: 0.93 - ETA: 6s - loss: 0.1579 - accuracy: 0.93 - ETA: 6s - loss: 0.1576 - accuracy: 0.93 - ETA: 6s - loss: 0.1575 - accuracy: 0.93 - ETA: 6s - loss: 0.1578 - accuracy: 0.93 - ETA: 6s - loss: 0.1582 - accuracy: 0.93 - ETA: 6s - loss: 0.1592 - accuracy: 0.93 - ETA: 5s - loss: 0.1601 - accuracy: 0.93 - ETA: 5s - loss: 0.1607 - accuracy: 0.93 - ETA: 5s - loss: 0.1609 - accuracy: 0.93 - ETA: 5s - loss: 0.1613 - accuracy: 0.93 - ETA: 5s - loss: 0.1616 - accuracy: 0.93 - ETA: 5s - loss: 0.1616 - accuracy: 0.93 - ETA: 5s - loss: 0.1616 - accuracy: 0.93 - ETA: 5s - loss: 0.1616 - accuracy: 0.93 - ETA: 5s - loss: 0.1618 - accuracy: 0.93 - ETA: 5s - loss: 0.1618 - accuracy: 0.93 - ETA: 5s - loss: 0.1619 - accuracy: 0.93 - ETA: 5s - loss: 0.1621 - accuracy: 0.93 - ETA: 5s - loss: 0.1622 - accuracy: 0.93 - ETA: 5s - loss: 0.1622 - accuracy: 0.93 - ETA: 5s - loss: 0.1623 - accuracy: 0.93 - ETA: 5s - loss: 0.1624 - accuracy: 0.93 - ETA: 5s - loss: 0.1626 - accuracy: 0.93 - ETA: 5s - loss: 0.1626 - accuracy: 0.93 - ETA: 5s - loss: 0.1627 - accuracy: 0.93 - ETA: 5s - loss: 0.1628 - accuracy: 0.93 - ETA: 5s - loss: 0.1629 - accuracy: 0.93 - ETA: 4s - loss: 0.1630 - accuracy: 0.93 - ETA: 4s - loss: 0.1632 - accuracy: 0.93 - ETA: 4s - loss: 0.1634 - accuracy: 0.93 - ETA: 4s - loss: 0.1636 - accuracy: 0.93 - ETA: 4s - loss: 0.1638 - accuracy: 0.93 - ETA: 4s - loss: 0.1640 - accuracy: 0.93 - ETA: 4s - loss: 0.1642 - accuracy: 0.93 - ETA: 4s - loss: 0.1643 - accuracy: 0.93 - ETA: 4s - loss: 0.1644 - accuracy: 0.93 - ETA: 4s - loss: 0.1645 - accuracy: 0.93 - ETA: 4s - loss: 0.1646 - accuracy: 0.93 - ETA: 4s - loss: 0.1647 - accuracy: 0.93 - ETA: 4s - loss: 0.1647 - accuracy: 0.93 - ETA: 4s - loss: 0.1648 - accuracy: 0.93 - ETA: 4s - loss: 0.1648 - accuracy: 0.93 - ETA: 4s - loss: 0.1649 - accuracy: 0.93 - ETA: 4s - loss: 0.1649 - accuracy: 0.93 - ETA: 4s - loss: 0.1649 - accuracy: 0.93 - ETA: 4s - loss: 0.1650 - accuracy: 0.93 - ETA: 3s - loss: 0.1650 - accuracy: 0.93 - ETA: 3s - loss: 0.1650 - accuracy: 0.93 - ETA: 3s - loss: 0.1650 - accuracy: 0.93 - ETA: 3s - loss: 0.1651 - accuracy: 0.93 - ETA: 3s - loss: 0.1651 - accuracy: 0.93 - ETA: 3s - loss: 0.1651 - accuracy: 0.93 - ETA: 3s - loss: 0.1652 - accuracy: 0.93 - ETA: 3s - loss: 0.1652 - accuracy: 0.93 - ETA: 3s - loss: 0.1652 - accuracy: 0.93 - ETA: 3s - loss: 0.1653 - accuracy: 0.93 - ETA: 3s - loss: 0.1653 - accuracy: 0.93 - ETA: 3s - loss: 0.1654 - accuracy: 0.93 - ETA: 3s - loss: 0.1654 - accuracy: 0.93 - ETA: 3s - loss: 0.1654 - accuracy: 0.93 - ETA: 3s - loss: 0.1654 - accuracy: 0.93 - ETA: 3s - loss: 0.1655 - accuracy: 0.93 - ETA: 3s - loss: 0.1655 - accuracy: 0.93 - ETA: 3s - loss: 0.1655 - accuracy: 0.93 - ETA: 2s - loss: 0.1655 - accuracy: 0.93 - ETA: 2s - loss: 0.1655 - accuracy: 0.93 - ETA: 2s - loss: 0.1656 - accuracy: 0.93 - ETA: 2s - loss: 0.1656 - accuracy: 0.93 - ETA: 2s - loss: 0.1656 - accuracy: 0.93 - ETA: 2s - loss: 0.1656 - accuracy: 0.93 - ETA: 2s - loss: 0.1657 - accuracy: 0.93 - ETA: 2s - loss: 0.1657 - accuracy: 0.93 - ETA: 2s - loss: 0.1657 - accuracy: 0.93 - ETA: 2s - loss: 0.1658 - accuracy: 0.93 - ETA: 2s - loss: 0.1658 - accuracy: 0.93 - ETA: 2s - loss: 0.1658 - accuracy: 0.93 - ETA: 2s - loss: 0.1659 - accuracy: 0.93 - ETA: 2s - loss: 0.1659 - accuracy: 0.93 - ETA: 2s - loss: 0.1659 - accuracy: 0.93 - ETA: 2s - loss: 0.1660 - accuracy: 0.93 - ETA: 2s - loss: 0.1660 - accuracy: 0.93 - ETA: 2s - loss: 0.1660 - accuracy: 0.93 - ETA: 1s - loss: 0.1660 - accuracy: 0.93 - ETA: 1s - loss: 0.1661 - accuracy: 0.93 - ETA: 1s - loss: 0.1661 - accuracy: 0.93 - ETA: 1s - loss: 0.1661 - accuracy: 0.93 - ETA: 1s - loss: 0.1661 - accuracy: 0.93 - ETA: 1s - loss: 0.1661 - accuracy: 0.93 - ETA: 1s - loss: 0.1661 - accuracy: 0.93 - ETA: 1s - loss: 0.1662 - accuracy: 0.93 - ETA: 1s - loss: 0.1662 - accuracy: 0.93 - ETA: 1s - loss: 0.1662 - accuracy: 0.93 - ETA: 1s - loss: 0.1662 - accuracy: 0.93 - ETA: 1s - loss: 0.1663 - accuracy: 0.93 - ETA: 1s - loss: 0.1663 - accuracy: 0.93 - ETA: 1s - loss: 0.1663 - accuracy: 0.93 - ETA: 1s - loss: 0.1664 - accuracy: 0.93 - ETA: 1s - loss: 0.1664 - accuracy: 0.93 - ETA: 1s - loss: 0.1664 - accuracy: 0.93 - ETA: 1s - loss: 0.1664 - accuracy: 0.93 - ETA: 1s - loss: 0.1665 - accuracy: 0.93 - ETA: 0s - loss: 0.1665 - accuracy: 0.93 - ETA: 0s - loss: 0.1665 - accuracy: 0.93 - ETA: 0s - loss: 0.1665 - accuracy: 0.93 - ETA: 0s - loss: 0.1666 - accuracy: 0.93 - ETA: 0s - loss: 0.1666 - accuracy: 0.93 - ETA: 0s - loss: 0.1666 - accuracy: 0.93 - ETA: 0s - loss: 0.1666 - accuracy: 0.93 - ETA: 0s - loss: 0.1667 - accuracy: 0.93 - ETA: 0s - loss: 0.1667 - accuracy: 0.93 - ETA: 0s - loss: 0.1668 - accuracy: 0.93 - ETA: 0s - loss: 0.1668 - accuracy: 0.93 - ETA: 0s - loss: 0.1668 - accuracy: 0.93 - ETA: 0s - loss: 0.1668 - accuracy: 0.93 - ETA: 0s - loss: 0.1669 - accuracy: 0.93 - ETA: 0s - loss: 0.1669 - accuracy: 0.93 - ETA: 0s - loss: 0.1669 - accuracy: 0.93 - ETA: 0s - loss: 0.1670 - accuracy: 0.93 - ETA: 0s - loss: 0.1670 - accuracy: 0.93 - 8s 12ms/step - loss: 0.1670 - accuracy: 0.9357 - val_loss: 0.3470 - val_accuracy: 0.8946\n",
      "Epoch 21/100\n"
     ]
    },
    {
     "name": "stdout",
     "output_type": "stream",
     "text": [
      "657/657 [==============================] - ETA: 19s - loss: 0.2464 - accuracy: 0.921 - ETA: 6s - loss: 0.2203 - accuracy: 0.925 - ETA: 6s - loss: 0.2117 - accuracy: 0.92 - ETA: 6s - loss: 0.2033 - accuracy: 0.93 - ETA: 6s - loss: 0.1975 - accuracy: 0.93 - ETA: 5s - loss: 0.1938 - accuracy: 0.93 - ETA: 6s - loss: 0.1917 - accuracy: 0.93 - ETA: 6s - loss: 0.1894 - accuracy: 0.93 - ETA: 5s - loss: 0.1865 - accuracy: 0.93 - ETA: 6s - loss: 0.1843 - accuracy: 0.93 - ETA: 5s - loss: 0.1827 - accuracy: 0.93 - ETA: 5s - loss: 0.1814 - accuracy: 0.93 - ETA: 5s - loss: 0.1805 - accuracy: 0.93 - ETA: 5s - loss: 0.1798 - accuracy: 0.93 - ETA: 5s - loss: 0.1793 - accuracy: 0.93 - ETA: 5s - loss: 0.1788 - accuracy: 0.93 - ETA: 5s - loss: 0.1786 - accuracy: 0.93 - ETA: 5s - loss: 0.1783 - accuracy: 0.93 - ETA: 5s - loss: 0.1779 - accuracy: 0.93 - ETA: 5s - loss: 0.1778 - accuracy: 0.93 - ETA: 5s - loss: 0.1776 - accuracy: 0.93 - ETA: 5s - loss: 0.1774 - accuracy: 0.93 - ETA: 5s - loss: 0.1772 - accuracy: 0.93 - ETA: 5s - loss: 0.1771 - accuracy: 0.93 - ETA: 4s - loss: 0.1769 - accuracy: 0.93 - ETA: 4s - loss: 0.1769 - accuracy: 0.93 - ETA: 4s - loss: 0.1768 - accuracy: 0.93 - ETA: 4s - loss: 0.1768 - accuracy: 0.93 - ETA: 4s - loss: 0.1769 - accuracy: 0.93 - ETA: 4s - loss: 0.1769 - accuracy: 0.93 - ETA: 4s - loss: 0.1769 - accuracy: 0.93 - ETA: 4s - loss: 0.1769 - accuracy: 0.93 - ETA: 4s - loss: 0.1769 - accuracy: 0.93 - ETA: 4s - loss: 0.1769 - accuracy: 0.93 - ETA: 4s - loss: 0.1769 - accuracy: 0.93 - ETA: 4s - loss: 0.1768 - accuracy: 0.93 - ETA: 4s - loss: 0.1768 - accuracy: 0.93 - ETA: 4s - loss: 0.1768 - accuracy: 0.93 - ETA: 4s - loss: 0.1767 - accuracy: 0.93 - ETA: 4s - loss: 0.1767 - accuracy: 0.93 - ETA: 4s - loss: 0.1767 - accuracy: 0.93 - ETA: 4s - loss: 0.1766 - accuracy: 0.93 - ETA: 4s - loss: 0.1766 - accuracy: 0.93 - ETA: 4s - loss: 0.1766 - accuracy: 0.93 - ETA: 4s - loss: 0.1765 - accuracy: 0.93 - ETA: 4s - loss: 0.1764 - accuracy: 0.93 - ETA: 4s - loss: 0.1764 - accuracy: 0.93 - ETA: 3s - loss: 0.1763 - accuracy: 0.93 - ETA: 3s - loss: 0.1762 - accuracy: 0.93 - ETA: 3s - loss: 0.1760 - accuracy: 0.93 - ETA: 3s - loss: 0.1759 - accuracy: 0.93 - ETA: 3s - loss: 0.1758 - accuracy: 0.93 - ETA: 3s - loss: 0.1757 - accuracy: 0.93 - ETA: 3s - loss: 0.1756 - accuracy: 0.93 - ETA: 3s - loss: 0.1755 - accuracy: 0.93 - ETA: 3s - loss: 0.1753 - accuracy: 0.93 - ETA: 3s - loss: 0.1752 - accuracy: 0.93 - ETA: 3s - loss: 0.1751 - accuracy: 0.93 - ETA: 3s - loss: 0.1750 - accuracy: 0.93 - ETA: 3s - loss: 0.1750 - accuracy: 0.93 - ETA: 3s - loss: 0.1749 - accuracy: 0.93 - ETA: 3s - loss: 0.1748 - accuracy: 0.93 - ETA: 3s - loss: 0.1747 - accuracy: 0.93 - ETA: 3s - loss: 0.1746 - accuracy: 0.93 - ETA: 3s - loss: 0.1745 - accuracy: 0.93 - ETA: 3s - loss: 0.1743 - accuracy: 0.93 - ETA: 2s - loss: 0.1742 - accuracy: 0.93 - ETA: 2s - loss: 0.1741 - accuracy: 0.93 - ETA: 2s - loss: 0.1740 - accuracy: 0.93 - ETA: 2s - loss: 0.1739 - accuracy: 0.93 - ETA: 2s - loss: 0.1738 - accuracy: 0.93 - ETA: 2s - loss: 0.1737 - accuracy: 0.93 - ETA: 2s - loss: 0.1736 - accuracy: 0.93 - ETA: 2s - loss: 0.1735 - accuracy: 0.93 - ETA: 2s - loss: 0.1734 - accuracy: 0.93 - ETA: 2s - loss: 0.1733 - accuracy: 0.93 - ETA: 2s - loss: 0.1733 - accuracy: 0.93 - ETA: 2s - loss: 0.1732 - accuracy: 0.93 - ETA: 2s - loss: 0.1731 - accuracy: 0.93 - ETA: 2s - loss: 0.1730 - accuracy: 0.93 - ETA: 2s - loss: 0.1730 - accuracy: 0.93 - ETA: 2s - loss: 0.1729 - accuracy: 0.93 - ETA: 2s - loss: 0.1728 - accuracy: 0.93 - ETA: 2s - loss: 0.1728 - accuracy: 0.93 - ETA: 2s - loss: 0.1727 - accuracy: 0.93 - ETA: 1s - loss: 0.1726 - accuracy: 0.93 - ETA: 1s - loss: 0.1726 - accuracy: 0.93 - ETA: 1s - loss: 0.1725 - accuracy: 0.93 - ETA: 1s - loss: 0.1725 - accuracy: 0.93 - ETA: 1s - loss: 0.1724 - accuracy: 0.93 - ETA: 1s - loss: 0.1724 - accuracy: 0.93 - ETA: 1s - loss: 0.1723 - accuracy: 0.93 - ETA: 1s - loss: 0.1723 - accuracy: 0.93 - ETA: 1s - loss: 0.1722 - accuracy: 0.93 - ETA: 1s - loss: 0.1722 - accuracy: 0.93 - ETA: 1s - loss: 0.1722 - accuracy: 0.93 - ETA: 1s - loss: 0.1721 - accuracy: 0.93 - ETA: 1s - loss: 0.1720 - accuracy: 0.93 - ETA: 1s - loss: 0.1720 - accuracy: 0.93 - ETA: 1s - loss: 0.1720 - accuracy: 0.93 - ETA: 1s - loss: 0.1719 - accuracy: 0.93 - ETA: 1s - loss: 0.1719 - accuracy: 0.93 - ETA: 1s - loss: 0.1718 - accuracy: 0.93 - ETA: 1s - loss: 0.1718 - accuracy: 0.93 - ETA: 0s - loss: 0.1717 - accuracy: 0.93 - ETA: 0s - loss: 0.1717 - accuracy: 0.93 - ETA: 0s - loss: 0.1717 - accuracy: 0.93 - ETA: 0s - loss: 0.1716 - accuracy: 0.93 - ETA: 0s - loss: 0.1716 - accuracy: 0.93 - ETA: 0s - loss: 0.1716 - accuracy: 0.93 - ETA: 0s - loss: 0.1715 - accuracy: 0.93 - ETA: 0s - loss: 0.1715 - accuracy: 0.93 - ETA: 0s - loss: 0.1715 - accuracy: 0.93 - ETA: 0s - loss: 0.1714 - accuracy: 0.93 - ETA: 0s - loss: 0.1714 - accuracy: 0.93 - ETA: 0s - loss: 0.1714 - accuracy: 0.93 - ETA: 0s - loss: 0.1714 - accuracy: 0.93 - ETA: 0s - loss: 0.1713 - accuracy: 0.93 - ETA: 0s - loss: 0.1713 - accuracy: 0.93 - ETA: 0s - loss: 0.1713 - accuracy: 0.93 - ETA: 0s - loss: 0.1712 - accuracy: 0.93 - ETA: 0s - loss: 0.1712 - accuracy: 0.93 - 8s 11ms/step - loss: 0.1712 - accuracy: 0.9363 - val_loss: 0.3486 - val_accuracy: 0.8944\n",
      "Epoch 22/100\n"
     ]
    },
    {
     "name": "stdout",
     "output_type": "stream",
     "text": [
      "657/657 [==============================] - ETA: 19s - loss: 0.1181 - accuracy: 0.953 - ETA: 6s - loss: 0.1544 - accuracy: 0.942 - ETA: 6s - loss: 0.1510 - accuracy: 0.94 - ETA: 6s - loss: 0.1522 - accuracy: 0.94 - ETA: 6s - loss: 0.1561 - accuracy: 0.94 - ETA: 5s - loss: 0.1581 - accuracy: 0.94 - ETA: 5s - loss: 0.1598 - accuracy: 0.94 - ETA: 5s - loss: 0.1609 - accuracy: 0.94 - ETA: 5s - loss: 0.1617 - accuracy: 0.94 - ETA: 5s - loss: 0.1623 - accuracy: 0.94 - ETA: 5s - loss: 0.1629 - accuracy: 0.94 - ETA: 5s - loss: 0.1635 - accuracy: 0.94 - ETA: 5s - loss: 0.1640 - accuracy: 0.94 - ETA: 5s - loss: 0.1642 - accuracy: 0.94 - ETA: 5s - loss: 0.1645 - accuracy: 0.94 - ETA: 5s - loss: 0.1646 - accuracy: 0.94 - ETA: 5s - loss: 0.1647 - accuracy: 0.94 - ETA: 5s - loss: 0.1647 - accuracy: 0.94 - ETA: 5s - loss: 0.1646 - accuracy: 0.94 - ETA: 5s - loss: 0.1646 - accuracy: 0.94 - ETA: 5s - loss: 0.1645 - accuracy: 0.94 - ETA: 5s - loss: 0.1645 - accuracy: 0.94 - ETA: 5s - loss: 0.1644 - accuracy: 0.93 - ETA: 5s - loss: 0.1644 - accuracy: 0.93 - ETA: 5s - loss: 0.1644 - accuracy: 0.93 - ETA: 4s - loss: 0.1644 - accuracy: 0.93 - ETA: 4s - loss: 0.1644 - accuracy: 0.93 - ETA: 4s - loss: 0.1643 - accuracy: 0.93 - ETA: 4s - loss: 0.1643 - accuracy: 0.93 - ETA: 4s - loss: 0.1642 - accuracy: 0.93 - ETA: 4s - loss: 0.1642 - accuracy: 0.93 - ETA: 4s - loss: 0.1641 - accuracy: 0.93 - ETA: 4s - loss: 0.1640 - accuracy: 0.93 - ETA: 4s - loss: 0.1639 - accuracy: 0.93 - ETA: 4s - loss: 0.1639 - accuracy: 0.93 - ETA: 4s - loss: 0.1638 - accuracy: 0.93 - ETA: 4s - loss: 0.1637 - accuracy: 0.93 - ETA: 4s - loss: 0.1636 - accuracy: 0.93 - ETA: 4s - loss: 0.1635 - accuracy: 0.93 - ETA: 4s - loss: 0.1634 - accuracy: 0.93 - ETA: 4s - loss: 0.1633 - accuracy: 0.93 - ETA: 4s - loss: 0.1632 - accuracy: 0.93 - ETA: 4s - loss: 0.1631 - accuracy: 0.93 - ETA: 4s - loss: 0.1630 - accuracy: 0.93 - ETA: 3s - loss: 0.1629 - accuracy: 0.93 - ETA: 3s - loss: 0.1628 - accuracy: 0.93 - ETA: 3s - loss: 0.1627 - accuracy: 0.93 - ETA: 3s - loss: 0.1626 - accuracy: 0.93 - ETA: 3s - loss: 0.1625 - accuracy: 0.93 - ETA: 3s - loss: 0.1624 - accuracy: 0.93 - ETA: 3s - loss: 0.1624 - accuracy: 0.93 - ETA: 3s - loss: 0.1623 - accuracy: 0.93 - ETA: 3s - loss: 0.1622 - accuracy: 0.93 - ETA: 3s - loss: 0.1622 - accuracy: 0.93 - ETA: 3s - loss: 0.1621 - accuracy: 0.93 - ETA: 3s - loss: 0.1621 - accuracy: 0.93 - ETA: 3s - loss: 0.1620 - accuracy: 0.93 - ETA: 3s - loss: 0.1619 - accuracy: 0.93 - ETA: 3s - loss: 0.1618 - accuracy: 0.93 - ETA: 3s - loss: 0.1618 - accuracy: 0.93 - ETA: 3s - loss: 0.1617 - accuracy: 0.93 - ETA: 3s - loss: 0.1616 - accuracy: 0.93 - ETA: 3s - loss: 0.1615 - accuracy: 0.93 - ETA: 3s - loss: 0.1614 - accuracy: 0.93 - ETA: 2s - loss: 0.1613 - accuracy: 0.93 - ETA: 2s - loss: 0.1612 - accuracy: 0.93 - ETA: 2s - loss: 0.1612 - accuracy: 0.93 - ETA: 2s - loss: 0.1611 - accuracy: 0.93 - ETA: 2s - loss: 0.1611 - accuracy: 0.93 - ETA: 2s - loss: 0.1610 - accuracy: 0.93 - ETA: 2s - loss: 0.1609 - accuracy: 0.93 - ETA: 2s - loss: 0.1609 - accuracy: 0.93 - ETA: 2s - loss: 0.1608 - accuracy: 0.93 - ETA: 2s - loss: 0.1608 - accuracy: 0.93 - ETA: 2s - loss: 0.1607 - accuracy: 0.93 - ETA: 2s - loss: 0.1607 - accuracy: 0.93 - ETA: 2s - loss: 0.1607 - accuracy: 0.93 - ETA: 2s - loss: 0.1606 - accuracy: 0.93 - ETA: 2s - loss: 0.1606 - accuracy: 0.93 - ETA: 2s - loss: 0.1606 - accuracy: 0.93 - ETA: 2s - loss: 0.1606 - accuracy: 0.93 - ETA: 2s - loss: 0.1606 - accuracy: 0.93 - ETA: 1s - loss: 0.1606 - accuracy: 0.93 - ETA: 1s - loss: 0.1606 - accuracy: 0.93 - ETA: 1s - loss: 0.1606 - accuracy: 0.93 - ETA: 1s - loss: 0.1606 - accuracy: 0.93 - ETA: 1s - loss: 0.1606 - accuracy: 0.93 - ETA: 1s - loss: 0.1606 - accuracy: 0.93 - ETA: 1s - loss: 0.1606 - accuracy: 0.93 - ETA: 1s - loss: 0.1606 - accuracy: 0.93 - ETA: 1s - loss: 0.1606 - accuracy: 0.93 - ETA: 1s - loss: 0.1606 - accuracy: 0.93 - ETA: 1s - loss: 0.1606 - accuracy: 0.93 - ETA: 1s - loss: 0.1607 - accuracy: 0.93 - ETA: 1s - loss: 0.1607 - accuracy: 0.93 - ETA: 1s - loss: 0.1607 - accuracy: 0.93 - ETA: 1s - loss: 0.1607 - accuracy: 0.93 - ETA: 1s - loss: 0.1607 - accuracy: 0.93 - ETA: 1s - loss: 0.1608 - accuracy: 0.93 - ETA: 1s - loss: 0.1608 - accuracy: 0.93 - ETA: 1s - loss: 0.1608 - accuracy: 0.93 - ETA: 0s - loss: 0.1608 - accuracy: 0.93 - ETA: 0s - loss: 0.1608 - accuracy: 0.93 - ETA: 0s - loss: 0.1609 - accuracy: 0.93 - ETA: 0s - loss: 0.1609 - accuracy: 0.93 - ETA: 0s - loss: 0.1609 - accuracy: 0.93 - ETA: 0s - loss: 0.1609 - accuracy: 0.93 - ETA: 0s - loss: 0.1609 - accuracy: 0.93 - ETA: 0s - loss: 0.1609 - accuracy: 0.93 - ETA: 0s - loss: 0.1609 - accuracy: 0.93 - ETA: 0s - loss: 0.1609 - accuracy: 0.93 - ETA: 0s - loss: 0.1609 - accuracy: 0.93 - ETA: 0s - loss: 0.1609 - accuracy: 0.93 - ETA: 0s - loss: 0.1609 - accuracy: 0.93 - ETA: 0s - loss: 0.1609 - accuracy: 0.93 - ETA: 0s - loss: 0.1609 - accuracy: 0.93 - ETA: 0s - loss: 0.1609 - accuracy: 0.93 - ETA: 0s - loss: 0.1609 - accuracy: 0.93 - ETA: 0s - loss: 0.1609 - accuracy: 0.93 - ETA: 0s - loss: 0.1609 - accuracy: 0.93 - 7s 11ms/step - loss: 0.1609 - accuracy: 0.9387 - val_loss: 0.3623 - val_accuracy: 0.8904\n",
      "Epoch 23/100\n"
     ]
    },
    {
     "name": "stdout",
     "output_type": "stream",
     "text": [
      "657/657 [==============================] - ETA: 24s - loss: 0.1643 - accuracy: 0.937 - ETA: 6s - loss: 0.2200 - accuracy: 0.935 - ETA: 6s - loss: 0.1994 - accuracy: 0.94 - ETA: 6s - loss: 0.1870 - accuracy: 0.94 - ETA: 6s - loss: 0.1813 - accuracy: 0.94 - ETA: 6s - loss: 0.1778 - accuracy: 0.94 - ETA: 6s - loss: 0.1751 - accuracy: 0.94 - ETA: 6s - loss: 0.1736 - accuracy: 0.94 - ETA: 6s - loss: 0.1720 - accuracy: 0.94 - ETA: 6s - loss: 0.1704 - accuracy: 0.94 - ETA: 6s - loss: 0.1691 - accuracy: 0.94 - ETA: 6s - loss: 0.1681 - accuracy: 0.94 - ETA: 6s - loss: 0.1674 - accuracy: 0.94 - ETA: 6s - loss: 0.1670 - accuracy: 0.94 - ETA: 6s - loss: 0.1669 - accuracy: 0.94 - ETA: 5s - loss: 0.1669 - accuracy: 0.94 - ETA: 5s - loss: 0.1669 - accuracy: 0.94 - ETA: 5s - loss: 0.1668 - accuracy: 0.94 - ETA: 6s - loss: 0.1668 - accuracy: 0.94 - ETA: 6s - loss: 0.1667 - accuracy: 0.94 - ETA: 6s - loss: 0.1665 - accuracy: 0.94 - ETA: 5s - loss: 0.1662 - accuracy: 0.94 - ETA: 5s - loss: 0.1661 - accuracy: 0.94 - ETA: 5s - loss: 0.1661 - accuracy: 0.94 - ETA: 5s - loss: 0.1660 - accuracy: 0.94 - ETA: 5s - loss: 0.1659 - accuracy: 0.94 - ETA: 5s - loss: 0.1658 - accuracy: 0.94 - ETA: 5s - loss: 0.1657 - accuracy: 0.94 - ETA: 5s - loss: 0.1656 - accuracy: 0.94 - ETA: 5s - loss: 0.1654 - accuracy: 0.94 - ETA: 5s - loss: 0.1653 - accuracy: 0.94 - ETA: 5s - loss: 0.1652 - accuracy: 0.94 - ETA: 5s - loss: 0.1650 - accuracy: 0.94 - ETA: 5s - loss: 0.1649 - accuracy: 0.94 - ETA: 5s - loss: 0.1649 - accuracy: 0.94 - ETA: 5s - loss: 0.1648 - accuracy: 0.94 - ETA: 5s - loss: 0.1648 - accuracy: 0.94 - ETA: 5s - loss: 0.1648 - accuracy: 0.94 - ETA: 5s - loss: 0.1648 - accuracy: 0.94 - ETA: 5s - loss: 0.1647 - accuracy: 0.94 - ETA: 5s - loss: 0.1646 - accuracy: 0.94 - ETA: 4s - loss: 0.1645 - accuracy: 0.94 - ETA: 4s - loss: 0.1644 - accuracy: 0.94 - ETA: 4s - loss: 0.1644 - accuracy: 0.94 - ETA: 4s - loss: 0.1643 - accuracy: 0.94 - ETA: 4s - loss: 0.1642 - accuracy: 0.94 - ETA: 4s - loss: 0.1641 - accuracy: 0.94 - ETA: 4s - loss: 0.1641 - accuracy: 0.94 - ETA: 4s - loss: 0.1640 - accuracy: 0.94 - ETA: 4s - loss: 0.1639 - accuracy: 0.94 - ETA: 4s - loss: 0.1639 - accuracy: 0.94 - ETA: 4s - loss: 0.1638 - accuracy: 0.94 - ETA: 4s - loss: 0.1637 - accuracy: 0.94 - ETA: 4s - loss: 0.1636 - accuracy: 0.94 - ETA: 4s - loss: 0.1635 - accuracy: 0.94 - ETA: 4s - loss: 0.1634 - accuracy: 0.94 - ETA: 4s - loss: 0.1633 - accuracy: 0.94 - ETA: 4s - loss: 0.1632 - accuracy: 0.94 - ETA: 4s - loss: 0.1631 - accuracy: 0.94 - ETA: 4s - loss: 0.1630 - accuracy: 0.94 - ETA: 4s - loss: 0.1629 - accuracy: 0.94 - ETA: 3s - loss: 0.1629 - accuracy: 0.94 - ETA: 3s - loss: 0.1628 - accuracy: 0.94 - ETA: 3s - loss: 0.1627 - accuracy: 0.94 - ETA: 3s - loss: 0.1627 - accuracy: 0.94 - ETA: 3s - loss: 0.1627 - accuracy: 0.94 - ETA: 3s - loss: 0.1626 - accuracy: 0.94 - ETA: 3s - loss: 0.1626 - accuracy: 0.94 - ETA: 3s - loss: 0.1625 - accuracy: 0.94 - ETA: 3s - loss: 0.1625 - accuracy: 0.94 - ETA: 3s - loss: 0.1625 - accuracy: 0.94 - ETA: 3s - loss: 0.1625 - accuracy: 0.94 - ETA: 3s - loss: 0.1625 - accuracy: 0.94 - ETA: 3s - loss: 0.1625 - accuracy: 0.94 - ETA: 3s - loss: 0.1624 - accuracy: 0.94 - ETA: 3s - loss: 0.1624 - accuracy: 0.94 - ETA: 3s - loss: 0.1624 - accuracy: 0.94 - ETA: 3s - loss: 0.1624 - accuracy: 0.94 - ETA: 3s - loss: 0.1624 - accuracy: 0.94 - ETA: 3s - loss: 0.1624 - accuracy: 0.94 - ETA: 3s - loss: 0.1624 - accuracy: 0.94 - ETA: 2s - loss: 0.1624 - accuracy: 0.94 - ETA: 2s - loss: 0.1624 - accuracy: 0.94 - ETA: 2s - loss: 0.1624 - accuracy: 0.94 - ETA: 2s - loss: 0.1623 - accuracy: 0.94 - ETA: 2s - loss: 0.1623 - accuracy: 0.94 - ETA: 2s - loss: 0.1623 - accuracy: 0.94 - ETA: 2s - loss: 0.1623 - accuracy: 0.94 - ETA: 2s - loss: 0.1623 - accuracy: 0.94 - ETA: 2s - loss: 0.1622 - accuracy: 0.94 - ETA: 2s - loss: 0.1622 - accuracy: 0.94 - ETA: 2s - loss: 0.1622 - accuracy: 0.94 - ETA: 2s - loss: 0.1622 - accuracy: 0.94 - ETA: 2s - loss: 0.1622 - accuracy: 0.94 - ETA: 2s - loss: 0.1622 - accuracy: 0.94 - ETA: 2s - loss: 0.1622 - accuracy: 0.94 - ETA: 2s - loss: 0.1622 - accuracy: 0.94 - ETA: 2s - loss: 0.1622 - accuracy: 0.94 - ETA: 1s - loss: 0.1622 - accuracy: 0.94 - ETA: 1s - loss: 0.1622 - accuracy: 0.94 - ETA: 1s - loss: 0.1622 - accuracy: 0.94 - ETA: 1s - loss: 0.1622 - accuracy: 0.94 - ETA: 1s - loss: 0.1622 - accuracy: 0.94 - ETA: 1s - loss: 0.1623 - accuracy: 0.94 - ETA: 1s - loss: 0.1623 - accuracy: 0.94 - ETA: 1s - loss: 0.1623 - accuracy: 0.94 - ETA: 1s - loss: 0.1623 - accuracy: 0.94 - ETA: 1s - loss: 0.1623 - accuracy: 0.94 - ETA: 1s - loss: 0.1623 - accuracy: 0.94 - ETA: 1s - loss: 0.1623 - accuracy: 0.94 - ETA: 1s - loss: 0.1623 - accuracy: 0.94 - ETA: 1s - loss: 0.1624 - accuracy: 0.94 - ETA: 1s - loss: 0.1624 - accuracy: 0.94 - ETA: 1s - loss: 0.1624 - accuracy: 0.94 - ETA: 0s - loss: 0.1624 - accuracy: 0.94 - ETA: 0s - loss: 0.1624 - accuracy: 0.94 - ETA: 0s - loss: 0.1624 - accuracy: 0.94 - ETA: 0s - loss: 0.1624 - accuracy: 0.94 - ETA: 0s - loss: 0.1624 - accuracy: 0.94 - ETA: 0s - loss: 0.1624 - accuracy: 0.94 - ETA: 0s - loss: 0.1624 - accuracy: 0.94 - ETA: 0s - loss: 0.1624 - accuracy: 0.94 - ETA: 0s - loss: 0.1624 - accuracy: 0.94 - ETA: 0s - loss: 0.1624 - accuracy: 0.94 - ETA: 0s - loss: 0.1624 - accuracy: 0.94 - ETA: 0s - loss: 0.1624 - accuracy: 0.94 - ETA: 0s - loss: 0.1624 - accuracy: 0.94 - ETA: 0s - loss: 0.1624 - accuracy: 0.94 - ETA: 0s - loss: 0.1624 - accuracy: 0.94 - ETA: 0s - loss: 0.1624 - accuracy: 0.94 - ETA: 0s - loss: 0.1623 - accuracy: 0.94 - 8s 12ms/step - loss: 0.1623 - accuracy: 0.9407 - val_loss: 0.3382 - val_accuracy: 0.9026\n"
     ]
    }
   ],
   "source": [
    "model = tf.keras.Sequential([\n",
    "        tf.keras.layers.Flatten(input_shape=(28,28,1)),\n",
    "        tf.keras.layers.Dense(256, activation = 'relu'),\n",
    "        tf.keras.layers.Dense(128, activation = 'relu'),\n",
    "        tf.keras.layers.Dense(64, activation = 'relu'),\n",
    "        tf.keras.layers.Dense(10, activation = 'softmax')\n",
    "])\n",
    "\n",
    "model.compile(optimizer='adam',\n",
    "              loss='sparse_categorical_crossentropy',\n",
    "              metrics=['accuracy'])\n",
    "\n",
    "# Stop training when there is no improvement in the validation loss for 10 consecutive epochs\n",
    "early_stopping = tf.keras.callbacks.EarlyStopping(monitor='val_loss', patience=10)\n",
    "\n",
    "# Save the Model with the lowest validation loss\n",
    "save_best = tf.keras.callbacks.ModelCheckpoint('./best_model.h5',\n",
    "                                               monitor='val_loss',\n",
    "                                               save_best_only=True)\n",
    "\n",
    "history = model.fit(training_batches,\n",
    "                    epochs = 100,\n",
    "                    validation_data=validation_batches,\n",
    "                    callbacks=[early_stopping, save_best])"
   ]
  },
  {
   "cell_type": "code",
   "execution_count": null,
   "metadata": {
    "colab": {},
    "colab_type": "code",
    "id": "sz4snGQsR2Mg"
   },
   "outputs": [],
   "source": []
  }
 ],
 "metadata": {
  "accelerator": "GPU",
  "colab": {
   "collapsed_sections": [],
   "name": "Part 6 - Saving and Loading Models.ipynb",
   "provenance": []
  },
  "kernelspec": {
   "display_name": "Python 3",
   "language": "python",
   "name": "python3"
  },
  "language_info": {
   "codemirror_mode": {
    "name": "ipython",
    "version": 3
   },
   "file_extension": ".py",
   "mimetype": "text/x-python",
   "name": "python",
   "nbconvert_exporter": "python",
   "pygments_lexer": "ipython3",
   "version": "3.8.3"
  }
 },
 "nbformat": 4,
 "nbformat_minor": 1
}
